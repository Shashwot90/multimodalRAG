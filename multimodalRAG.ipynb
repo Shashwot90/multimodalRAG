{
  "cells": [
    {
      "cell_type": "markdown",
      "metadata": {
        "id": "dn6_x1EqaFrB"
      },
      "source": [
        "# Multi-modal RAG with LangChain"
      ]
    },
    {
      "cell_type": "markdown",
      "metadata": {
        "id": "FubTD_gna09W"
      },
      "source": [
        "# Setup"
      ]
    },
    {
      "cell_type": "markdown",
      "metadata": {
        "id": "5CrS69hp2p4R"
      },
      "source": [
        "Install the dependencies you need to run the notebook."
      ]
    },
    {
      "cell_type": "code",
      "execution_count": null,
      "metadata": {
        "colab": {
          "base_uri": "https://localhost:8080/"
        },
        "id": "WMeEcmLtpbOB",
        "outputId": "67893971-bf16-4c0d-b231-cb1603fd4f47"
      },
      "outputs": [
        {
          "name": "stdout",
          "output_type": "stream",
          "text": [
            "Reading package lists... Done\n",
            "Building dependency tree... Done\n",
            "Reading state information... Done\n",
            "tesseract-ocr is already the newest version (4.1.1-2.1build1).\n",
            "The following NEW packages will be installed:\n",
            "  libmagic-dev poppler-utils\n",
            "0 upgraded, 2 newly installed, 0 to remove and 34 not upgraded.\n",
            "Need to get 291 kB of archives.\n",
            "After this operation, 1,086 kB of additional disk space will be used.\n",
            "Get:1 http://archive.ubuntu.com/ubuntu jammy-updates/main amd64 libmagic-dev amd64 1:5.41-3ubuntu0.1 [105 kB]\n",
            "Get:2 http://archive.ubuntu.com/ubuntu jammy-updates/main amd64 poppler-utils amd64 22.02.0-2ubuntu0.8 [186 kB]\n",
            "Fetched 291 kB in 0s (1,293 kB/s)\n",
            "Selecting previously unselected package libmagic-dev:amd64.\n",
            "(Reading database ... 126102 files and directories currently installed.)\n",
            "Preparing to unpack .../libmagic-dev_1%3a5.41-3ubuntu0.1_amd64.deb ...\n",
            "Unpacking libmagic-dev:amd64 (1:5.41-3ubuntu0.1) ...\n",
            "Selecting previously unselected package poppler-utils.\n",
            "Preparing to unpack .../poppler-utils_22.02.0-2ubuntu0.8_amd64.deb ...\n",
            "Unpacking poppler-utils (22.02.0-2ubuntu0.8) ...\n",
            "Setting up libmagic-dev:amd64 (1:5.41-3ubuntu0.1) ...\n",
            "Setting up poppler-utils (22.02.0-2ubuntu0.8) ...\n",
            "Processing triggers for man-db (2.10.2-1) ...\n"
          ]
        }
      ],
      "source": [
        "!apt-get install poppler-utils tesseract-ocr libmagic-dev"
      ]
    },
    {
      "cell_type": "code",
      "execution_count": null,
      "metadata": {
        "colab": {
          "base_uri": "https://localhost:8080/"
        },
        "id": "5B1Vw4HBZZIO",
        "outputId": "26c2a1e2-d824-4bd1-8ee2-958f30e67502"
      },
      "outputs": [
        {
          "name": "stdout",
          "output_type": "stream",
          "text": [
            "\u001b[?25l     \u001b[90m━━━━━━━━━━━━━━━━━━━━━━━━━━━━━━━━━━━━━━━━\u001b[0m \u001b[32m0.0/981.5 kB\u001b[0m \u001b[31m?\u001b[0m eta \u001b[36m-:--:--\u001b[0m\r\u001b[2K     \u001b[91m━━━━━━━━━━━━━━━\u001b[0m\u001b[90m╺\u001b[0m\u001b[90m━━━━━━━━━━━━━━━━━━━━━━\u001b[0m \u001b[32m399.4/981.5 kB\u001b[0m \u001b[31m12.1 MB/s\u001b[0m eta \u001b[36m0:00:01\u001b[0m\r\u001b[2K     \u001b[90m━━━━━━━━━━━━━━━━━━━━━━━━━━━━━━━━━━━━━━\u001b[0m \u001b[32m981.5/981.5 kB\u001b[0m \u001b[31m14.3 MB/s\u001b[0m eta \u001b[36m0:00:00\u001b[0m\n",
            "\u001b[?25h  Preparing metadata (setup.py) ... \u001b[?25l\u001b[?25hdone\n",
            "\u001b[2K     \u001b[90m━━━━━━━━━━━━━━━━━━━━━━━━━━━━━━━━━━━━━━━━\u001b[0m \u001b[32m48.2/48.2 kB\u001b[0m \u001b[31m2.1 MB/s\u001b[0m eta \u001b[36m0:00:00\u001b[0m\n",
            "\u001b[2K   \u001b[90m━━━━━━━━━━━━━━━━━━━━━━━━━━━━━━━━━━━━━━━━\u001b[0m \u001b[32m17.6/17.6 MB\u001b[0m \u001b[31m68.6 MB/s\u001b[0m eta \u001b[36m0:00:00\u001b[0m\n",
            "\u001b[2K   \u001b[90m━━━━━━━━━━━━━━━━━━━━━━━━━━━━━━━━━━━━━━━━\u001b[0m \u001b[32m16.4/16.4 MB\u001b[0m \u001b[31m86.2 MB/s\u001b[0m eta \u001b[36m0:00:00\u001b[0m\n",
            "\u001b[2K   \u001b[90m━━━━━━━━━━━━━━━━━━━━━━━━━━━━━━━━━━━━━━━━\u001b[0m \u001b[32m244.3/244.3 kB\u001b[0m \u001b[31m13.0 MB/s\u001b[0m eta \u001b[36m0:00:00\u001b[0m\n",
            "\u001b[2K   \u001b[90m━━━━━━━━━━━━━━━━━━━━━━━━━━━━━━━━━━━━━━━━\u001b[0m \u001b[32m472.8/472.8 kB\u001b[0m \u001b[31m23.1 MB/s\u001b[0m eta \u001b[36m0:00:00\u001b[0m\n",
            "\u001b[2K   \u001b[90m━━━━━━━━━━━━━━━━━━━━━━━━━━━━━━━━━━━━━━━━\u001b[0m \u001b[32m47.6/47.6 kB\u001b[0m \u001b[31m2.4 MB/s\u001b[0m eta \u001b[36m0:00:00\u001b[0m\n",
            "\u001b[2K   \u001b[90m━━━━━━━━━━━━━━━━━━━━━━━━━━━━━━━━━━━━━━━━\u001b[0m \u001b[32m112.5/112.5 kB\u001b[0m \u001b[31m5.9 MB/s\u001b[0m eta \u001b[36m0:00:00\u001b[0m\n",
            "\u001b[2K   \u001b[90m━━━━━━━━━━━━━━━━━━━━━━━━━━━━━━━━━━━━━━━━\u001b[0m \u001b[32m590.6/590.6 kB\u001b[0m \u001b[31m26.3 MB/s\u001b[0m eta \u001b[36m0:00:00\u001b[0m\n",
            "\u001b[2K   \u001b[90m━━━━━━━━━━━━━━━━━━━━━━━━━━━━━━━━━━━━━━━━\u001b[0m \u001b[32m526.1/526.1 kB\u001b[0m \u001b[31m27.2 MB/s\u001b[0m eta \u001b[36m0:00:00\u001b[0m\n",
            "\u001b[2K   \u001b[90m━━━━━━━━━━━━━━━━━━━━━━━━━━━━━━━━━━━━━━━━\u001b[0m \u001b[32m5.6/5.6 MB\u001b[0m \u001b[31m58.7 MB/s\u001b[0m eta \u001b[36m0:00:00\u001b[0m\n",
            "\u001b[2K   \u001b[90m━━━━━━━━━━━━━━━━━━━━━━━━━━━━━━━━━━━━━━━━\u001b[0m \u001b[32m1.2/1.2 MB\u001b[0m \u001b[31m45.2 MB/s\u001b[0m eta \u001b[36m0:00:00\u001b[0m\n",
            "\u001b[2K   \u001b[90m━━━━━━━━━━━━━━━━━━━━━━━━━━━━━━━━━━━━━━━━\u001b[0m \u001b[32m2.4/2.4 MB\u001b[0m \u001b[31m64.8 MB/s\u001b[0m eta \u001b[36m0:00:00\u001b[0m\n",
            "\u001b[2K   \u001b[90m━━━━━━━━━━━━━━━━━━━━━━━━━━━━━━━━━━━━━━━━\u001b[0m \u001b[32m303.4/303.4 kB\u001b[0m \u001b[31m14.3 MB/s\u001b[0m eta \u001b[36m0:00:00\u001b[0m\n",
            "\u001b[2K   \u001b[90m━━━━━━━━━━━━━━━━━━━━━━━━━━━━━━━━━━━━━━━━\u001b[0m \u001b[32m167.6/167.6 kB\u001b[0m \u001b[31m10.0 MB/s\u001b[0m eta \u001b[36m0:00:00\u001b[0m\n",
            "\u001b[2K   \u001b[90m━━━━━━━━━━━━━━━━━━━━━━━━━━━━━━━━━━━━━━━━\u001b[0m \u001b[32m3.1/3.1 MB\u001b[0m \u001b[31m75.4 MB/s\u001b[0m eta \u001b[36m0:00:00\u001b[0m\n",
            "\u001b[2K   \u001b[90m━━━━━━━━━━━━━━━━━━━━━━━━━━━━━━━━━━━━━━━━\u001b[0m \u001b[32m1.8/1.8 MB\u001b[0m \u001b[31m56.7 MB/s\u001b[0m eta \u001b[36m0:00:00\u001b[0m\n",
            "\u001b[2K   \u001b[90m━━━━━━━━━━━━━━━━━━━━━━━━━━━━━━━━━━━━━━━━\u001b[0m \u001b[32m192.1/192.1 kB\u001b[0m \u001b[31m10.7 MB/s\u001b[0m eta \u001b[36m0:00:00\u001b[0m\n",
            "\u001b[2K   \u001b[90m━━━━━━━━━━━━━━━━━━━━━━━━━━━━━━━━━━━━━━━━\u001b[0m \u001b[32m50.9/50.9 kB\u001b[0m \u001b[31m2.4 MB/s\u001b[0m eta \u001b[36m0:00:00\u001b[0m\n",
            "\u001b[2K   \u001b[90m━━━━━━━━━━━━━━━━━━━━━━━━━━━━━━━━━━━━━━━━\u001b[0m \u001b[32m363.4/363.4 MB\u001b[0m \u001b[31m1.9 MB/s\u001b[0m eta \u001b[36m0:00:00\u001b[0m\n",
            "\u001b[2K   \u001b[90m━━━━━━━━━━━━━━━━━━━━━━━━━━━━━━━━━━━━━━━━\u001b[0m \u001b[32m13.8/13.8 MB\u001b[0m \u001b[31m100.5 MB/s\u001b[0m eta \u001b[36m0:00:00\u001b[0m\n",
            "\u001b[2K   \u001b[90m━━━━━━━━━━━━━━━━━━━━━━━━━━━━━━━━━━━━━━━━\u001b[0m \u001b[32m24.6/24.6 MB\u001b[0m \u001b[31m69.4 MB/s\u001b[0m eta \u001b[36m0:00:00\u001b[0m\n",
            "\u001b[2K   \u001b[90m━━━━━━━━━━━━━━━━━━━━━━━━━━━━━━━━━━━━━━━━\u001b[0m \u001b[32m883.7/883.7 kB\u001b[0m \u001b[31m38.5 MB/s\u001b[0m eta \u001b[36m0:00:00\u001b[0m\n",
            "\u001b[2K   \u001b[90m━━━━━━━━━━━━━━━━━━━━━━━━━━━━━━━━━━━━━━━━\u001b[0m \u001b[32m664.8/664.8 MB\u001b[0m \u001b[31m2.9 MB/s\u001b[0m eta \u001b[36m0:00:00\u001b[0m\n",
            "\u001b[2K   \u001b[90m━━━━━━━━━━━━━━━━━━━━━━━━━━━━━━━━━━━━━━━━\u001b[0m \u001b[32m211.5/211.5 MB\u001b[0m \u001b[31m5.3 MB/s\u001b[0m eta \u001b[36m0:00:00\u001b[0m\n",
            "\u001b[2K   \u001b[90m━━━━━━━━━━━━━━━━━━━━━━━━━━━━━━━━━━━━━━━━\u001b[0m \u001b[32m56.3/56.3 MB\u001b[0m \u001b[31m11.7 MB/s\u001b[0m eta \u001b[36m0:00:00\u001b[0m\n",
            "\u001b[2K   \u001b[90m━━━━━━━━━━━━━━━━━━━━━━━━━━━━━━━━━━━━━━━━\u001b[0m \u001b[32m127.9/127.9 MB\u001b[0m \u001b[31m7.8 MB/s\u001b[0m eta \u001b[36m0:00:00\u001b[0m\n",
            "\u001b[2K   \u001b[90m━━━━━━━━━━━━━━━━━━━━━━━━━━━━━━━━━━━━━━━━\u001b[0m \u001b[32m207.5/207.5 MB\u001b[0m \u001b[31m6.0 MB/s\u001b[0m eta \u001b[36m0:00:00\u001b[0m\n",
            "\u001b[2K   \u001b[90m━━━━━━━━━━━━━━━━━━━━━━━━━━━━━━━━━━━━━━━━\u001b[0m \u001b[32m21.1/21.1 MB\u001b[0m \u001b[31m78.8 MB/s\u001b[0m eta \u001b[36m0:00:00\u001b[0m\n",
            "\u001b[2K   \u001b[90m━━━━━━━━━━━━━━━━━━━━━━━━━━━━━━━━━━━━━━━━\u001b[0m \u001b[32m169.4/169.4 kB\u001b[0m \u001b[31m10.9 MB/s\u001b[0m eta \u001b[36m0:00:00\u001b[0m\n",
            "\u001b[2K   \u001b[90m━━━━━━━━━━━━━━━━━━━━━━━━━━━━━━━━━━━━━━━━\u001b[0m \u001b[32m46.0/46.0 kB\u001b[0m \u001b[31m2.7 MB/s\u001b[0m eta \u001b[36m0:00:00\u001b[0m\n",
            "\u001b[2K   \u001b[90m━━━━━━━━━━━━━━━━━━━━━━━━━━━━━━━━━━━━━━━━\u001b[0m \u001b[32m114.6/114.6 kB\u001b[0m \u001b[31m8.0 MB/s\u001b[0m eta \u001b[36m0:00:00\u001b[0m\n",
            "\u001b[2K   \u001b[90m━━━━━━━━━━━━━━━━━━━━━━━━━━━━━━━━━━━━━━━━\u001b[0m \u001b[32m2.9/2.9 MB\u001b[0m \u001b[31m67.3 MB/s\u001b[0m eta \u001b[36m0:00:00\u001b[0m\n",
            "\u001b[2K   \u001b[90m━━━━━━━━━━━━━━━━━━━━━━━━━━━━━━━━━━━━━━━━\u001b[0m \u001b[32m86.8/86.8 kB\u001b[0m \u001b[31m5.1 MB/s\u001b[0m eta \u001b[36m0:00:00\u001b[0m\n",
            "\u001b[?25h  Building wheel for langdetect (setup.py) ... \u001b[?25l\u001b[?25hdone\n",
            "\u001b[2K     \u001b[90m━━━━━━━━━━━━━━━━━━━━━━━━━━━━━━━━━━━━━━━━\u001b[0m \u001b[32m67.3/67.3 kB\u001b[0m \u001b[31m2.7 MB/s\u001b[0m eta \u001b[36m0:00:00\u001b[0m\n",
            "\u001b[?25h  Installing build dependencies ... \u001b[?25l\u001b[?25hdone\n",
            "  Getting requirements to build wheel ... \u001b[?25l\u001b[?25hdone\n",
            "  Preparing metadata (pyproject.toml) ... \u001b[?25l\u001b[?25hdone\n",
            "\u001b[2K   \u001b[90m━━━━━━━━━━━━━━━━━━━━━━━━━━━━━━━━━━━━━━━━\u001b[0m \u001b[32m18.9/18.9 MB\u001b[0m \u001b[31m82.3 MB/s\u001b[0m eta \u001b[36m0:00:00\u001b[0m\n",
            "\u001b[2K   \u001b[90m━━━━━━━━━━━━━━━━━━━━━━━━━━━━━━━━━━━━━━━━\u001b[0m \u001b[32m94.9/94.9 kB\u001b[0m \u001b[31m6.2 MB/s\u001b[0m eta \u001b[36m0:00:00\u001b[0m\n",
            "\u001b[2K   \u001b[90m━━━━━━━━━━━━━━━━━━━━━━━━━━━━━━━━━━━━━━━━\u001b[0m \u001b[32m284.2/284.2 kB\u001b[0m \u001b[31m16.5 MB/s\u001b[0m eta \u001b[36m0:00:00\u001b[0m\n",
            "\u001b[2K   \u001b[90m━━━━━━━━━━━━━━━━━━━━━━━━━━━━━━━━━━━━━━━━\u001b[0m \u001b[32m2.0/2.0 MB\u001b[0m \u001b[31m66.4 MB/s\u001b[0m eta \u001b[36m0:00:00\u001b[0m\n",
            "\u001b[2K   \u001b[90m━━━━━━━━━━━━━━━━━━━━━━━━━━━━━━━━━━━━━━━━\u001b[0m \u001b[32m101.6/101.6 kB\u001b[0m \u001b[31m6.1 MB/s\u001b[0m eta \u001b[36m0:00:00\u001b[0m\n",
            "\u001b[2K   \u001b[90m━━━━━━━━━━━━━━━━━━━━━━━━━━━━━━━━━━━━━━━━\u001b[0m \u001b[32m65.8/65.8 kB\u001b[0m \u001b[31m3.9 MB/s\u001b[0m eta \u001b[36m0:00:00\u001b[0m\n",
            "\u001b[2K   \u001b[90m━━━━━━━━━━━━━━━━━━━━━━━━━━━━━━━━━━━━━━━━\u001b[0m \u001b[32m55.9/55.9 kB\u001b[0m \u001b[31m3.4 MB/s\u001b[0m eta \u001b[36m0:00:00\u001b[0m\n",
            "\u001b[2K   \u001b[90m━━━━━━━━━━━━━━━━━━━━━━━━━━━━━━━━━━━━━━━━\u001b[0m \u001b[32m194.9/194.9 kB\u001b[0m \u001b[31m11.7 MB/s\u001b[0m eta \u001b[36m0:00:00\u001b[0m\n",
            "\u001b[2K   \u001b[90m━━━━━━━━━━━━━━━━━━━━━━━━━━━━━━━━━━━━━━━━\u001b[0m \u001b[32m119.0/119.0 kB\u001b[0m \u001b[31m7.6 MB/s\u001b[0m eta \u001b[36m0:00:00\u001b[0m\n",
            "\u001b[2K   \u001b[90m━━━━━━━━━━━━━━━━━━━━━━━━━━━━━━━━━━━━━━━━\u001b[0m \u001b[32m92.0/92.0 kB\u001b[0m \u001b[31m6.2 MB/s\u001b[0m eta \u001b[36m0:00:00\u001b[0m\n",
            "\u001b[2K   \u001b[90m━━━━━━━━━━━━━━━━━━━━━━━━━━━━━━━━━━━━━━━━\u001b[0m \u001b[32m62.5/62.5 kB\u001b[0m \u001b[31m4.1 MB/s\u001b[0m eta \u001b[36m0:00:00\u001b[0m\n",
            "\u001b[2K   \u001b[90m━━━━━━━━━━━━━━━━━━━━━━━━━━━━━━━━━━━━━━━━\u001b[0m \u001b[32m459.8/459.8 kB\u001b[0m \u001b[31m26.0 MB/s\u001b[0m eta \u001b[36m0:00:00\u001b[0m\n",
            "\u001b[2K   \u001b[90m━━━━━━━━━━━━━━━━━━━━━━━━━━━━━━━━━━━━━━━━\u001b[0m \u001b[32m71.5/71.5 kB\u001b[0m \u001b[31m4.4 MB/s\u001b[0m eta \u001b[36m0:00:00\u001b[0m\n",
            "\u001b[2K   \u001b[90m━━━━━━━━━━━━━━━━━━━━━━━━━━━━━━━━━━━━━━━━\u001b[0m \u001b[32m4.0/4.0 MB\u001b[0m \u001b[31m87.6 MB/s\u001b[0m eta \u001b[36m0:00:00\u001b[0m\n",
            "\u001b[2K   \u001b[90m━━━━━━━━━━━━━━━━━━━━━━━━━━━━━━━━━━━━━━━━\u001b[0m \u001b[32m454.8/454.8 kB\u001b[0m \u001b[31m23.4 MB/s\u001b[0m eta \u001b[36m0:00:00\u001b[0m\n",
            "\u001b[?25h  Building wheel for pypika (pyproject.toml) ... \u001b[?25l\u001b[?25hdone\n",
            "\u001b[2K   \u001b[90m━━━━━━━━━━━━━━━━━━━━━━━━━━━━━━━━━━━━━━━━\u001b[0m \u001b[32m2.5/2.5 MB\u001b[0m \u001b[31m26.5 MB/s\u001b[0m eta \u001b[36m0:00:00\u001b[0m\n",
            "\u001b[2K   \u001b[90m━━━━━━━━━━━━━━━━━━━━━━━━━━━━━━━━━━━━━━━━\u001b[0m \u001b[32m62.9/62.9 kB\u001b[0m \u001b[31m4.0 MB/s\u001b[0m eta \u001b[36m0:00:00\u001b[0m\n",
            "\u001b[2K   \u001b[90m━━━━━━━━━━━━━━━━━━━━━━━━━━━━━━━━━━━━━━━━\u001b[0m \u001b[32m129.4/129.4 kB\u001b[0m \u001b[31m8.8 MB/s\u001b[0m eta \u001b[36m0:00:00\u001b[0m\n",
            "\u001b[2K   \u001b[90m━━━━━━━━━━━━━━━━━━━━━━━━━━━━━━━━━━━━━━━━\u001b[0m \u001b[32m44.4/44.4 kB\u001b[0m \u001b[31m2.5 MB/s\u001b[0m eta \u001b[36m0:00:00\u001b[0m\n",
            "\u001b[?25h"
          ]
        }
      ],
      "source": [
        "%pip install -Uq \"unstructured[all-docs]\" pillow lxml\n",
        "%pip install -Uq chromadb tiktoken\n",
        "%pip install -Uq langchain langchain-community langchain-openai langchain-groq langsmith\n",
        "%pip install -Uq python_dotenv"
      ]
    },
    {
      "cell_type": "code",
      "execution_count": null,
      "metadata": {
        "id": "3lS76vKWaKec"
      },
      "outputs": [],
      "source": [
        "import os\n",
        "# keys\n",
        "os.environ[\"GROQ_API_KEY\"] = \"\""
      ]
    },
    {
      "cell_type": "code",
      "execution_count": null,
      "metadata": {
        "id": "f3I8jxpvw3pt"
      },
      "outputs": [],
      "source": [
        "from google.colab import userdata\n",
        "os.environ[\"OPENAI_API_KEY\"] = userdata.get('OPENAI_API_KEY')"
      ]
    },
    {
      "cell_type": "code",
      "execution_count": null,
      "metadata": {
        "id": "kYWlVUxjaBAb"
      },
      "outputs": [],
      "source": [
        "os.environ[\"LANGCHAIN_TRACING_V2\"]=\"true\"\n",
        "os.environ[\"LANGCHAIN_API_KEY\"]=userdata.get('LANGCHAIN_API_KEY')\n",
        "os.environ[\"LANGCHAIN_PROJECT\"]=\"multimodal-rag-notebook\"\n",
        "os.environ[\"LANGCHAIN_ENDPOINT\"]=\"https://api.smith.langchain.com\""
      ]
    },
    {
      "cell_type": "code",
      "execution_count": null,
      "metadata": {
        "colab": {
          "base_uri": "https://localhost:8080/"
        },
        "id": "Cs5Wqnjdz7Le",
        "outputId": "fe4120bb-10f7-42fa-98cb-cef0882bd71e"
      },
      "outputs": [
        {
          "data": {
            "text/plain": [
              "AIMessage(content='Hello! How can I assist you today?', additional_kwargs={'refusal': None}, response_metadata={'token_usage': {'completion_tokens': 9, 'prompt_tokens': 11, 'total_tokens': 20, 'completion_tokens_details': {'accepted_prediction_tokens': 0, 'audio_tokens': 0, 'reasoning_tokens': 0, 'rejected_prediction_tokens': 0}, 'prompt_tokens_details': {'audio_tokens': 0, 'cached_tokens': 0}}, 'model_name': 'gpt-4o-mini-2024-07-18', 'system_fingerprint': 'fp_54eb4bd693', 'id': 'chatcmpl-BZIg2TX7Q9jlfJmf6O9w2JTv6BrTS', 'service_tier': 'default', 'finish_reason': 'stop', 'logprobs': None}, id='run--024a531e-de3f-46ff-8ded-c4812d6ea5a8-0', usage_metadata={'input_tokens': 11, 'output_tokens': 9, 'total_tokens': 20, 'input_token_details': {'audio': 0, 'cache_read': 0}, 'output_token_details': {'audio': 0, 'reasoning': 0}})"
            ]
          },
          "execution_count": 8,
          "metadata": {},
          "output_type": "execute_result"
        }
      ],
      "source": [
        "from langchain_openai import ChatOpenAI\n",
        "#invoking llm model\n",
        "llm = ChatOpenAI(model=\"gpt-4o-mini\")\n",
        "llm.invoke(\"Hello, world!\")"
      ]
    },
    {
      "cell_type": "markdown",
      "metadata": {
        "id": "A6Qs63LUbTDp"
      },
      "source": [
        "# Extract The Data"
      ]
    },
    {
      "cell_type": "markdown",
      "metadata": {
        "id": "HI1SDGMz3UJT"
      },
      "source": [
        "Extract the elements of the PDF that we will be able to use in the retrieval process."
      ]
    },
    {
      "cell_type": "markdown",
      "metadata": {
        "id": "rGmjOeC13hbE"
      },
      "source": [
        "## Partition PDF tables, text, and images"
      ]
    },
    {
      "cell_type": "code",
      "execution_count": null,
      "metadata": {
        "colab": {
          "base_uri": "https://localhost:8080/",
          "height": 249,
          "referenced_widgets": [
            "a096b58dbe13413ab52953828a414f02",
            "8c48d7c4c0144b338dd328dedf20041b",
            "188950153f70433692118066065d1708",
            "3f5313dd6706453b9f3b893803e2d5bf",
            "373c2010df704b5f86abe7b257e5dc03",
            "d4f65f12bba84cfbb396853b7f31bd7c",
            "16d37e43232746319c9e047ecc1a0fc9",
            "3d2c1418fdf748dcbb3b27e84cd32e5e",
            "fa737c9c4ef6453f87219f2eb6732cff",
            "5f241736987b44728098ede535cb36ea",
            "a4c93a8da4b247b8b8ee9af642826761",
            "50316fbb07f74844b45e01b63cedf18c",
            "1be1ce51d1f84518834544e4bc6fde51",
            "7ae10596f3304a318762f96416554414",
            "a6873506b6ea4a05a001e41d961b13a5",
            "59804b19e4ba41739343ab9634de71b6",
            "b79bb05353ed41728c82381b1c312bf5",
            "081e435a13af4ffe8f44062465669dc7",
            "1ed964d2d396446583bcc59a610a408b",
            "d6ce8db106bc460dbcd84f2931c0d46d",
            "ea8ec726d68a4aa786f7862c7f2f1414",
            "3ce6d18972ab48b498412795662b2af7",
            "9bf86ceeabc346688390b59fb01265c1",
            "103307e22b5c41c2a9dacaac74e07792",
            "c6624b2fe6154e4888aa47cecc46204d",
            "c9206cb6b40241bf8246b60fb9c8728e",
            "4842320fb38f492b900a07b7af541015",
            "8adbb7b3ae1042cfaa21c00f5fe1626a",
            "4310f81a2eee433ebc0a3361fd53e123",
            "d19ead1b16df4f3c8cbfb8cf1c13befe",
            "fb6001c2b7264781afaa4e547bf30d78",
            "8e54f9a7153f429293a93bac514f2ecc",
            "5f7fb3df663b408abef34d54c97488c6",
            "8cf45c93a1dd430dbe8b5319b740d0ee",
            "baacb12a67d5465cadcd9c45ef3c20d5",
            "dab757ac3f17419fb0955fedac9fe088",
            "dfa294aec01b48a28d9c580eb17a0608",
            "615a1c8b127e4523adcf58ed61f141ea",
            "ee53cff4ee4f41d3a5719f7c5780cd1e",
            "86c9afe85a2a42d8a1d8fd81c795be64",
            "56dfe5fe80a44e98b15c00112f1b88bb",
            "a2b0b00ecd5341ad9b32ac47b8647912",
            "838f2fcd352c4fc58f48f6bcd07d2013",
            "adc09cf28269494d9fdc79b715455fd5",
            "a0d2f89967e247de87a5db9ec64905e0",
            "6252bf575e6d42d98a597635cfef14d6",
            "ba569c290911468fbca5362b006cb3fd",
            "0d71c7d42e5e465e8e096ff5d05e070d",
            "cb55d39a6f26406e88790b2886b419b6",
            "b3a9d493207b4e128aadfc8b466f9afa",
            "9dd530e3dd2c4b0bbbd5b7f563a6f954",
            "385083424d3a4e9fa3778080f2acaf5f",
            "ed1838e7b4c24ba28944020b6c109c15",
            "bb86c7361c9c4d998f7655c4eb6dfa27",
            "70003da89a224cd6bef3cddb0dd97872"
          ]
        },
        "id": "XYkUCbpOaKbm",
        "outputId": "bc0d2dc7-9182-4f77-b0fc-bcbc83615275"
      },
      "outputs": [
        {
          "data": {
            "application/vnd.jupyter.widget-view+json": {
              "model_id": "a096b58dbe13413ab52953828a414f02",
              "version_major": 2,
              "version_minor": 0
            },
            "text/plain": [
              "yolox_l0.05.onnx:   0%|          | 0.00/217M [00:00<?, ?B/s]"
            ]
          },
          "metadata": {},
          "output_type": "display_data"
        },
        {
          "data": {
            "application/vnd.jupyter.widget-view+json": {
              "model_id": "50316fbb07f74844b45e01b63cedf18c",
              "version_major": 2,
              "version_minor": 0
            },
            "text/plain": [
              "preprocessor_config.json:   0%|          | 0.00/274 [00:00<?, ?B/s]"
            ]
          },
          "metadata": {},
          "output_type": "display_data"
        },
        {
          "name": "stderr",
          "output_type": "stream",
          "text": [
            "The `max_size` parameter is deprecated and will be removed in v4.26. Please specify in `size['longest_edge'] instead`.\n"
          ]
        },
        {
          "data": {
            "application/vnd.jupyter.widget-view+json": {
              "model_id": "9bf86ceeabc346688390b59fb01265c1",
              "version_major": 2,
              "version_minor": 0
            },
            "text/plain": [
              "config.json:   0%|          | 0.00/1.47k [00:00<?, ?B/s]"
            ]
          },
          "metadata": {},
          "output_type": "display_data"
        },
        {
          "name": "stderr",
          "output_type": "stream",
          "text": [
            "Xet Storage is enabled for this repo, but the 'hf_xet' package is not installed. Falling back to regular HTTP download. For better performance, install the package with: `pip install huggingface_hub[hf_xet]` or `pip install hf_xet`\n",
            "WARNING:huggingface_hub.file_download:Xet Storage is enabled for this repo, but the 'hf_xet' package is not installed. Falling back to regular HTTP download. For better performance, install the package with: `pip install huggingface_hub[hf_xet]` or `pip install hf_xet`\n"
          ]
        },
        {
          "data": {
            "application/vnd.jupyter.widget-view+json": {
              "model_id": "8cf45c93a1dd430dbe8b5319b740d0ee",
              "version_major": 2,
              "version_minor": 0
            },
            "text/plain": [
              "model.safetensors:   0%|          | 0.00/115M [00:00<?, ?B/s]"
            ]
          },
          "metadata": {},
          "output_type": "display_data"
        },
        {
          "data": {
            "application/vnd.jupyter.widget-view+json": {
              "model_id": "a0d2f89967e247de87a5db9ec64905e0",
              "version_major": 2,
              "version_minor": 0
            },
            "text/plain": [
              "model.safetensors:   0%|          | 0.00/46.8M [00:00<?, ?B/s]"
            ]
          },
          "metadata": {},
          "output_type": "display_data"
        }
      ],
      "source": [
        "from unstructured.partition.pdf import partition_pdf\n",
        "\n",
        "output_path = \"/content/\"\n",
        "file_path = output_path + 'attention.pdf'\n",
        "\n",
        "\n",
        "#\n",
        "chunks = partition_pdf(\n",
        "    filename=file_path,\n",
        "    infer_table_structure=True,            # extract tables\n",
        "    strategy=\"hi_res\",                     # mandatory to infer tables\n",
        "\n",
        "    extract_image_block_types=[\"Image\", \"Table\"],   # extract from of tables\n",
        "\n",
        "    extract_image_block_to_payload=True,   #  extract base64\n",
        "\n",
        "    chunking_strategy=\"by_title\",\n",
        "    max_characters=10000,                  # defaults to 500\n",
        "    combine_text_under_n_chars=2000,       # defaults to 0\n",
        "    new_after_n_chars=6000,\n",
        ")"
      ]
    },
    {
      "cell_type": "code",
      "execution_count": null,
      "metadata": {
        "colab": {
          "base_uri": "https://localhost:8080/"
        },
        "id": "yxAtPlPSaKYt",
        "outputId": "65d8c5b4-7a52-4dbe-cfdb-54ec2f1c0779"
      },
      "outputs": [
        {
          "data": {
            "text/plain": [
              "{\"<class 'unstructured.documents.elements.CompositeElement'>\"}"
            ]
          },
          "execution_count": 10,
          "metadata": {},
          "output_type": "execute_result"
        }
      ],
      "source": [
        "set([str(type(el)) for el in chunks])#get types of elements from partition pdf"
      ]
    },
    {
      "cell_type": "code",
      "execution_count": null,
      "metadata": {
        "colab": {
          "base_uri": "https://localhost:8080/"
        },
        "id": "8qqzJ7Ofgmzb",
        "outputId": "d1765ff0-f6f4-4141-8af1-f30f2d25b484"
      },
      "outputs": [
        {
          "data": {
            "text/plain": [
              "[<unstructured.documents.elements.Title at 0x7afc31b0a6d0>,\n",
              " <unstructured.documents.elements.NarrativeText at 0x7afc31b09d10>,\n",
              " <unstructured.documents.elements.Footer at 0x7afc31b08cd0>,\n",
              " <unstructured.documents.elements.Title at 0x7afcb13a0390>,\n",
              " <unstructured.documents.elements.Title at 0x7afcb13e2750>,\n",
              " <unstructured.documents.elements.Image at 0x7afc31be01d0>,\n",
              " <unstructured.documents.elements.Image at 0x7afcb1f8ce50>,\n",
              " <unstructured.documents.elements.NarrativeText at 0x7afc31b08b50>,\n",
              " <unstructured.documents.elements.NarrativeText at 0x7afc31b0b710>,\n",
              " <unstructured.documents.elements.Title at 0x7afc31b0b950>,\n",
              " <unstructured.documents.elements.NarrativeText at 0x7afc31b09e90>,\n",
              " <unstructured.documents.elements.NarrativeText at 0x7afc31b09310>,\n",
              " <unstructured.documents.elements.Formula at 0x7afc31b0bc50>,\n",
              " <unstructured.documents.elements.NarrativeText at 0x7afc31b08750>,\n",
              " <unstructured.documents.elements.NarrativeText at 0x7afc31b0a3d0>]"
            ]
          },
          "execution_count": 12,
          "metadata": {},
          "output_type": "execute_result"
        }
      ],
      "source": [
        "chunks[3].metadata.orig_elements#CompositeElement containes a bunch of related element\n",
        "#makes it easy to use these elements together in a RAG pipeline"
      ]
    },
    {
      "cell_type": "code",
      "execution_count": null,
      "metadata": {
        "colab": {
          "base_uri": "https://localhost:8080/"
        },
        "id": "EEKY4RARgmwz",
        "outputId": "9f2dc219-59e9-498d-bd21-b6044a3865e7"
      },
      "outputs": [
        {
          "data": {
            "text/plain": [
              "{'type': 'Image',\n",
              " 'element_id': '42aa1bd1-26ff-47b3-845a-f2176c738047',\n",
              " 'text': '',\n",
              " 'metadata': {'coordinates': {'points': ((np.float64(486.0),\n",
              "     np.float64(261.1805555555558)),\n",
              "    (np.float64(486.0), np.float64(614.7805555555556)),\n",
              "    (np.float64(664.0), np.float64(614.7805555555556)),\n",
              "    (np.float64(664.0), np.float64(261.1805555555558))),\n",
              "   'system': 'PixelSpace',\n",
              "   'layout_width': 1700,\n",
              "   'layout_height': 2200},\n",
              "  'last_modified': '2025-05-20T14:52:37',\n",
              "  'filetype': 'PPM',\n",
              "  'languages': ['eng'],\n",
              "  'page_number': 4,\n",
              "  'image_base64': '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',\n",
              "  'image_mime_type': 'image/jpeg'}}"
            ]
          },
          "execution_count": 13,
          "metadata": {},
          "output_type": "execute_result"
        }
      ],
      "source": [
        "# This is what an extracted image looks like.\n",
        "# It contains the base64 representation only because of the param extract_image_block_to_payload=True\n",
        "elements = chunks[3].metadata.orig_elements\n",
        "chunk_images = [el for el in elements if 'Image' in str(type(el))]\n",
        "chunk_images[0].to_dict()"
      ]
    },
    {
      "cell_type": "markdown",
      "metadata": {
        "id": "-vj7orWzoUIC"
      },
      "source": [
        "## Separate extracted elements into tables, text, and images"
      ]
    },
    {
      "cell_type": "code",
      "execution_count": null,
      "metadata": {
        "id": "f7BHC9_rV7FD"
      },
      "outputs": [],
      "source": [
        "tables = [] # separate tables from texts\n",
        "texts = []\n",
        "\n",
        "for chunk in chunks:\n",
        "    if \"Table\" in str(type(chunk)):\n",
        "        tables.append(chunk)\n",
        "    if \"CompositeElement\" in str(type((chunk))):\n",
        "        texts.append(chunk)\n",
        "        # extract tables from CompositeElement and add to tables list\n",
        "        chunk_els = chunk.metadata.orig_elements\n",
        "        for el in chunk_els:\n",
        "            if \"Table\" in str(type(el)) and hasattr(el.metadata, 'text_as_html'):\n",
        "                tables.append(el)"
      ]
    },
    {
      "cell_type": "code",
      "execution_count": null,
      "metadata": {
        "colab": {
          "base_uri": "https://localhost:8080/"
        },
        "id": "Tl8mGOBnV9ex",
        "outputId": "3649661c-d261-4688-a4db-4861a8c7a852"
      },
      "outputs": [
        {
          "data": {
            "text/plain": [
              "4"
            ]
          },
          "execution_count": 15,
          "metadata": {},
          "output_type": "execute_result"
        }
      ],
      "source": [
        "len(tables)"
      ]
    },
    {
      "cell_type": "code",
      "execution_count": null,
      "metadata": {
        "colab": {
          "base_uri": "https://localhost:8080/"
        },
        "id": "k-worSHY2d0P",
        "outputId": "418d644c-85c5-4797-a0cf-1c6ccc197643"
      },
      "outputs": [
        {
          "data": {
            "text/plain": [
              "{'type': 'CompositeElement',\n",
              " 'element_id': 'bc390b1d284d2d6186fec4f16873524e',\n",
              " 'text': '3.3 Position-wise Feed-Forward Networks\\n\\nIn addition to attention sub-layers, each of the layers in our encoder and decoder contains a fully connected feed-forward network, which is applied to each position separately and identically. This consists of two linear transformations with a ReLU activation in between.\\n\\nFFN(x) = max(0,xW1 + b1)W2 + b2 (2)\\n\\nWhile the linear transformations are the same across different positions, they use different parameters from layer to layer. Another way of describing this is as two convolutions with kernel size 1. The dimensionality of input and output is dmodel = 512, and the inner-layer has dimensionality dff = 2048.\\n\\n3.4 Embeddings and Softmax\\n\\nSimilarly to other sequence transduction models, we use learned embeddings to convert the input tokens and output tokens to vectors of dimension dmodel. We also use the usual learned linear transfor- mation and softmax function to convert the decoder output to predicted next-token probabilities. In our model, we share the same weight matrix between the two embedding layers and the pre-softmax linear transformation, similar to [30]. In the embedding layers, we multiply those weights by √ dmodel.\\n\\n5\\n\\nTable 1: Maximum path lengths, per-layer complexity and minimum number of sequential operations for different layer types. n is the sequence length, d is the representation dimension, k is the kernel size of convolutions and r the size of the neighborhood in restricted self-attention.\\n\\nLayer Type Complexity per Layer Sequential Maximum Path Length Operations Self-Attention O(n2 · d) O(1) O(1) Recurrent O(n · d2) O(n) O(n) Convolutional O(k · n · d2) O(1) O(logk(n)) Self-Attention (restricted) O(r · n · d) O(1) O(n/r)\\n\\n3.5 Positional Encoding\\n\\nSince our model contains no recurrence and no convolution, in order for the model to make use of the order of the sequence, we must inject some information about the relative or absolute position of the tokens in the sequence. To this end, we add \"positional encodings\" to the input embeddings at the bottoms of the encoder and decoder stacks. The positional encodings have the same dimension dmodel as the embeddings, so that the two can be summed. There are many choices of positional encodings, learned and fixed [9].\\n\\nIn this work, we use sine and cosine functions of different frequencies:\\n\\nPE(pos,2i) = sin(pos/100002i/dmodel) PE(pos,2i+1) = cos(pos/100002i/dmodel)\\n\\nwhere pos is the position and i is the dimension. That is, each dimension of the positional encoding corresponds to a sinusoid. The wavelengths form a geometric progression from 2π to 10000 · 2π. We chose this function because we hypothesized it would allow the model to easily learn to attend by relative positions, since for any fixed offset k, PEpos+k can be represented as a linear function of PEpos.\\n\\nWe also experimented with using learned positional embeddings [9] instead, and found that the two versions produced nearly identical results (see Table 3 row (E)). We chose the sinusoidal version because it may allow the model to extrapolate to sequence lengths longer than the ones encountered during training.',\n",
              " 'metadata': {'filetype': 'application/pdf',\n",
              "  'languages': ['eng'],\n",
              "  'last_modified': '2025-05-20T14:52:37',\n",
              "  'page_number': 5,\n",
              "  'text_as_html': '<table><thead><tr><th>Layer Type</th><th>Complexity per Layer</th><th>Sequential Operations</th><th>Maximum Path Length</th></tr></thead><tbody><tr><td>Self-Attention</td><td>O(n? - d)</td><td>O(1)</td><td>O(1)</td></tr><tr><td>Recurrent</td><td>O(n - d?)</td><td>O(n)</td><td>O(n)</td></tr><tr><td>Convolutional</td><td>O(k-n-d?)</td><td>O(1)</td><td>O(logx(n))</td></tr><tr><td>Self-Attention (restricted)</td><td>O(r-n-d)</td><td>ol)</td><td>O(n/r)</td></tr></tbody></table>',\n",
              "  'orig_elements': 'eJzsu+mS40iWHvoqYfVrZOgs7NuY6QdAbARBAARAAsRc2Rj2fd8p07tfZ0RWTVV1zrXulrqvpJkwy4yAw/348bN85zsE+C///aekTpqknf+1iH/654+fAgoj2RRPvwUxTn4jqJD5xrAE8S0M05CNaRbDSfqnP3381CRzEAdzANb895+irhvjog3mZPq8roOjW+Z/zZMiy2cwgmEIAtZ8H96KeM7BKEp/jvZd0c7vdf/yLxhL/0z86QPFGeRn9r/96ePXAQJhfqbeAwxK/Uz+aOBrCRj5aTqmOWneZzGLPantPoiSn/4HuBEncxLNRdf+a1QH0/Sv/diFYBryM8OiGJDxU1rUyXz0yeda8/rTp8pttgTZ57n+5aekzX76b5+j0/yvTRcXaZF8Wg1DMPIbQn7DEAcl/pnE/hn/NFIPVv5ruzRhMoJZ5FuJOdnfFvkJ/xn/MLupeOvzbSum5ENKkvib1I1bMMYfejJv3VhNbym/qOQUc/15kj/6LGUZOorJ6FuChOw3AmGxb2xChN/oKEmCgKAZnED+jj5jf6bfHsHpn5kvn30NkBj1M/IeQAkU/3dGvhb9bV5jCYzA/8FeO7cfQRx/Ou1j7j6CeQZeeF9MS/gNmCoZpz99JEGUf3Tpx5wnH19jH0X70S3jR9JGXZyMH0Ebf8TJ199R185B0U4fwUe61PXxHmjBiZP4I31HRPo9ItqviPjTx5YXQH4BFvR9DU7yVuRzy/57OH1MSR+MwLFA2HunIn4rGQVA+M8fTg5Wgi2mYpqnTy237qMu2iQYP+YxaCewXxO8xUwfWzHnQC0r0e4fAfDB+jn+PkwIlEmS9uffhqcejGDTYk2ct7F+EKY0GhA4FuMAUBAaQEtCfwuwiP7G0ngY0XgaodTfD1ooDP3ECZKmfybfMfjLAIXQP9NfQYmgP7M/HPla9LeFKcXiCPEPDlNJ0v9p/y8f//WjCfZ/Qv60u+gH9BGi/8XF3r+xj3/C/stvPQdAp1nq4Ec+i0iKIegw+EZRVPgNZFzyLSAj5BsW0wiNMnFKs+TfEVoAXrwdgn8H+18GaJL9GfsOJAC+fzjytehvhBac/YcXBDcHm31hxo+zMRi/bk9Bk4B0HLtp+gAbpskI3PVr8gP8AZOOjwVUlN/cBXgAXPSGonTsmi9YegPH5x8/f3BtB1aNH1twvDEhTqZoLMKizYAwgBdvsJk+kQIgx9rVy2/woUrGNqk/puKVfKBvfHnvCyJoAlOCupg/BRZtv8yfYAQ8/v4TSIyBvcDC//pBotifPu+9T1cA8Bu/oPQjD6Y/yorTFKzAEIL567AHxZE4pLD0W0gGFCiRgNGwdAgiOmSRkCZYEkX/nnFMf4YkgyBfQfrrAEZ/8RyK+qqZfz7wueRvpDUU/o9nNcSHCG6AGtlm06dT7S6dAQz9RUSGYBkKrGW/BRENfAOs8S1MseQbimNkHEUAbJjw7+YlHJj6DS4MSf+Mvn3wfQAsZ37Gv9cD5u23Px/5vuhvJTI4hf2DHWUXTVEHI2AIAAS+cn9KhgUQlOQLeOLlU9ePzyQFoLIln5BSA2RqAedI/s3J8xcqJOP8PYHf+T13VdJOv8347yNg9grM0I2f5OPX7P6OBj9/uADb6qn73OwtbpmWoP512z9A47ePL3D83Gf6CjTAotroF4L2W8V+IVy/6vPRj0lcfDKtFpjl26eGH2+3BGEB0KZIpp8/zl/M7VO7TytM+e+AePsMs7ceY7H/wos+b7/h8lcz/UIEf4E5sPW3XxT+Id7/CSDqp4veioJQ/G+fqryX/lHmp1agfs9F/3Zn3k2/aDV9hMfH/7NgGBr8Yt+/CjQTJsFojGQAaOIJAE0K/camAQlyEjSHGEaTOBP93dKRIbA3P8PArl+59usAw351Ee+c+/HA55K/LRlpDMPRf3Aykr8nYx2o0z9yB8LQKBEnxLc3GH4jAhb/Bnog6lscM0SIMQm4Hf8daxjzM7ALyn4Hx+/XGEP+ioT0myv/2cDXir+Vh5E4/fd3BvVbZzhBCHgY+s8f12AvmqUB3AmwnBrsMOcg1/pf2UnUNX2d7G9W8s7qpmg/p39JfYPbF6DOBcCvDiz7TuNAhv+GmH0nYuBsAGvaNy36RJZfoPhr2z99xL/cGROAHBNY+YV7v+Lnnz6qX6b8lpABLX7H2N6Kjl9bfL/9/rt9B0PYjXnXxe/uDuwA0OwTGKekTr/92ub+dfCBMBQTg9L9DaNi5hsRpxjoHTDmG0WSNElQTMogzN+vmmPIz/ifPnAU+2r3vl+T6C99Ak4R7+r+ZwNfK/7GeMUYjPpxvBbNO+TCYEoo4j0MsyVMcNzNrnzVyjieu3HgCvzmBBjbeIHjMpnPIpm/ZQq/Rerpll0E/qYL3KQJfGWLG3NXrC5VciQAEzL1RLTn03k671t0EaJeE7hdF26IckSk6WSHeSJeuqB9yb5VQN4G5GS6YGXH2drya3k+/uf+afDGcdaJE0yevwmcfea4XOS5XeRh5sYp2/t8d3BO8f2P+7cf8cRtNwmc9Xy6ddp77myB4UwUuO0scttd+jKOxHK3M7DLzeKtc369i7KISjl/qLskXPgqEM9n5LJv1sNGUq66YuqRZdVFyqOnbHW1WkTdxe4Q3XnihlBRN8SSrCo+2/feeUgP94Hmvtvole/6bSDXQ4RbaNzGROINQn525Zwo1KK/OLXqujVZ+M1wKfuL2/RU0Q/j5TVrLjbTBbkA9+xXT96ZUj1mzUF1z0XZ0scWpSAgpyaXtKOScWdWE2HTEIfMlvqyD7DJJv5in68j/7v2Ed/2OYFJAs9FX/a5qfjn3F0UeVvc+Vzl77c4j6xrce3EsyRerC5U+JN9fd1X7vFsNeuUPyvdEGvG+rRRAyzWX8o7pr8y0qh00br7ii3WlztqPR51/HQffenLj8bH8j5odST2fDxRairrDDF/Bkpxbi5Vb9xrP/AatQm6waj6IGiHSzNMo4HMYYAvWkNtkynuUagc1/aCzOYdjUMP09uAWMyKTMKWMtrhd/ZhO07griA3zhY4H2duAg6tF9aFpLYY77G/jhgOqdiERdIe2faOIc8a24aXmPPFU+D4HVGc7sLeu44DqMNB0i25mgzXjcaS1jrMpB1MPHhig6nLa2xJB8zZofV5IdtdJRjE29oYY9dhW8/Y4mKbroTmeSqjiBuE12FcOEP6wfoS5s6/G4Q5HlpdOkhpJ+x18j65hI/Z4/xM7/FQv1X7gxRYocw/13XETkUm7DDD/aV7Pi8XzlTgL1FQMVEkdMfh9+z8rpQCzF3+bUM2+zQSDM70u9ncFRhpO/1+cOPScQnLHe+v8uw1lYVBg/fA/doy5r5npqNz79frNFTx6dJh3m4zJlUHjvcoQ2qPXUaoVf+sX5v4/hRU/uxlmXjnoh7IvWTMM2UlH30x/QqXrAKfOlNWYMuNI/gSwgTsDW4ZrD7Fduw8NO2hq4F3CYnGt/szFQvIwN54AgZ6/14Ud4atH8hPtvudS4Cd/2wfMHsQ9hze+O+zgd1hb5IkTimBD75uIo/WM48GXL9V5bjfDUImSvPWW5tNYP69g3Hi99mb8Ks24O/fa7OdTAT4+c9M8V0bkBh/2BjM/tyQ4X6ZzRm/avOftvn/wzZ39o66G+I5ZAjf6eWCzue8Jn134+EiDTLhWH+Uw7+k6m9gYH7CylxqARzekdZznk/8RMutOV3YePNoCFeMeA7a/LXrvVesDqkBOyaEvgfq9ZnqF4l7cVzLnfn9hQMLNTj8v4c9H0LsXdx4VCNbuxxWqYpXxzbSbsgqOAM4pqZ/GY4pzDVRWYPxAjt2kOloUAbtMmQIT/Z6J1hzdF+fiv1FWPP90JvwA5/+4ujfxnlSUTpRTGy0sPd5dA3SYvXFCV5ycO7kZ4yaUQLmFReUegMzZ/65/ib0Z/j7C/D/hfHxffYmfJWJ7fTnBvtl9ib8G/D/AOP/WB0/y8Qwp16BSa0arZJ+qZ7HsVk1ttMXw7nx5I98+wO7JpC0ylgJXZ+9OksQ6rhMKMlNgvui8OQx0rwTZ9hYyr+ybn+WO4b7g0m4P7fqv83+P9EHKvratR7L9GD3/KZaxvmo5wBjrKpuzrIz3+PMsJ1MQIc6SAxdXeZojsXEgGb9sdxeaoA/BiYMH4CJHNZ8Jsxb22RCBv8HsPN4Ruld8iHlMbnrma73BA/cKq0siTEAi5xifgdRPP8Iw3+Y79v9cK3ns62fxuMmVuf8CWd81VInAOjan+n7izl/q+dqmUJavBxTCvBX4LMdhj22MPBehCPHBKfK6GKVhnG74H9XOy5PxobMWWDO+FU05jXCjtc8Fw30mpBQKc2XUJY6pwgp85fh+ZrltXC53axKjCly3CUCQoRtHea2T3pPXDGK4a6ieNXsK+ZiZW7hJgfVnHKC/7z2/NHygDxQtKCSyMUOFSe60p4sK6hk/nU4Vo/ycAvUjsWH+KjGzZ0s0OvcceNm3mKAz9oPOPgP8+HBGms3O8iBroRUuReycH3+vKDZyIk+TynNqP+fy4uoB5EzN8zLS0dBtftjMacqvVbVVa0w4Szb/MG/3Eu7XxmjdYjYauD5giPUk+sTJ4iNsy0gBhxmAg5soPyFvkUDL55TrHrggbO/MGbIO/LZCJfNjMQ4aP66PgWl7JtlmeftOXSaeOmfTJIpKqBL+yp4xeikUr0mDvX0X0rgae6UN8XVxwfOYXoSLpQ7xwacaax/MTbuq9gWoQOflqa9x3eXcF8elwQXqecam9Mxo7FvIJMN8y/ETyc+oQfK3ChfGfRSiU5ofddFBrFKZneQM0/uNNoj/zvx9EeZqDCo5pAYK+lDv0PICbtl4rbpalYRIGTyqMp8lQM8jNz/Mr4wVuKBS6tkNLep4Pd2zErd/gx7zvyBDtJnUkjgh+O9at0nIGPlTfjpO1AA4ssrlX1HQxCvD+Z8s72Jq+f57iaJmZwQmxvilzDwb7/71JaKzYInlU15AWa0h/d4DTqixb4+ygb3PLwoizkDl9P7w1ng4kFcpvFBF85u9uGQHY98kaoIth6qCl8Wi7FS8UJJNWEtY97rF8Rx6eIxNsxNNBVOgKj7/Jq04WZbhxEpb8D1Ap9oFzKVmw6SNMrAIcxlm5kUom24VZVvIOStqm35DBeGRT3AeRJtttF110cop+bQnds4sKmRjKxn48vHo+JNxrhGTxDb9mIhzn2WZrPcaKx5ai6MWM/xgRVRGnjXoY1OVj3RDrNTtB0R5GhBZ7Qf0pze/Q4vtduZ1+JXytgNmb8yG/J30WGVHbIRLhbXUqWV2xyir8c9l1tMR9g5lDlRjySXWaEzIfvXwYgikdxda1T2c8MYXtI4QYWVuNHg8zavGpstpaoF1+2QQwha+eMmddBZyQPaIRytT0prjsBkyLoWzwMhy6dUlotzYAbZ6wp0bnNh5/2t7/Vsfo3XIRMcKxCNkt3oMB4GAQ2NawJLnES7sAyNQUxA03pCx6660ng9q6ZwRV+ZnikyEaYVdz4cBlduIvNA2hwj0YFCEsPz6NPpQIE/EvnkvcTtFIkKLgvFauoJmjqECfqHkwybK/0QpH5Cov7acdZr3fojOSWbOXsj0CBAJi046qU/n9kRv+PtSzHxFhuW9HhYkJR4KSfA1WOOYVq4gjymeMUbYjLBlhZ74TodbRhySpO6ic4DfG+L9ZxiaXyfFMR0w6sXmdjggCCsMi0zDgkkozdYTA9fMqFfBWj1kjYx6XIzTR+L+2DDaK/uAZtpCKs5bp0Keby/GOnSKqOLNEswasOyWi7aB7g090U3pa9ZRqb+bty1KAsfF4YgNaEvlgS6sHnkPsa+LR3njgc5kbbiOBiCFk7xVKQ11FBLi8hbM5mnXMcWDFrqaqGnpJoaz0+7Je7YGiCWQjkEw/iJmvJVWmhWKiRtc5WtNm8XDD9y94ztnHZEwrDLTsuxcfGC1Kbx8AyAvAgi3nbuKui6x8C9n0H/cr5M8O1ylQrMXMq+LZYnJCrFaulnSESrmh6u4p1d/CbA/U31Xpeds4yRpAQ5asvhso3ltg9w7hFRIrN+jaBkP5uoPzvryD/wa3VtblaJnvIIahxKzoQF0OvcBiF2IOONdVKbbnDUi+o5BmXSZZb7E7Itpx0rTjHTHh2R0yIj6T4SD+b2chEvL/ByHXfs0Zzc/OYeJJlYRXci5Egw7IhLOrrJuA78AGYIKPepKIq/6nqVYTnKGSdVyu1FeAsz93ErhpjNtSQA63E6WbhyDGbnsgFbjUdJlIE6JCVksAJ0divsPlN1sVZBHm7aUjEjmXn3GK7jnH56c5VxrDfW+m0B5lWMnFqH3lrPS/ii7XkWuROCZFZcpPRLW9ipRQb7BdI3g6AJXZ6p6La8q0Bj1Z7sDMpLQ37Rz7E1C98PamKHlKreeymPNd3HqxgPb0f3qBbRMWwRYsxVzG3OmakIMGKXuSUX/c2LksqiyKFp3Qhqz3cIu2HlTM7TCHJdZGxOLM0TqhANk3huCTYJCwR2niF0oAfAs9Ymtp3nzlvPKefnUw2ZS59c3kUvuaT5GGNYdfQxVQ71SopSLm/XrQ65y9Q+4lZVDe76eK0FqTkbmcKnlzU20AwbCEUWZaNW3CY9JFwxLTtpAs5ollReC9M25UfdyUOgPY95qJy5J6exLziKqX05tjb+cDkoU4mB7L3i5d6ZeCUeKLRPz54MNToMHPc+TuVFxmoZBzHGk+yaLAkTUHOPmHvL8I0NzbV4wb2mOspTSDBq25YqlczagA3uKZ0F6jx683JaqsPSm1t6If0DsG6HunOB0UI6OP8S0ESOeI7OIZBBI41tmC+tYZ57epUN++FEdiRwnJKqlI+aHF7a6a5rQ9MEfU8gsDtfavGBhwPEnoQ2OFrEEKB29LRE0H3kZa8F4KIVKkMz7bzCAb+GnphZ7laS3JPxSSpODz1oc1lWV1kp4H29Ui5We6/bhk3IjmmqImaPHuRv8OKeZipxssNoejjBQrvlK+utzdNFx8QTJkm2d5zjLbqquIQcHfRF1A4kr5MEDwpb4nKDX6ntBdIRJyt2XHiDYFtuf2UCExDmRgd2coaxdPYR2lbFRbeKtV0ec/WUsNMxwHiynvmdaqUY7dpdYc4U/bypPpWoc1TdL/HFfpmNpuF8GM6nDHAky+CMtb/xQ6KlEjQkkh4hmYOxTcyvdB4mNhzGDfZkdeJV8rReCWPbv8ZEiV3UdJ/jAFXFbPV7vD+vDWFGZ2E/RyBmyR09rkoxhfud7YmlVrKbp68kwphtUCH+owz3wcouAiy/njt1OSVCafjMFZaoXokhIY7XEeTSXFrK9XQkz6t3vcBxpJgqSAsqe6rkK+Mw+LQW8B3wqD5Rx5PjjMkLoEArrbJpXItlF6KKUBSOOk0acadaokZbi32u4UJOZJve6dyN0fQcXTqO4zdR5jhjuWSQLA+u9AIVIVWF5Gbr+nBZRanimd1a+QvUsbud8utDM5A59hnz9Qr1R4kWpD/eh5jwSrK4RtpmVYy/GUTHUc4mEQvoZ/mHNDBJ76LzE4caPHSreZTdZ3czZFUlecBY0q1t5nQbh5kek2IcdFzhCsc2wvSIYFOUz9arhRh+2SnxsYHW2Z7viEcUm7fkgyURY2bUeH4nmOGuMROOnnhAEKTVXR+hi+XTaMvojIiReA32vTOKgQcxld/4I905xvfW7EAQiphZzWbLVTsMRJPD4LhizraYDXEHsXIDjMoflfLddN8BAyFNsSncq5vj7KbFAMgWt0owf2kbH3Q3DJ0YwpGwIYHbo0BEjHmsbdCs2EvhAFJN7RMUKOZGAoqG9m6byLO4EBpErBp2AWU9uNknPLuDYnSAMjpdmarlOg5nbwygJ9EKSAFFIceJmO43XMQ6J7wLy3UohtNp37OK5GQLJfcqsBhHBWRcpeDhmtS7ObjZfJ7JoI/TBQMWWm0niLLcKcsZ0p8c2jor1+6g5xHvXjHgIkDKg4nRJ85UfOVE0naImaKw14i1PCvAR6j21g1iHG+uBSmgHmqPIHcJ1RRSwYbbvm7FxNlGxsOFaoAOjXMg0G14RQloaU4VS4ZVboEjmh45DQkn1pWLxHMygKoW24mzXX26YgVPSk8JM4cj4VNyvUaWvQrhpRo6QrUyZ7MwPfZTnG37ulZjHH1Jocs8D2Ya8wcoNJlw0GybwlXDgB4GE33Q44onY3UBaEXOIbnPS28AWIqSbNwFQoQusICVEEcXCEhx1pzGkk7PcI3r2xRKdvE8C6Kv8KDrIFKicuWeqmNMyaOdWnXfFVHSQFz3Vj8gW3eVR/MEFChTVoS71CQBo8HGCD3xWmatzBD6VYtNewwUfrFk79ggggmXMoyXq0KjHqy803s9AR94iDQHTvCI8IvLvsyLy8/zToAO6bG3CAk6aWZibtB5FPYHI9IQs2iDd1/FMHHZoy+fxWs3lpu0z4UXXH1qxlVyxAx6mq9MknB9aBgPf7zAc1w4vAPceyxXNrpy6dZxU4AOM+wHeTeXzzF0HI+h1bPKbZg15D7JZyxIIyVawNlrnDj0fQApLlegsdvWni5k17v7bJd43LMbypbjOS3p94zQn+s2yCNVhjKNUpofB6aMFbvYGsS+QmxqrkBXc5QdfBSQ1ptVhv8sg1WiEdJMp3cdlKvLtvpjtFTF8VQ9wNRaZa4U7OBCtmXuOCoQcVASzRyrFj06SnBhJgxwXqveqwFD6PwQEDa1AeCgBKBnFKn3Oql38ch3Nf3UDHTTyutgS7d0SXHbjuLEsAHH2WB5mak0Tk/rrsS3m4W5LS4tT1on70w99gt9yTlD2HjQQp6i5+Yg8AavmstCoJc+p/oYWc7JBFitw1qkz09rOPU7cjYD0DAEvxJIELNE45qglUwlo0gM/TSVg02FIiOhvlZNT+xVZ/wLUUnF4YzTFR0hOZXSHESkTaWDVF+QpKe8M4JjwZ33u/nQ5c1kyZNMlYv0ypgHcJkMGjK4bAhEc9X7PAY2UiyhS1UydhVr1FfSrj8aqx0P014U0NXHOqoRGAROzSj6iX3JXo02yfHUxSmVddIrow0vlTtz5+I9Ta68Nspd8OhrtL+Lcz67QXhX2aGx8gW7dGcVZHdoytHTNC5ejhMNFQ+gr3zEIXq5ug5lnpkHK5bFLawpSdgXQckSkBKe5jYz5RGAG7dFsDPupgl+MMZpSJ+gOrtWYZgzh8+BVlzAtvTuI6tyd6DrmsdjxxhURGG9eK+XLQMkp9m3V33fTo/NrFXZPRvGVcxkdIALgPEdnlHh/oiC8NngZeE+qXiN/doqrn5NetE1q+PF6I5ktqidIFHBpr0tjEEXhFTG+sLQ9ZJrfOfWnHppF8CLBQrof01UuFC6tGgJM2gV3xOOIEMBicGGXV+y8ELPuCxxRmJHyvza7UQvQlBBGWP2KuvlB2FCpZHndH14EFt27Bwdrzto4gKKJoaVlZgYcBMBemHI3I6aPUyNK1ZePZzSJwn8WK+rzNVoedcvyEEhw8ndsBGUeBFCnfOGh9JdFAn5OrelcVVaRU5A7cdqambsNIcHuX2ZESZeUWz0rndnKqXq9rxnqV6C6Znf1/2Y1BAHsJ5oplSaThvmDriHQQALnoIqY0QKujehVDh2UlD5JnTxBVKrZUz4OEAXHDlEKu/6ymVmISIcUlK1M3Enec4weMQ0I2TEiQJSgUHMJ/AofZqEXi2KaumaxWWY/JC0M3fqZPvqqypVnUa80DzdWEHnQHRraOM2giye03djkNjm4cTGE5Mf90wJq+ziHKC53bO2mgPU3kK2pk56eHALWocbz5+B4rZaR0m32daNBw0kyLkH4a/8QTnRtmNuR63BABH6UhnMtVMVy+AroYJfKKBjpfCAT3IbPHStB+2fnnhV3KuXir5MoeFkuX2tnspgBKSz0wm2MRosvNy6sVhj1h9T79PFla6tm2HbpsMr6OARG3TW1QUWlJxyT3AWg0G8udNT2KE4GXEs4Cv82NMIF5Oju3hoP0IVpfVshgBrJcELr4orok+D1mpPClAL7gAVsXs/MUnSB+Baa8Cnt11NA1MVlTpXMUc9L6TLmZdWufsmqkcA7ZnAwswyvenaGt900MutWkySISYdgLYfUsnsycPLRNo+xZscPZrkFN+RYoO0tbyoV/eu40JgY1NUaVaIuGe63W5XoTWccgRV+w6JoF4fYqqk8PPwPIZiL+PxIm5B/cSNIdGrbCFUpUYpoi0fPmczvilk8Za665363oaPr5XoIOW8ShVWBJqa6VEarJcI3uyTWAvARiyX5l5XRwoxMHagg5ZY2PoAd3tsug82bjYXZiiPaau0leHoxb7x7XjjXUiAi5gFxbbZUXXVUOWG6W08niPp4dGjwnC3NBY8Prk8sTWVvUzbNaMXsYmipun2fF7c4biNp5UYa3g8B7gpmrl2p1NiDmNZdWxTiqc7qlbUeRDle1Z2rpcpaBV0cEEPWO2uZUmktxMzV1I+2Id3uhDgLEopbIQmQOKTp6C841gNpb0Q29DUYtVJ48metZObTMby9e35RTPLwUG44wrNj1hgHNztEjWOGR2v7icPqkeReu0c5F2rguSxirxnjAhcP7awDJe6bjAPSGbNRf90Pcqrqlbez8pZ7DkDu9ra0b1K1WurKPPHM3MJ+g4DK9P9fD40A1toGU9QsXKs4vG4h58vTqDqk00cELQBCO9mdJuJAtxhcB9tSM3+3mENxiTsSt+0OQf5I3OArCCHDZq22ByTOViJlJE9d/KkMsBjMth00+Sl6xPh7r4hn1XD7K4QmqSQhi2mOI8qc0sFlg67VKjG0xZeiKW6ES0+oxtuWW3FtdD1iccJEwYqUUOCOwVj6E3ic9H1urxqR2Yql0NMXAtOXgibdB23BjlBrLRGPDC4lBUnTBKLNgyyzoKoE3GCUoKIUKkodSfYMxVQC26wsLTQRSutUAzUy9mJVLZ74pdRLcmN0zsZ0OCKKQ0jero9BXI6nY4dtEhhXfbVVUZswWy47tSY96TWoTPUYwAZzbipYjJcGHT2e3k4uBq7dy7H2tfo/TDwTuEEgsIbG1NOQtW9VCpd0wFQ6m7z9vKuavUC9i59zLid0gFYVmKJcQ0FoqYexDPAZnzWrZlU0ZY/J+azN05GTgGCNEc189SfyOFtDpFW5Ur7SIXaWH0bL8Jy46fpGue4bkO6fp9YBVDtjN6l5DUq3ctFdy5EUl0epx4jn8liQWsXcEY7wVLSmYwTrlsduej07FgDwndc9J9Xa33cev5FtS02Gsi690SJvjxYdAvXLYJUAudTFYWcUGzPZeIaVbm+A+LBXQzIQV4F5Y+PNklnzkxvzROrXx1XZM1V432B7Axr39ZjzkvAiBX55Kc5PSztkYowkU81G0q+T8fdoT42qqsaomwrYUlQTq6JhAkgdZWkcpDmZ6D3DGC6fmy7NYG+oqsWGf2e652mt/jGU23vsoTEPJQ9J3zn3od3dz6qEWP3k4zzqmgIGbsjJoGCZqoHXaczmiUCh3QI3PDCObX2eNBbKYqJp2l/xzdjHW2C0aldEqLdPOveourFcsI2OtJLxATohXi7A3OG7UHnFFpv8EuKys4svQ0NUv7YEMyFZhpjQxs+G61LMpSPX6rwVJDnIzECwL0Wj+19WDBdgm5IUH/b+aWcyoVDSv/9G6jRAlVPL1B41y6Kx/j2sl22q6LjTGjWdC0FYUoEtOPIdhP1lBESzhSgypMb56DKIWaOrhx2+yhDcjqeisJpISDfiZWhmNwkKr04ezuYuQsVM7Zqyctl8uUcDdUASo18/3xqQ7dn9rLDhUMMLWNSPRFOZNjYG5LetRpdaegq6vKQga5ZoBuiIs8kx2/WyzMpdXALrN2JmHau0phS5+kx0JZhzlrzcBb+fGBxDz3ZuDeiCCDVuh2os0vDMkEXVbcXzfbP+rOee5vbLrR0yqyykwjFa0d8VAB3fhGljTLeniigtfR7nsgWPHCh1hfVbRHvl5ONK3fiXY4DmgH9waSfGZAvs/r5cRSUemFB2NIW70VYmfBCyHaSyafAA3Ry77vZlGg9xY5Bj5awqvsHJ1qAdY0sQoDyyRkv5gRdduLFXFxskjHo5Vxfu3OjZ2xHQaBBbcoEB1wK8GGnHsyZY63AlG5PKSF69RwlfFhc5EQnRfTkN7erfuTF6WRhrwdMIDjbB/AJftBJQhZlu4jW89lEfC+QhY+VQyS0oK9JGQ5mKnCylM0WDGY4y0ZjxqLgIJFjsUEN+jjOD+u83YQzLV6GrM18VTGfvhksNiMlxnqKW4JHTicS1GtP0PkeEaPpXoPepdRk7vZQX+155Bk/IHUCyOeXHkDyc34lWFOAfvN1q85Y2BPMrOYJlRmNcW2FOLlw+uu+FrrWyVPgKINDWXGQDldixioEIrU1WJL8qdAHRJxYowUNBzgxOghE8X72rmJLgSHj4fKAkjTLwQEqffMgj+SuesVdk8YM+t7cOeYMncNENm+jqq2gM5Ix0GbcECd+nTE8GEY8NMNS3d4Pvu+0mM5nd2iYDBdu60TCiQC7ULBjKY0ZUQyQsWLURIutd/iNaf7ytAs2z3dkPXANq0pd0mTiOOnbcY3S9uHBuR7fUcdiI7S9hcarmVi1rXPxTl9VbTyyE3kvc2M9sozcsZerEU/U2BvIbAvyOR78Sw1cyqJ9LqYvBZ2Z93KlHgBiiYLRAm3witI5m9IZcZE1PB7+eKKnXqmKCL4wVRjxMf4U9YxTMI5H3CnR4wh1CMPDwbIxwJEdz/BdZ7vriz/Fo5heFoUnlHtMvUx5DDKcNuINhcJ4wh7Fs5SW48EcGo0lMDL6jLUFVpRy6310tllXkiDmn9LZOcGNfxKlqYXYzQ7IcS+JGqT/isUlH3jMtdomWhY7EPXPca8rZdhOFWDsQsW+CX7SQ/qbloG2V0ENCAkO7+b359DftLyMLT7PjO39/Pt0SnCzpx5eie8BgOd+zaU+L9YxcV7kCDrvKlMj7dhlY3nX3mTZnA2/nxyMGeztEKKqCvn6mXRnCuHs+/3Xx+uWZd24O4rYVjwOo0ZdrwhVZHz/iDE46COBU+F9LGIxY7yAHeY1SjT9OsX6HBt14J5krGUQXFxOw5I4+YN/Eqaq8tv1gb+FOw9L8pvHgw/pnaNgt/3dtvxGb4kGgybAAQVSbly9JeJ82a/zrphrtRBIGBVhxPjn+1wJmRgzKIr1pq7084ZIoxrbkHurruFFjtrptHPwFQ0ANSI0wqE00OPDm+NTgLBVa+DFHdMLsyqBlG219HJ/VpGylr2XIEAl3RJv4nkYTtH7EYAz/C2P3/5wfc4DjGivRFaIPXXw/AIb749dOLnQOTI6dxEjZYbztVWlbqfbyTY2GplBi92a2cvW/SlVvIKCUPOmEqHyoIuLjVdJwG9c9kyvwyGWhlVyelJ++lI/ncfr9ri9Yps/gvjt08/xB93Zuzu/NH/b1xhy9/LxmoWFZ7on1CSsC/Y3dEZ38SJ9sHaOpnv4dJv2wGxTCbB61cjGS/PePascdA8fgCS+fArFHu9XUFp8fyCpO8cIbI2eNZ+b1ZtjJ1991w0u+q3gM4uhs3qxsJ1G8RgU3HOtT+jEtJq1zjgHQUilMK87KnGCZ6kStgyTscgy0P/XA7yjReAlWfIteUGZGtAkkiLHZhVZmtjnEDty5kqZPUuG9vBomyUsD/gcTlFsdxTjq+xAvT/nMhHTrhHPGpPNvR2zfEKml8DX1bNuI4i+uoD3JL4YccYwcVF5fmXvLPijf/neknEfVGdZqGKLSofAvsgXXq+uttWjGJgL20uEensbYMkKIL514x1UbNq8VvP4HKTMgdgLLfL8Yd6ZsqwePCCzJi0udKDsen8HBNbTCuPCisPLhRhWivOsc+gSlHVwhgG3VD5HH3lrnK4MQpUjyKFD2c8IfdcdRnhTvJJ6qIkXs8qk1CuwmmEde1zTPuVTjxGSCK0RtraP+9QNMXTnA2sD6HAtn5dOMi9VVpbo+ATnuIGKyF047ipw1KmKxUpWHq4cEefXOz2ANZr1XNl5rzw4WwJJT6qgxbVt3n2M7og39YsKlYAy4yCb8VjjLwwva76AViGmQA6VyROlnfsHKlwAIB2C/ZmEvpjK7CMMPs0PzdrkJR5WRlYZl62k/S4gvqPW/WvZb7227DEEBzp2BRFAgIz7XWIGYNcFRQUBOX8eQ+BeraL+0cljVxW093A95On3cVFv5D3MrhxBcm95ci4K9TbQx1WaoupO/T7t5aG4uJeh0xRNFIbPOOaFWNVV/9WHdnGJO0yMcu9sTZGipPz4Wm9nWMKawBdA+wSdwvDed/YN61MMVMxWVdU4I/CsBf0l3Hv9Q+Jkk0iRZ+AI8QIwkNcTB0o1IdDm4kY/vBMjmKcS7K2+NuNtG1e/DRfpHnN8dv9BRP9fdG0qayadscFVCm/nYyVOcagXnWuycN1ToPwIxdLdmoiQJp7Q+Umi/EPTyfqF+WbjsbcL+boB8pvmNTGipVRGeJqnjz6dxTvai8jo3lvjkeg3FyNMPBNYxKfRgAmpMoH0+FQzV0iiDboK4EsfUXnkMpUorVIlrU0E+qO9DDqT1znl6qZluau9twGGyjc95rhVicdI09onwipILrEe59Dgmekp2wLoMW+JCotpKWxaCngiNHpLS5XdA421EL+L0vBs5hi/Dfuzzq5KxUYx35Y6pGKVC+clkSRifJmQxL3saIOAnNGR/HSILXI4FXxHF+javd8Df0r9890ozBpyMxPrhTPsK7BvI3/KjwcUW/URcZxPV4TESQ3M+CcaUOm+Q+dBRSjTyQrbO7mlJxz2tBBZJD0eVmkktoPtr4ayCJyx8DZbdy12sEpMhkAlR9U0g0PlE+syXsehP59VrF33nSKGgX0N+AZBZ2zxpqYIyiHJAgKJqFeQcn6bNffn2bcwIyWfdDHDLntHtQfM4cWJSC0awvIlPLn4NOqj3y69Euj54ou4xNk3TkA2O/I5jvcYmSpBe3LDzBz2xoJBUP26aHGz0Ldb+/IMYfZdSiCnKHoqUcX40AxppgjlCdenkjHYN+CM4OU7ln/LrQ7WT3SM4wf2IufNMNlmLon0/U5IDqrpFNcRBg0uKDY7n7j01r5uQpYafOXvx4Whq/AxPyEBm4PUJCJ0CXfrcgohcgnv2To3Qhns5JO/ceJNUTr+BTgjvquLBlEovp3QfrjWa4A33S7ecu6mEJcFZ2k5ae053ff3u7+JZBGhiy2hnVwg9CLvi6+eT6qwqOqFMJCIK7tgS6XRm/FeyRSvA0RUH1MnBBE9KPQFb7vszs3kEwqVo52ppBtejBMWJJogzMV2k5LaL8/Yz1b/bm913BF3nJsw1MmYjHYY3Dzz7+fzpWeK9bGWimOekkY2DGbplIUuiMqLzmfJ4GdveV1PfJs9Xxl76by08B7mCS9TO5ZBcdZom/U1y51x8lnWeSObVaQxI0d6PKd42FASHbLAU1ponVeODm2Qq6ZrT+wB88Jpb2y92N2bBSfGCT9zL2Z1kIlCnzqBMR4k97R7ivUrEsQjlpBtBvqd8zXx5CzipqhUzzJfjqAEn8ZnABMLWu400TLXHcca7Aiiii+XepafnQIq77YyL+Us2xhfApbnJFIqN+MLkmHJQgHdYlBno83oVmFUCKq/218q7ZW9Ky82jIQLIVYqa3udvoJ4uD/aZMeImS7svXGN275nel4sRkewCXqH+QgCDYHKWBplWrMtMjNtpu41YkGDqoF28AFaLV81DGM17Uzo1hO04DB3LhHaij2EdscEzppnirVhofIkf/UNaWeOGhRdQZrKVo9Xr5pRwp954kA0b+UfY0r56QtwRawPYdClPJ1QUatrMXFdmHFcbEdZ5I/o8I/D/Y2E+TR3qUUNC4LRA103L2Ri2/ZW+O3zXUA9VTWNgNOPYklh4uZsKczpp74D+EtoXQoXga8RKiNtlq7pxBM5GbpVt8mWcxx7PEDgGsXizvBpzS50adsYImy4LtOhFBiv7HnFrgTPkQYXTDBzVgkT3k75HTFh7iqB/3cA+bf740UyJ0jYru02dh6cLTkMqcMFZ5SEp2c5wRgjUfrqUeSBsedPwPGUEwsa77obq/79bhMDeK5xLLrMaBseLaaWVXMYe6npnCpf91JIFBkFZt+n+pS+CQVYnnVj+/6+CQ/IA8yJlyYHWP+1eT8kJ5OvhrqDT1C2cHZ/odJTcovENKayDJDNbriQ7+/lfBps4z9Fc+cvg5l/9X7dd8sj70HoRCkwZ6jAtifgFIb7EsdwtyFQgP3et4mmhL8EfQ6+PQX81QC9LhcSczaL0IsysJ1t7S7nTLuC2nDiOKNXMQQTNo9Ql05sZ1jwciiQb2FVldPZfeRUlkfinYtVy/t83/6UCGDf7qEL4Ax8DC4cC96yNoPhz0FQo8EgZ4oIF/P/ueY/1/znml/WGMcnhFxD24Yklrd1zvUbBBI5AVUxtNZ6fDv8btNVRg9992Qd8p6L4ZRkD3ZBKigDyBgij9f7u7k/2AO9K7m3GdjQOndGC87sUXnNwcd6cS7v7YkuZ0LdImGIFATAyPLvYrv5Q2z5hBFmW+IzEoQW66Klk/J43h66XrXWaFNIfa8aUTWIwuFOJKcqx2Q0DrojRpnIJm/MlPKkxhASZ8mVmcyOpdTpouzaGQKzekD++IbPLwRjuE/U24TfQ+EfMPU7fH6puwmf6nLGl7oTyQqQzCTj2AuUQ7hyv7LYCzowuFXKmH0BtmcCM9BysTwQeBsJBTVQBsKB4dTs+sStWS8Ea+m3Y9JXnodfxej90N+AW0pS9P5u9Wcp44x3KWM45l3KNu7XcOAuknN7f//Iu8HwLyH0/nz6LXITPkVy5qdITkTS/4+6CGRxb5EMR71Fglh4i+R4XfmPpJ+v7GfmGuDEOLGXOVbltpvbdPdea/xa8mcnywh/D8eFIuHT8soCvxP1XVGUq8Uc++Ld01slmORpMuG/tvaambclnJ2elpwTBqdnPvV0DaiFBYlfQ3sVzJqf+wbatuasGFfZCWf+taMg2opiSRSwPtp4kKu3QjhOuvnFBYYDklKOcXvQJsFbgRV67FyQzNL1wkB51F/r99cecBVawK7UhSRXDs9QUVsJF5Ee3GHHJqBfME32asrB+clQcSVXLO8yOJMDEm2mBTKZOcW6Pw62JGxGoGrf8uqe8JGLfbr7j5U2CmW63R7HSahEpRJFefwPFVP/qd//vH5XPM2FTX+6L1wniYgxMObzK1rTU3ykg71cehcqU6GgFoK2tRssrFhxF3dr7Rlb9hTPr60FFoDa/rvQAdnvnTbhU234rd0mgEI3p6C3SNhlHE5vxD6TsytGY+k85y6V7c7AK9ARU76SAkEPIGhnhER4XDJImnn+SdwVh0gcFF5QFxXe2I8smPSKwV3RFhIp8aDXs5iShHul2rZEvvl+E8w/c8bw79ab8sc48gUZf3Wd/V9XB/8v0uvylvfZwzI9dDW61p6fjOotgzvVoOXOFzy8n2svylNO9OMk35mdMz1+RIMpoFHFpmlPXU8sQOkLgzbzce5RQTVl13dlAcXqmwOvp0xocyJkdEjVcMuU0rylT+pokw/YnG+S616zgTI4c+Wu9rU8n/e9WVpU8TTPGXPNO0h6YGPhPI+hRZN6Zug7xVttqZ6PhPcqeYIUF5LWXWJMb81doi4nPVylOWxtLJp63r/ZS7IJvpw8zhRhXPDxvnvKvjNOEA5yB8Baj9y6Y7NzmO2JLxdK0u0o5DeG6a9JJsyzir5uMOA2eHS3tUgVzmHCTPSiACojsCjyTHCEGIs1WyPBAX56HrYWvhxNSV+ZdVOXZxnx24Vab6aAZRRP1Kg+m9Wi6s76RJvVUQ0k3063PjRvrfZkAZMc2zQL4cMhgQ+ns6cATsrJwIDYtMp4LnVsijQJm1CoETAJUZVmXdz0Om35A/Sei+mUvTfWiZ/ywktgtDtTDWo66/ukRZkSRT47UIpNmAW39DflEdIbxRYynGqhyxyH+IRz7Wq1hjFz8k4UaAhtLL/Q7BPWG+s2iR5suo9CKh3GvZRMwNCQrL8GJR/3fMSz1KU7XDpceL6gi0wwhP28NuZ+Nkwv9qzknKfQOZXYuoNqL55DGLt1qEy936gx2kavn/dLjpA7WbKJPrRS5DE2azIWJLM3xNvhyEPr5AicSJOuc+/r4fRUjJOs1umZvLBTSHEGAalpKZOMnMhWjMW9akavY+QVdT4qVYUYfKWEJQ31R6qYJUW+P/EYbXrWL+ujXbVZezimkFm+qZ5fh32lLYpNWuPB+ONxgsFJ+9RFsmruxwOty0q5dU6lMOUd3ifDPGFlxfJjPNipQ6OgrbAD+P2qCyAEqBJheHMkD4lXxVSv0vY0ZIftZC3Ftd1lCEJiQ173OGiRR7WE5uPcrYbex3uoJCYELdc8ZwXvnIouVc5poRBKAi/96DhKQhVBcrnvkHc5LkMF2oOIgPIQH9OKuVD8M7kATzTkEmKpK+E3N3Q8x77eHmF0jVFOE6Ga49b9gpyS8K4lL+8eHtTkidE8h9i1dKQlIm6Znj3J91exSFJyRSai/CQ5ae3u9FHEsuHNWvbc0qfMN4ZJYHElxUhybOD84OFt0oiihYfzu6Z1GlomPAzZT1i0LETuqIbjYXR3M2GIOcbDsDUVRgiBxbo3leCFjXo8hX4pUvrCn/KoGiQCqkMvH++wgHhZgaCCXdRtd71ruogs98cZVXkVj8rOeb08HRIOgeG1sBJTzNJh6sRG5hB4YTpNVBA+3FjE9OiyJM/9ikUE7WNkx7Fuy8SU428uiqeWN7c9ehyjkHrS8sgNml4I9s7TUsa/7tCa6LrA6PhcBkEb2bfDe+Vnl6lXzRxsSO92nHzRjzYxfdZETcIO0FiqkleL7H3nmrdqXMozqAV8GD22Zbx59dq3W5aj3FXrtQMXi8VslKPPFDMSOFB1u6WGjPmMevsJy0cldWuYtJqiXEOLMM1SeVQ4J5YUYfIgWJwHORIdARlr5ii8DqAMIph+YC//6z7/7MZaVd8vgLnYMZW8QCnK+3F8Uno+pJrFeh+HiIYFufSU/5e191hymEm2NB8IC2i1BAhCa4BQO2itNZ5+kFV3Zq51m3X/NdObzKSlGQlGuB//TkgkRrYDU2/s1VtRpJzl2lgMZwmYYAtEX2Z/CPgmtyY1fq7e8PXq9KQzpgCATWMEPXH/iTgx92HS5LNro3HZQq1mTZMYOWp1oZAuFwcIdb9xEWQeuyUftAEoPwxjF/GstB3KNBqZ26xErO53sAo7fP6RzjI9rgXkqIeNgFWcQfOmjHjyoipj/kZ7+wVO+/Ky2weTCbxlFJXm3XCku0WuKAWkpIniSdBKskpO7dhLSfRXFH2s15e47QZLMn/7+22oowRCoiIwe3mM/ZV0I2wMx2Ib5JKRHAuU8sxDryy2YepBsT7iRYFPWqiDLNG2158wccICOKxhJH8P6es7zifmseGjD/HJMRF75jYqcE8gvNmOwCTlZ7++rkUkOMlpO6ZuGVrlKfeLNVO1cop8yEVyV39mbWM9DNi3GqO5aC2/8tuhP3JiGySrAEYmf4xX8EFDntOskxkgqujFs5GvuYL6E35r0IOHNXoiQ2poMI/4baN79SAwPAoDyg8vrzg+0uQfiRNubf6MF4Jdlwf8xdAiUpYvrCiV1boIZ5kRK6TjY3L1HQabM3Aj73OjiLe6/FSzsCJGd58Wqk0AFLBSVTb2JMta+kroJ+X2vCRb70p1nMUGQPMWmXHoY/S728hu3m92eUB456OV5Nf0B+Dj6jPaPFe3ZOQjJ0EIzfCrUh//9wtRUVyvUIsTylR39NAdyiKAhyuWfLktZPpF1C2gbrik2dElAyouFru4j2gfdRCNA78t8CItCwJAFsP7wNSozKt5gV44+7o0BV8DEUZQ3Hh8y0PtKJCUNvQBGY4Bhf3+T5KQeyoSB2sWA46XJ0uSO9HRhxOcN9gclZ9aP3w91bscFw3LDsZow7hEQDQtKpXcf2keIdPwaqZGjA/dLB8G7nhsW5c1ydwavr2l8gHKizxEp7mq5tBlOYSi9kxOrACfsDlz/qJkf20/AcdxBPMsAzRlunzJNAK+OqgAAyDpIto7D9R4OOk/6WBIFnovw9EMrxc24KQojR+xTTSOde0d6f4+iY0MlhuGKLZiJvGUELuLzhyWAd+kORtM5JvUEGCfUFEdwYwCfZppOEqGI8p+Mqv43iit4AAoRJDx10CSzII/oeRYQPcHW8UY+I13fT8MCkF/Kj211Mo9PxbMyO1wkQVCDrNoIvB23gQGdvgACcM5rJkxHAgICY+yaRuqcjX4kVbcfY8o8pIbt8yZE1AYFY/Ah699VvHhyiiTNQ87DnJTbgAiqBnQ/886979eV4e6f851Im+8/WZHcm2qghPK3Mgm/plmvMAapIOLghsCMr7tYRdXFBnH22dwSZwdxrbYOmdNk4r3QthXu70cZ98bJKGm+FKcow9BnNCsoqeNgV1CQM4mNnuLbyD2gEfGcI6XLXtC6Rqi0j3MXMtNBCxThqzmAZbkorA5UyMM55yKgKYwIEaWcChe1q4uAbYUpzxOKFHNiQLj0iG9WOWz6kG8do8hqQYamd0GVBJRMd3K5cnj4hoYpJtKTQP4/jD6g7MXCcN+RbxSFstxnDY8KDdMbu9rM3SDuT/fFsCXFhSB4SRsSsNUBQmSCNHosn/9LENBQy2aOAOjHSP2/kpk/IReLcUtvJo5ecIXK76rvZO0dhqia5q50BVMP0jLLlbmtPq2HeWXCYJ1SqcVY9xlgrdfnK/X0tPsj2Vsa4GUkusOJkMVpEX7Fv02jhvr+U0UR4pHGHyGvXngifygkp65gQBwHporh0DdBTFtv8bKezzJzQyYlnX+j6Lj0gNKjvWlf43/iNIziXZr5XxyI8KGmjXS+f5+RXRJ5o9Pb1KgvHGtJc28OMybFNJ6sEDr54s8L2qK9qOt/OpdRfA8GzvzJ+/yB6ctxnXN71EWJ4ntGkc80/08VkHMkRgbtgHod/uqZa6g4YRNMGrdk3TMDdPQSvvWWV2jtNgekfaY+h5Z/G2TsqdXIrjNDvJqWfTtiMGIF8LEVEi1dK2HSGdUe3iTaz/XVaKY84lV8R+V2fX21gzuS72Rsb210n98pEagF09X56p1WJVK+WqrICzFMlMQ4m0pLfib2m8Ic4bRueu4dMqDit1l8ZAnU5cEducMK2UwURTjacspg4iwHsI3E84FJ4fC8vhul/wVzxdsX9mkSrHfnPcZBg7jKeONebDqFh6FqjXccLX36J5rEz+qvfPFYiVLARbkXmmLC0vt7zg+s5L8OBHSqo0gaC9DSic7mFZIpB6k84zApsDn4GAaK8DVoCA86U81uVeq2fFiOqhzKPbrGow0zZQEyygOEI/PlG3SaipdpjeuqVBtjwKEELZlfp6GQgjvwzLQc0bji2IwmCNf/uFSokzR34AgWaPkuds9z52Ks0b9SNtkkSoXk5zcaG3FpVG9+hhr2v3VuTaqyrZCpNs+XXTJ3uDD8/N9gupwdWXXtS1xMAcavDZj8yeVULT9kdQ8PTdjcejjNyNYDY7+gVLCDv0pcOvPgcRxhLfIYNjVnTK4YUP4Evy9MYJQHMHFtu1T3qYlBg9qzYqrs01mwtN+7fUKSqoMT+5muB+yAd+Mp15C7/K3Xjyui7i1g0Tq7mu23oop0zARJppBvd1vc7CHye51XL01esmeBOWILla3cuBJ7dUx7cuwp2G5QzOYRoz+n1h4+99eX38jJCUyu3EXO4ExoC1gmu0m62V/QepseSFI+hpA+7pBmUQ2daia27Yu5/eytTtZW/e9muSO1w4PInaZw7HW1ta1yQoxCX9zziLD0E58e5QXfx+7fJvj3zNd/Po6M4INAMIprDfz/dd+2G1m3av2FUc70ADum9jk3+x1+gWyqZK2GgXVGJbNTjMDBrCAKkCFfJzr5H5auPWtnxOsP7kNKw1wGpG50SRryoyeaIX5QqidcI6cEP5dURtJYDGxCypfUxXzViIrfDOO/zsB8HH1VxeXGykjWY6G/XP02u+7NNzOy6dgpgBOu4P33xpyhsFZbyZvfPNZxxOkWycmjrHuGzPDdLsvJjY6FkN3DOzJejkSDW+vPqXP2OLMqRMlljQlMJ5c++mg40Qnv35MOfTx+o4+8+v+HDNH8LNusR9ffixl2ubuWvwJaYVX1GfC1eMjLZApqg3bTw3+w/Yokz00hNN2iS+vLqXHZsNcQMsw+zew83dmo082bix3EXPexms+zjQU1/fLXDW4odcivyU3PqGbJZUneTvyYR7DDBPeEmEOhr3fphyqQa/f+PrJvOB+wmw/z1e3rQWRiBBU62X774tP/8fFqP/j65AmsXhVD88kf7VGD7Ns2Vvmt/018aIdiMrOIiiDkT/iedWwiIgKjFVZTolqUz7EPnGqNA8z/5ylmSoM53emySWWaZpK+3M49XY03rOJdpj85HUmkBPngqw7JepuW6XqVeQiHy0XTEgeGXjGg/PiwbMBpgCs7gAP/aE9MsMwhKpNUoJDbSR52enu93luXs+X4XO6jXUd57cUoUj0VVeDHVYEajFRYoU0qVpmjEnMhIJLe4sapT/peZQbS++DI7UZt77uujgXGwLdpHBGoSnb3bcGWX+yN6rTrJGe72fp9LZxYhnDvx6Gsl4XRhxDWzbxY9ILKypjyV87Rv1W8639eNium2loyfiVo8kcyTXN53F6kUX3VPGnxgAFGEwXqbF13pem6cKJMxL9+Xw4SJKkGf2H/fY/9ePXrIRzxeVmaml8gn4k/xIE1CMX38DSr6w+OYDysdAR6oQ09r2EyNnE0UZBixa0XQJniBw1ZNtPCflbRFeC22PZBdR7sTkKPmRDcOYPOGfhht8ktfdgW3yqyXE7Iy0Rj5jXb+TI8LIZdllMfxAmi5XQB4RqzJCWnR3rk5gdQxB3rgQrrzif+QeMsdN6FNPPfq/mQEPLFttV4LpqGodyn61tmW+LMXM3bXhEDBwY630ZGwHuDUhIwa8iWPkUyAYHGWlT4hLboGZpWurzGzNnlxbAoUs0d43st2+Un48/IKJGc1Tg5Ca31xI0uq5Aj3Uq/E8jndv5UsqofteXH5lXfeTFmj+U9sv2pHbY6ZAeZR57+rS4e6TTL23k6Y+JxOqVNVqCTND9G66k3nhNnjgtnVvflQb5hb/8ho+XYoOUp2M78BZlhb43+8aSYZ2mBev/UX8HzXFBa+LEydmpcvJWAnmebeOyoohrlJa+LmhBlEM6mkVo16JSFCuy6cD2hTRir778qNhNeGNQkSfMznlz+kCXS94eXpEZKtL7LgNeVRpfNebyNPACESgsvbrcI6+GiQ7SOq9vJ9WUFZUm1QryOlmAz90YnDTznKnizN8G9A6T66j7ROXWfaLMLNZbS1eepMShLdCYULGd6ETwrJCKmDjjIX56sKk13m8IgQAOgn1z4CyBXWGM0b2WqSbQOHbzt55XKboXa3VInLCddiP9gEPCDI708mMrtkQBhOG6Ah4vevNxE39Oek/DOM2x5rL9crKQikIq7BkcnBsW72Ti0sFr/xKAqrdoJOu7jYHojD72ioTm8x0ExtiioXS9r4u1gJGpB2710x3MrrVIqS4nlSZvD/xpXvYXYYuFfkUDWjjIZfiycsF3W8JbF3Nptb/bfoM5N6ZigzygMekulRDua099mHLQD2pDM1Y3/RdKfTJcMCSpBunZ+chsYtUZD8ZsHNOV1Ex+4vsOqrJhUKfT2tcx+1f5ut1yWAIl16IQPLmqIx6BLnoIdeFgmC3It8yiBNuYMW09pWJCfL3zyf3IDnOLvfZBcqoF9S3YiD5jxCCLfNQOl0Npp99PqPfIhU/5g6OKSpQIXtode8slkBkO4i8fX+det/MxiaXtM5EP3w/L4qwAwWshNGDb5kdB/ukiYTSvwNMGlf+d6LfcRMbQZ3P5A3I+99lJ7ldjX1fGnu6dDyyOTduF0VD8dOuTyzmyDfn9MZBjIrOubENq1i9cyC+J0UPz4nzMxfhgRiRl3YeTqViouXtwQpDkOOc3VUjs5R/ggyUACPvArn/b2sfM1x7nfs+iOCbh4vYaTzTzqTTmx/5A9hqlKMgj0/mxF3ooYotXU73hvtjJ7O7fbKc9Bk3ibAXsUNAuGPSWWdv323ZLjjzWzXNQquQjLuL1blNW9zrh14y+zPzpkf1mlY/AUC32DMePGkTShnxDAwQgzUD0GpkD+Jpi92AdZRNkdBNBdlp+hqi+JEjFTo8Gdr8tJZPZbuY7uTwBFgxgPRf1xwDpbU8LmvYI7/9jHfkHr+3XNTp+e1vb1kXCR4QM4++0YVrYH8op+FeTfzgKCLqwmyu8JcUZdOehOoaJdUETc9fN/R09Ca5J8NuMXRWoyvHhoXk1IuHK2S5hnKY+GLwd1b31t2BQ24LkCtkk5O1UeyWGGAJvxTcI8E2hTHPaewkCdmLmYoQ/RBpbzxMa1rnEZZPBHotti4958XoGfq63NkxIF7h9X1H0vlw2VYLlIWIeZJaK4bvnlhBL1oBuFoBYz58u/EjMLyCU/rJJ1Xc5zAMx28VUFCiR17phNTTj6D4CoAYlfG0macohzDKZn2ZSMR2ysQcgCxf7TCwp6DEjcFcyDsjtQDrmDZ6peX6d5vEORr3Z4GCPAYHh2ES96K8dqWYdNMPzduTckta2/ULqZXwTAy4F5ubK1wVqYr/r0OfaFhRbiUnnv+Z6VOjLMq4amJI3sFn9ybHg0wJv6plo6o/Ft7n0hWpaH94po/InRlb3CXU4cSU5inGRkaE/4984rI4IK5GF7vW6HoIYUjM1ZVGRbH5tDH0OxUA0zaPZLHYxCNveZIkY63J9tPRvlbUbfAD9EJDhBBjd3xfF8ZBd9bDE+J3G7O7gyZTUVjMCQLchUX4bidV1QGm7JyWKMS/P9faBLd64CE1KDEyp9cZp+sCZ5rAxylHAk80oARAk2FLNWTrk1zmXFkJ0a0gyQ2yeI+MD8Kc4bSyAghMM42iGL2WbW617wjinb4mZSw1lzkB+SrHZc4ObAJas0XZNeuGC3tjUN2lg0bhLNt5Mna29HX3HE/MGddQoLA/qpsxC4YHLEDLB5PbbJuG1/xrJxD3dYu+UuqAE65BYvpKYjm+FoI/tdZPeMYf3+Woi/ATQsigYeoVHnxsHQ6iXpN548f5vrdH312le/3z8Z/pYoywzzBv2cbfolIXQVwYIm7ctf3PPQLQYsaGKNDVaB4GNDDacUzpgbQznubRAPM2sSXvGbrTRtw0DdPombAMhOEA+6FvPji9dxfGABbDzHK235C8NoMmBpYoj0PVHKwE4PSiB+5iVN31/FnJ8o7a3wNy3nGNnxZACW/s3XDoc4+DfOrBXINyHTuHNTc5LKSjGu8Ta8Q5yrtLGnIu4/HSYQoWoBLCUWQe/OlrqZ8VrP1mUsI+8u/iR1qcI9CzB/NdxyZSGpPqNx0RsPuTu7ctjUtBbnEvbhAQWWdqCRyvAPGHqk5B24qpThDjzw4QoluoSioFacS2QgJUV/Lm6Ddc2NrV5AVntzhe4spnOfGMEj8MOyMG6rmr2gSI06ay079A7CiZ7rZt0p7WISklz3uNmyZr5/Y6pvn1s/Ig5WNU2sY7VLz8rK5N+RelFwFssXzPsFeLQcBe3/hY+nSZ9Rcxd/YzUySHqQCsRxu7YQvrgN6h1VAp82gVu32Jk7vKhRBHoMlsGkM4YYVugN3yvZTT+7skyppdb9goJO7+tTJhTiLdGcIHvXcPFBflRxVpRmLXyKCDFqloBilZMGv/5cMYrGN4bRsE5YdHrBfy/85dI30y/7BmEw2c2Z4f1r6AvLmSLyAFLSQzKMDWnq24vx7tQBKuAFYhJijJw1Nl1seO7H+JD57CgOevD1XCddGF4gZ9R0Og7xeVFBjT6zCRK9o9aQEKb6KaO5uX4pgG3amlYetqM8giZk0WVFeXPvX3vqo3clneMjxkf2iFoXPFVr2l62wES+9ie9HPDly+GuzlLtYyZrV9cDHXyx2QiBu/ornLO9q3V61g6rFvUzRB8Lo7k47E/B8jMhIPvyRtZmuMU8lvsda+xWlz+zPNsuLf1EryaK+lEWQUDNaldxOr1cSGuR5MEZD7xXsJIDK+Z2sE+GShx2HaY2Z/aIpwmjMmgKE4W628H37fBtq7woOtZhEZNueFipi+88zrMzu188QlvK40WC3p+i+nregmLLlklNTQEhagc9psGElAR3vkiaGSy5ukZe+DM6u7ALaxktSb4caAqHAlqNXwU3H0KFcBlKmR4dYIg23fYecm8N+XZ7QHM0aIjIUYetQt63mp0VOCU3NJr7GoQtaVHVVgyD/+mbmLi3jWFPJrf8nep4wpy098aM2YpkwK0/GUl/qPhNBy9WEygzFxZaqHwFycn8i9ei8gd8Y0pKvNSMhTXfvZ6alco/aqP6/yd0Ktq5MrwDNkOb3u6eyasKmpHmbRj/p4IvnbdNvpdHL4z5+e7uiR+G5o3EAWmUiYRvU6y9uH6iQNth0knz53YFIPSuBBqMAUjjyvx+lDy1lXLW49KBPqby8vdAVymJgK2xOiJbULW82WXjmRza5JCpCtTo8eYb/lNxdnoXlIYzROllFxY8OR13Oo3JSJqmuRJLpQHRlhE+tG5/fyG2sUKQDD5DuYy4prqJ/hZjJ8bNjZcxHe0HHOBSA+CeUYoolic8oHQwZCewvOKizXWEOzVoqXIn2EZ5PslnicwreLznBk7QXS5dxq96KVgOHiXSvqZfKIEZxx2SJoXP6+/0dnjdzBF9XhL/Pb9frUaX1qJrxhkX/tyBYWsyKApnW+BHlMq4WIV1MbBvGr0FXFC2GT3cvwNqCvrB5XYN6//tndPft4iWTPFRMILJBK6N6gOXZzgWoi0u+Noabi80Q/wR4k6mcuDEaHNziLjswRBzfW3ZzT/aNdPhDDstVQJLF762LcovYQBMCEQj2eOyrPJCkRiVDM7L5qyhBPeDDGhP+Yc/YWDYEl88kaH4pf8wrL3qd69r4ZF3qjizKIZDqtggVq8NPMbbThI+h/S3N7YS8iDfksjQhb0IJjxhvwNutcUH3Ms1g4wYDxRAmBR0El9caNZ3gimAa3GdZ15fugJHdHdsvdxN3vgBA9vJwf5y7Poz8Gfry/YA9VAtAL9v5kwLfvbj+TK23bXhxgjzjEj/rzubeoGSoL336qT2eXhb4IXPQyC/17miUSWECd/+j/mC366Aw8uLVHjy/vftk8S7lN3uOyiH2lUdYCZx4LnKzazfJoWM58LuEQSd8ypHS2vK6AM6U5mzfDHyDoWrALsJL/FcXAIoIYLp7pJXr+IUWXOZ3n9trBGNLHGGVZApKvuPlXXsUN3QSJn6LfqurBAs+fbquDaMPQMEQ+twL7pS1PSI6+TkORPq11vA2GqYpJ7zuTAx77KljmM+pZuY4x84W9EbukLttZHepKxYP8UBnS2/pWA3Ra3w92LS1lIhbWQjQ7A1C/28lyWwb/z4xhY+UjPwavxGzGhgJDlozDnc34+Vg7Hz8vLSrvYc/RlP7t9j2bAktFp3m/cE8m4VdN3o9XIAt6WSvUs4Pj6yq2SGYZRY1KuHhP1xKd+QCkYTyytbdcHZYNHUD7eVaGfFuPEvUiB6Zmh/+opXv3RyrqFLw2SiPh8HTsKb0HZBGJ4k5/7W3ty+YWOmVCOD9UejRO6YzWCEABkyLUgwJ1a4kib7eWbTH9zPYko/J0pYUuzPY6e9ws/Zcaw7qwkEnFdBsnW8+xYc1dbpsW1oPVj0iO8CoTE3gKzFvoL5AzdRRvSdlEZDeKq1yNHVAQx71ZNeVa8sVycC5I6jdiC+TxCIIkt3IzVDpHEX82nGdOIEEdv1UNYuAHpN1Q1sRcbfcgTigAKluteV0stwosIo1j5aLyCYPwtyQ9+nlXDvr6FPbTH+phUP4pQ01weAcb/AZfEir9IDOuF/mcJwFbDuYRXXKXBVqlZnOmZ/hJv/MZvnwDU/eUzdD4Zmfw7xy/mJqS9HxdZWR02m2fpvbcJ2gvijEuWxDA6jZMP1P01vR+o3ZcbqzcylzOo/TvE+ZdPMuG1zmuHFQPWscT9NRGT9LsdOYn1rzFYDOWLVG3Evw21P1g4S9h11cUlpww+MuvgJNPzWRa04AbgyD6NjRclyIJyTQf2kd3Q8pDRZMWkO5gxiiA1Rj3Jpgyhwb/Ry8kUzeSehaarQ21h6NOG5x4YfZyy5NA6PzH5NYDcs0z0az8bKsJRdR6ri+CMSNhvXI9eD08TZHbWoVAPs/qqQfK9LONEP2YyZcTRWIHQhx1hAbwhrdFWK9tIlnEryzfcBiGZcA+AEfE7P0HzMfjpSzLRhB+dc0O5P2jKwiHWGar8dZ4avp5Wo2fGCPsaPD/fkkqQtv4LPf6IBtIJkmX7NDAi+a9bYGH2gr2fLhyL+9MNP34aqrPI11B5n42XPhmxslAovk2y3Fz/T0Pj73Ulec7zZZjo9WUlGyuXBPJ6lY5UP1xBPlqjw+mxpVHRdWZLyoIA08IZtPgq55MW6g/o57GrumlYb0RFL/hhympgEjsyhyeaLJ+ejuVesspJk42hP21R8s+Hg/kfCXohqZArqYdIv5PbLWE/U/qF6H6Ryii97qnk2npGX5i1p6DyH5+EYwery5AstHqLIo+9GeayHf52GA17kJEpN/DDdxGCIsYbTO5GMqn6hkWi1BxALEXxy8+QyWY4M6D7gurbeSAArrclM2xR2Nlhd4mWvnPX2//mzEFB6AJhim3ODEfxBdSkN4DtJ19Hxt0DyHSqCjLaZ4ZVcRreHoSoXxkn7gJIIxFFr0dXBuEzseybrt+vt/xuQzHUDE/j6QhXBArf8DOPF+8OWoDAH823UE5uXbvK0vWFDIfdRItp2vDUQlopEr9bJm/TznSe5K7v+1bla/Z+tMJi8pOhWe/unetybV3UalM4z3tnLJssISZFsWALjrf6BZduNFLmRBJpi7+q28LTqiTTTf2Myht1aD2I/unyXx1SvWVHm9BvDJtVUFDNbFAYwb3FzxzDiW90QG8UaZ26fEl7FNtPO08JE9LVsHmBQ7slHN/8w4gu93KZYoW5DBuCXSGSCUj3h7PYbJzLfr5ABAK6x954IwSNUhXxCBKY6wfMbfnNqx8NqP8gkIMGvJh9KvjgCikDYNA2y2QETFRCd0s3sR5WAJH0/WgADD3yX3MU320CP8X1o0zAfDhZnpyJbg/UdtC2rDp0EBMO7Pe/SxHozEc2aLPjiRW2/UutNst8P9i1XdDVbIGK6N34dj0k+snseEniuNmWTUI90IjosXjcHN35dzUNn4kx0YUo/MZojLZfeLzJyhSlTyUuwxT04BXv4t8hpxVtQZaZWXFRXAG31qCqC312WeClfE5cFO/hb7um6xUCdFTAvdEO/Nhq/0Cz13lkFXltjKAp9/xE663YnZr2AyAfYvZv32uTsX8eavfWnu+Pv5IqcIc3zLo6/YZMMMBzRVmZu+oe8M1H1NuxoYI/kJdYMnV1bdqEc5n56DfNL1rBk0sPH8IWKTkzDkFEeuRIcsGVH+oe6zYHTZ4RIyRoej+4/q7j/W3svmmH2rM4KT2Pva/EMkiytW0m+0ZV4WpoZV7D67tkezZe8Y0T+f0AT5PU2oh/rxPAT4sFP6k4HMHrqfwAZKRgw7iXOUkz/7snNZHnCdCEo2CHS93Mr9AhL35h5dZDiKNxJRqKZNXQb4+cnFByqwQK2cGN/Uxc8/ZaqwsCsBylnsfUKLxNwqxkcCDBbVR+TqV8M2hTseJ1I78thRx8pZUu8nLM9yJh21CGgllISDncQeWlP+pl5J8Q/OTQRusefk1fir80LYq977OHwCGjIuX6zz9vcEZDsfkQ1SJnohDx4OTi4y744exLpUCXmbNY45lOpbGLxf0aqPHYNmegOMys13zPcTN3kbQdsLlKCoWjfwA+H4KGI92Y2ELbwY1Um8sXhPV4aPJcOAGtKD/Ujv/KbXsNPL5WyCxoOaMNsMoUjcXC36LGCkqmis8PGA4xFR6dFI31hfcGTV5e/RtAEjefxQzKz6XXXiW5TDoURH2QdakV1H/V5kpmBnDBTUN/GM0YcETGy0RfABTEJpefpgiG8nYSNzNDw6Blo2m9mKl0FBNkR1x8A6yy0C/10xqiYjzfPqckfTVkWNqWo/6OBxyq4zJfO5uregHtCJTH15GI92vrHntcXO00UAMaDMb4uJDuXrmCZ27+qhHhA+OJaIvlPEIWdu2LIbeNP7tERAb/QG8PmyzJHo1JWZ13fryV+marHU7D6XT5RWlEhaVHhftz7BbOlNo6TXJiKtJnnorH3/EQo1nzU4di+lF8u+kVBcprDh6NlXkxk7W8sVA7RYb+FIke6Q/1A9ej2m/K0bEY/hKitiYu2tMsblBlKrl7yrScwXDI+2CZuSJitWAb8fDXtI8Cwc8opfW3YRkE8Jqdxix4J8ZukNLWS5QuMIJn4ygeiWBMm04oz++bh3DjSYCfPN6UkDTkD89hArY+4jiy4pzbpdBCxWX1IyDpDiTg2xtGQyi1zShSt+Ho13nr5ReobibGE+/gC7oPgnKwQjxU9c0tUX3W7rmQvPA6e7LJLwP64sxtcP1KnteLqSL1kqrP/bzBptXKjiK1eTgJwC1LkHEcO19g1rjJYgtAlBhAMi/+1F5Q/IggxP+dQP64WPqm6lfEakwydKsiCnKBieD/v6P0LPjwlsLKuGPzdwqwo3PTMPH3ry25plX4C50ulJNJO50Bor8RWagE+xTqUKzC6XwmsZmS6V8G9QVn3PtmQ9shGFvYwo3P4nVLqznyAGTtmnZa6CSOP96DLWoyYAEBJIMAJ0lamdF5It8cIPngYHQwJhqMhZQYilxh6/jv3QAs9FPuAWVfCjsw1EmwkhhYTIemG+mtZ1GXjKgAR/cMm+EgtaXa4sSEnGb4l2bYCBYCzCBMCXqWuV/91w3VgSGgD/mNKLqpehNejuX/ua8Hu0SWFdY05sZ51piiVTASK085js2/86V/NrI1S1aSZfZtvqVVlPq5LLp7YJsKzRT8KUCG1xeGekDGIOZ2ADxG/ADiAgjJ9WAHDASZNKOa3yDvR6g75JAT/8uo9TJH5uNYjBt4gPiXSFhbH8MWTiOyJhtpRJFlyF8GZb7fEnuaZudoF2+wsILFs8FySokJ+e/Iw4udv78MT57xM3+I8Dga6fwZ+p621cqZlkfQfxer4fSoOeu36mMxT8N0aVKbFu4D/kGM/6Iz+N3LDauhLZH137HpUu8Ez6K4IY4MBmqOBfHZ/tBS96g4fo00yLH59Uysmn0eHpqrlqLG4BOyqFiGN2O3ZZZinVnXiujrBoTQq7o/LSzmqodv1QsHZP0KmzNdbWOOeYUtQxaV7xfDVkCg5br5WUSSoMLyjOwZpIBfmceuCn38ZFNe8PHHjwJ9wKK3NJKpYgTDANgeQw7xdJHDW7vHjJcm+fdtWIl4VdwO4w/cYA3ses/c0cZGSafq+K6mCVAI2DkSM3q9pyDmKne7LTewJT6xZ+raRxEJSCoeIkXxUkOKBeztsSJ7Dex0XOy+IDcg7kdgDPyV2Uha2S1Ajdd90qc2UAruXrrMYSnA0stIV1K5q/dVrknKgMR5k152TBUim7NNQIyKWfDr9sy3YfXM6FAYnI0tSDcK4qfk0K48ur1oG+VPxUwy+OcFCrYf5SyG0yTj4d0g97DRi7ibuxI+8EbxPvY0lArjnyPBiLPj5CPkkjoXFkgWK2cJoUk0XyKXfIOJ5AyUmGPotXQ2IGkH3cdBmEsh2LVQD1Rt2MxhJH5/M2jNQDGPZrzvS1PU89GDXOOpaXqkgsCyqGpqdSMeTxD9Q1kS+7xD388ULxmWcXCAuBNWpCRnwHTYgQxquBF5WIbWyuYIpr8Nlp+36tWBWR8nnWPub9T9dq8F4rZuZb8uoiRdWoOhoUkuUZ+M/m/grNFhrDo6LWvii1o/OaegNMwT7dA07xMYBXsTsQNTPyRV35CC4BtzbjGS7pS0CW4wQYaR/obqd+uvMrZvQvfFC80+GQ7DJ6lbB7TsuQSNqWCDkjY/YrmLtoTbcsr7OTaIVPoUeUJwJYcws4gF5g4Iebk0nI2AnWHabTifoPbvrRN5F+dmBc7+WN8buF3dBusXHlKP2I9ash/O4cYUBeiLcpwbzKWW9viANoDT2uVVWf5xi86I0ukMDlgPKeKAakJc07nTR/Jg/jf5Fp7QPODuwW/gzAoYmzU5OjJNwNBM9oUYapTTmFgJdv+4D9mgR+sd7Civ+CoXxfpUM01QKiKk7zRfwdFC5OV/S3N2EuY4dIH6Q9u07RnRC4B3hz5rAg3tI7x1KL0qPmOK35tqNKMwpjOOIyb9qqrxDZn/jDXH/LiRMc7lSU4w03mqKHivigd+kSfqS58lQMjnlzFhZU2BLTuwEgZuyoh9ms41p9jP0260lqoAUqhpP3zNMEt4T3HilIoCnTznB0GMQZClw4tx39Cwk+lZa5Yu8+IUE53hj/OQMp/yAJkOWpx/HfUrQSLASh1nNsRtIC/LZ+LkqVj1lnTVOz5BdaZgQv/4RzuiMckKLRSJIfEGrGAu8XKTA1wk8MsjD0On5pb93fMOV35m5rJKBZt1TG2GZRy0C0jTMHic4y2G4GSr8CNDBh4drhm3uhlKod3VVUJd8kObgpnNi6qWn/yvAL59Ux7kB4KFNw7MGAwv5Hl6bYZKgQydRowvRmZM9oKfK9AJktPzQijOi3sLnkvG167O6A/Mcuy1cETnhd+8E+vbKC4VAyg9VsMh4yYd0j344+Wt/QtrawAoxMeI1xv9mMybzfrFZt3ZNq1pup12dl6r/VXQz0b07frF/JKKZNxk7lxpoOUyQ2KbgTH2RDG1A2RQmuD3u0PqKIZYP2X2ZocSO+1ABb5MCIpm83iZ1/lGrOB1+bsHpt46N62EvB6MYlYiyiRvdM8U6gdoS9MjsAIOvY2IPlwJl4bTXVxykCDkCuYWnNLW+LXbpf0n4A1Wor+1qHbTxcTYCLzl5lzrZREvCpi0BMkeWJOTn19YP/mpOePIzI7M+WB7E0+tRFE9VjJZ9jeiylrTbdn1a8MqZjY/L01LmPnlR6giGf2wIhD7vmUg01MXARoiOr7RV1MWUeS/hpNWP9sm2pYp/LVwD0HfZgjGY8SrcgelOwM+UuREmHPV0vVKkvJlTMd9rjNNOiKJEhtftp+miSReYzePFJoAcm8HLyVYgW/8FlVV5EqC6Id+DDsd7bz4K7ueAUnMi99cg8RgCS4uvF/wXdeoGtptwiaLoX6zvkVu2WaF1aZw/b8VHUbtvKPqPsgA8IsA78xDVIWtzxuGiZ/NeAG5SMv2TSDdIeoDabCd+NZFvmXKjg8Xwpnf8XlxGf8xTvH1LeJNixoG1LqwyVkhf2+Rok/HK8a3XNMKgYnSbXRpRf3619TQWSD4Xfl1ODhCPE/EWw9utaKzrgt/1p86wKfCiND/jqcRR5dDpGntwC7/1vSXDSRNcGjW5pvIgDipH5jf9JzoZm2qV9L4lrpiaavjS5+Zvf91KawEUWz+DckR/eTCpvi/IWv9OXwI7Gr07MP/FJ55VY5hREHB5UPYnihGp7wlNiw/EiX5RQ3PG2vtnNFnRXTMyFDRenmLngmi5NTN5PwK4RF1hqD8KgdWVWU+maffMNtl+qVvYzNh7gTHfQm+2TX7rc/jugjOuNojzgswVfitlwzW5QRZ29Xb1PRWtIX7epxJMqtlPtLyofhcDQ+hLwdvVA0Hbigas0XlVAsljQzjb6TneF6U++wLrhIYFLhTsmuMbMrxCNUYEYaNdHlAjJS7UMcxL3MfrG3UmVsTVsDy6nQfEr5btImJvo5pKLCizYcIhdb/Vuc+YXdzWwQ1CBa9VoqsIPlq+v0c/5aVZhMWQ8a5X9lrBRHti8lRJC2Zp7T03zjKsNvw8ntxXQbUTadChIfzOMa1v7T1n8j8zbkgrnf7LQJkZPa34ueQ6+FtD6s2bR7RD7PJv3bq3nYSeQPmrE2G48u5Yc5VHWIL70+rQco6h5jA2BfAB5P8/Tuu0Ib/fUyawYzir4UcR+YFqG3mWtHWf+0meSzWqSDTSeJcyN+qoijxR7LOvf2U1/hx+F+ZcrLJ0PHbarEBrAWyAx2SxN2GgPHDTN3ViOgaEWnh1tvfdqR/h4LPEwnyQK6bxKSRPicyy1JKFz3zuAv4hgEyBx+UBydvSJ95Px3nnJ+kIHdHw+i9iz2e4R0cWtwFOfkq8/nFjErmg3aVN54sJECNyHsCpf7tBaczM7EyNb69jUCuFXsEgbZ2LaKJPciwMNP2ZIermMoFHXWEb7kpdwlKHHQ7WuGPG3/g9A+KoWOZzx4C8lwz6EUrhtoc36xRl/MYeTq0fB4e+8FBsj09TzORfo0J3LvGUUprVqjtFhY6Qf2lwyyPaz8UybLbpl45vk7tS+X48jIF86jiiY95H7iBPxDqBE+pPmRqgsz2ntJpywib8a8p4MU89KDaNmujjcaeSCLlr08F4AJX3lqBeUKa4xijx/9NMKBbkvk3lmWBDdWhff1Qmpe3+fAMNyvKrdtwTq5b9jYplon7MqMHJ8nLrTVRTNptciwQWfxt14SJfy/K6Cfp77BO1INZBf/hwt9BnaVlu/9avraHNRWpMmX5lGxO3cNpqr6swbeZtoxBIN6a5NMdlpLKFMYYxrmakPlCIfhKdAHiyeT7idGUmjkaLgusS9izCEtMknjgf7VQRKuTty9WGtbTLbQX9Q0rQe+b70UHn5Zt6BQekW1KfH3ttgihvIMVNPnvmhpPXNlT6ZfBp9wegHMMOqzES4AYSqIM5e5EzdEEwHxGjsCTi35pdm+M0CzIW1nBUScn77wcA6+VBCbeBvHF/cPYZD3v7SP6G9euerz9dKQWkIPM7XTEX7dlvhQh0U1JleVvcyk3GKoZ2wSYQDfw/DzJHCVpAK/4xUooar9KwZtuzp35+L7jyxXutgnQjMMKlS4JQkUZ9SbhyqKywbw/3j5dGjcRiLVbJ9IRHDhItjpivCAplzJbQ0HLNE9nWT6xZJb9/m3deSm2ZG2C+byPvc3ffpj0ObTV+Uc+n8H5imNfYDULm+n79CEf/Ncqxc++NbFc3AGBQNaOS3Cdp5JOSq8wyATGythsBM5mDgd04InCkhvD+9F4+gwri+bqpHnvEnD6f/fgV+IUL2TKhmVJuJexFHIMpN9et3d/v3clS6AcxHfTqo1oiS03KvDfvRZLjpSbxJfb2NZ1YMDfgBHcFlye35aSGELZqFmZ55USMBv5NNKtDLSm2xk2ZcskqYT8re82zMXFt3CnjWPTkl8INSttI9aXaxH4tlvFRb3dY4lq5YbsZKx4SDasomxE7/kEeDZl8Mk9+hiyfJro719XJNGHVbGoYfT/eGGdBv50DkK9KJyW+1XiXJTqXvBaS5z5LNVYmnNJzqYNaL31yE9/6j1obb1QVAUivakWdTwTJNasG+Ogfuq4QQaBHdINDANtr6KOt8HCssyIaT1G6nAZ6g9V4mw6eiY51mj3UZ3Mo+0U3vhj2oikCUZH9hDy0eQkl46cXAVFPuCQU2vEmJ2NALH/BSo0GQKY08FssSkdkBL1skcon3yzV6poxKXpJWnBdqs2zWrulx3ziky5tNTvtxjXzTBusrva29V2+3tM26/qzdn7O09BL14MYWEH06/5LcZJ9rzy52Dbrw0xIm2/sB6/D/8WkvZAlHslPyijtWVZ+3LOwm8WQHwk1sN1TEf1lt2kp8r3TwlhKy7evftiAhqzvkRbXNEyTl6EDZ7MCaRiLSXTuQT2N9di5uKixASc/Mxvh3+p30bNlr/+aixXEFcOJFJ7tKfNSo/F2WV6RfQD5+6PzZAOm22iCx3AzaQ+m2QmCgLTgDtJog37tmL4ny57m6fZ6BBh8c+NtjZp6SVN9CL+2cJMYMlvPuIzaltsj+Rl7IWotI9/61scHqlzq3cslWARWRK3flP+TovoZTXbWCp0iH5eMxPOQmwZZ60WMBf/pW+/33cruYgyEYOAy1NWqfMnruTI0nNp9KJH+GDM0wzI/e+8teDlUmPCznxkmHg5j5cMBx5EE3SyzF4XW33FrAEE9/rpZPHaRuHKAaNH9Fvq1NvPDgPsE/vOms4SEtH6vrDLM8KR/+06bIQ1w+PLnZsEoi4mW/KR5sj67+J0GELgWDk3KfzdAbXLVhk1b57hdFxBrp+IFzduy4wMDpDEgcNCyWgTZbNaadnAvJeJsJ/4C0Hu4WeEZhbZRp+5k9r2TxInlc9npB3BdP8GYBw0n4gHy78QWOlfyrvt41vmIo3GYpo1QgYz0i9M8E+edz5+sN2VFJ+tYIE++MZ3DztwnlHzxGmmnpRiW+6W+Wv+dVENIyr+UdUE1Fy8aY6NDw9T9rCsQO/DXetQVpNz/5miVgpM0ZUf/8BqKDYvduTxKW2rWruLHbe03rC+r3VFOUakXim8Mg5WcNh/K1i4HsjnQ+hLXKr31Qiy8KAgI/Z4ATA5zXz7Fo3gwUZLWIE/gVMiNJ0Y2rJf1VqgbShKZvrNscVqVjIWbuduNqzbfs3XOSt2/TAh8rLyddXTfBdfHsxiOwSR6XO8HvYViv01VH0F1pFJMfGv0JudsWFJYlRvieJs3Nq3Vnz5IZE+JMl/ZuYtKhAjYp+1OOnoJZ8lrrD2kIa6OzrnA9dtwF3+HSm4GPVRnzbrZzQlPeM4XUwt+zn3tf3VFZS5rTYJllU4A8Skz6Lvf3fgqqoDe8fKV0aHF4ZNLfvx2FYDG2RM5qVXkHCm/6MpCpyk3OKT7/GlTmLNnZcxE/C4Ngf3xZnvvTXp3918zUtg3y8FE3wgEduCTISKYVWTuAtB/U1wWpGs+uxUrNC8ow/vsTLHlh+2Bf+v9r68t3XkyverCPevbrB9uW9BMgNKlEhKIkWJlEgxCRrc930Vg/fdX1G275L2DNKN6cY8vBiwLRarzjl11t+xuRyeT1njiSskYTkkH6HjCOJR6pQUKaad/WgOR8M5RNWWXJ+LVIQt9V7UMtpQAzHehp1CEkEHih3XlhLomEgDtT2WybXlzThrpnxoLnvmTlWTD7u+OBIU4/k7Jzk3AsWD1LrxGRS0S/76Gt/CMeFPnOlIp+UiEDqvWCNDg1Fhrt6FOVclCtd5RIGa0Lj5GMttum01+ra/em2g03gtbzlc5cy4uHn2oNyR+UZ7uT/mXEezjkVceyLWo67xBGGd8mizg/jrbVIZ0L7SBgXNunjdMxpkiBMzzqN/oEWt8wdFi3P0FGjN8lfURN+6t8lpndxqmY7USOsmnvnaTQmOmx/qGPrBJeCyia/9nKpsfTJdpIqzdh+StxjEN0Y6jIxw54DDNpAzqmu3q0Uohu0m8Zx85+u9eqIblGxQSb/I7lGK9vQ6MnN4tDqLDsYNltpV1cG2yRW5nCo4aKK4cqJ3IefzmNqYF9thFHgNJVSyroWC2jkGi3MYdbpp2O0ke6CjUgikJ3eIr2qNbT6a+UZG1uXEh1M97lM3oNu7m+AThY5+XjkBPxNIgHnOWup4RhuP5OEQpHG/JSZIZcg1dRumySiS48T6TXMKcbnPKc858vdjfco1X1ckEtcevJ/jElaW84xOaLOFDnjoaIS6sU0zKkYoA0Zp3GnGKtACJGSSytxZFwaOO9FFD2AbTBAPszVDe98YkI/HPhsneXK5QOzaCbdQKM3JcDOJvmp2BaEjGd9ck9i8lVLVtYeKDPd783QaD+SE0+zBIZgcNaeIEQmnFy8dCMiDYG98srWOxmV/fhTkWLecIZ7cRN0ZamztPWg/cEoBdmTrtd7YVLFeSqCV5b7iklKizp4Bys7GLxROgBs4NpwR31dCqpv1bEf1NS2gTHW28UHZ4TKeVQ/9UYd+9fA5e1YkxrTbIaGOoDPZe1ekZrp5z9citiN05xHKWsKstc2OUMXrpjaTC4CKDjxyig+iFvGhPqAPWabZUxrJLoNs43CXnWFleshb63F274JNBZdh55FEVkTQSO3qvMBiMXBxocLgtOBEXEIf2rxldQQ4sR5eOZcujR6Sh20+QIdO0K+e3A70sb9GSZ+2D4g7YzJo96vpoU1TAsrVOU/ARJu5wBuQMTwdPxh+axsoaj9MpS14ZdvTbqme0y2vOrXsJSPnxCjjQKemphD8Svv4cOz2ja3ZY36xrtfT5vYY9pTr6UVciyGvd+eM4SGFlTMEg7tjDQ8OZuMa3e0lj9Kmut7uxjW6JiiEM2GO6Ts7YITGvDYGHOZZgrBVeW9y/rDvcPmsVWvndOrt1ggmPm+HkLQhWbnGBjFY97mLYgE0/Yp0u10ovoI45RpsTuU8wWu02+eIY0gAIyOQjaWJPaYPS16eO5AcrRlUZdFN4hZDGGl5t0gJW3AX8GPn1DPqI+a8jQZJjNT8KE0bGEDi63KVbaJwouHvG3oyiTsjD0RosF0DGchZw7vwzqXOHhZJnSczaT1nMeZ6hxneDklzK6tgnaElbziYMMxTRXqTMKYCwYW7UeNOrki6ibgzlBv6gIBteIhEclVTzrpJQ7ONgFa0uRGgyHle01obJR+tPW+RxDRPxo6okFNwESFRyAwvq3f0rkTxLYqqjnFt4zqmz+b+pq1T8lk8aL7BY/2ixk5VRLRxhBB0M6MxnqWRLaBMOKrCZroGMnYbT+Q80y4UomRB5BCiwUIwBsFlecFLl1lnfIPvZvE+K6JgSdgmbHcTKs2URU5mlS1v2RunAbSqJHP1pephZL1389F4hnlnDDfKBcaRSe01u3740iCcymCrm+oGVEjbdGKsvRVhb4RWGDn22Vg7ZE5OmBispxAboshSSxmOi5E9bdqsqWdcNgKi3Gfr5B6wTKvWmxN67USb0AnKJoOh6qvqjivRDkS7jm0fkyJVuoTvXM7z9Wl5Kvig+UeH4q9EwHtwLe+GWunu02wnPobWzCgn7iG1l6sfjP3dkzm+iIoomEAaG+H4NKOHORtAq61U9IlJOjMy2GTUduNlhM+uP+ggBza0PRFH6LDF45i/0PhN2aEGom0YY4qZh7G5nHaOfSpH9e4W/bqoiGALAGhWGaVdWdTRNzIQR2liIDuW74reCuUGotf7mw9SSWtQvCitC38XbBWYKBFTUywENxyfkds4wAor3p+Prqzmt4DIDoWIx9h5c8GaXYugPgGpeTvyhrXTRA2xZWFn3KQHVTzGE64GtQ2kIJzOgregXZCGdZfVQmajin8prpLaIqlshao8FIdxEzLeMGwZS5WGWaARAGrwvtLtW72bAVivtPOoYV2PxNC94UlDIky6Iu8hD5I3x5Pq1kzEqxrvmyIypl45dpNjHObRPJ7l8dx10pHrmNklaH4ICVBlr8zFP7AbRvM3rDSQrJIJdY/cCGZ7XMfUoXJszb3vHYjip5tzwfoddAK4LIRyqswSF9sCPOSpd32zr3YHSyCa0IMWV6jwiYOQB7zVx4vqUE59m9YVO8ssqqzvj8d+20RcdTxUy30ShXDgTmmBPihUnyIXEpVDoeHQaFC6ySL3kZZAhlNMIVQFDTgOQLcjsJZF5sz9Qt2IulO0NIk0ND5SVo0cQJOt28bpOodyD2AVRxLi7m60aiOGCVGYQxzjCMDtzpm1uzLts/YegyqS2tHtNDcJRxMQ4xMkvdmwqDipZV7JyrFXTl1F34jGPrDXvSrNh0tvucV9OHNiyqSgXHOuQ2zQ3hwnZkuoW78yE/zW8I6mHR2aE/D8Fq4HKm0n7hEYBUUTODprR21GtUev10iUnc08A2hGKjciPSWB4DY0OaPjKbP8yL4E0F4NTZWQTxkVWVThjKcmsGl3ukD3Fs+l0motHPQSjzU+TUUJ83hCGzSul4rSgzapqxpKAsGqOJBp09M0yBV18AduTy+PJjOBu3lzrcYQzsi2eugG6ajSnm86E53HyZ677K6M89CL/QP0+if/ZLZEQ/Fsmd1pCoBCiVGLR3URtlbK4JDEJ16hSpwgu1f4dldMRoR3e3V3xHZ4nWfAgynDo/f3UbgQ1m5i4CzZY4WtzmogXLuqOw9wkjg2zpdCcwRyy8er/sDgDAD/FiNDcn11xRBW8Gl5T9GVcfGZ4gmCEexuo5U93XWH/nxKU7cHO2fRKA0Ss9z5PqQ6Sucyjr/ppGh9x1gKq03hlLruCeQplky6nR/9t7ciTPh0YbTZ36kRWxslluycLttueR7a4ScFR7nHhY47cdTLbQBQXlD1+WGgUenMjhM1yPh8mtSAjINxuh2JzN/tA8EMfRapsfvRIw0bx0VOjgtpDXC3NGPzLdED4ZYcq1a342yy7LjmzB0wB5kZer+7AtxdlLcHP53XszmhfQr6f2+yHI+dAvy6G7iQylgiSJitBAudOhltoxAyolksyAtabBPzPGy3Cy5tGOoQjPUB9EGBfxx2bEHE6APzEWTW5UJjT9lEJpoIZ8NhzSIMbw/X+/rEpwJOEGcMqqEta0wQ3SmmdriymWEJ8SOA1nIJA++qFL0/5hs80eaz4upas42szaMq0nYUTly5p8COhEveHxB60okWnce59ktbvxvepFr4Fe2cY8INXRpdT3K/FvqTnqZpGN6JGRPjDVMg9EjWHm2PD92Ud81+vxOFyircg1ZyolnsLDwULwWjQhwrINhtkzK3ttEP+FVTGTqEmc19ed7/xhLCRH7UaXXdoVeSO53OPF73yrUV0Ft33NGcdzaOc95FkipvrKnHWNeiUadO+9R2+1apKezKobtykGxyw/vXuXAKBPQf+1p5sEWFTu507tSjKGipxppOOxAF12SKyJwpug5i0/Q2V+MCt722VWouuu8zYpzOF5rJQhfIyZ0G1ewOREI4RkbzhIPyNwDLsmhgTXRDDFiYX0sq7LqLxiMQwGcAGdpmpE9rz558m77j99gH2iewsoiudVtiUR/tx3EOQQSa5xlgoG7Yu/qj2vHbytcuGHCINdA0y63NTcAfNnDnbQAgPvraiekri6ZvRR5ZIA2kQbQuBG0NcEtiq/TY9HSMRz1tG1gvpVmYn6fHpZdrKr1LEg3Cdp1lPtZXxvVGWuYWNJj6sX+97YVH169/SzwUEYZ0tziEUDsJ8A3WZTbdDbmm4Hv6sH7o2M7uoruRZ5isJHcM1Ex7bLokTsxNrd5vDzFudAt00fAGIIeL9qA8EGWXR65s4LSn7reY27jiWvAnED65f9qiPjsw3PLwmqGiNTJBzes1K5h4XzKXMRhEc221tXucp0QMVFGDtxquTIzqeZh8S8NO7O+5eDNj2D9caDrduXQtQyVuTvsItUABmR0DS7XJvlqSMB3dnlgfXSsROHW4Ew8/83bM2Ykak/AoehqyvC26dMPsqv2FtMPglu9ACak8ErZPqXFj1gmtcym2xvADDxuNdwNlXqVVJJ/bNoQtYhsTVHAoRfbQIf/iRVgZPLJ5MFkEDYDm0WmOE5aN3gEhdQSoNHussaN1hWObVa2wznJpEy733AwndbOrg4is+5661Jp2oUwfn000CpzNPRY5/tJf2CnDEhqTGaLRmeUPff7xuNHPA2/P5xE/M/1yb4xcifw2GDbqiZdI4cIMoDU725x8JGRdoEBquDXSI0sCG3f1ke86Yi/Byz/8KJ2wnCrgTgWODMpU8xrezmI9Px4yPPJSGJw33XBh162yYVQMio3tRZvDmKkuRUpSAHXs93t2NkRG9pBghBHqkRH9kXtg1weLAlumkkpy8PNqV2GG06wvYdZrlvdDiHuzvPkuLAiacw3WN3q5txCq8Aze77lH5RhbJE43F0OdI284i4PpAcjvCtXYHdeiN0V6GJPd/i7Ah8ttDy33+tZEqiSM2RxtbYvq2l7COWpHWNyjoEKtX55XYRMQccaHyWvP5SPPKfUo0QFu5OntJqJS7MKRef91Vwdj2uVeFqlLXDjjDoW7U5W2y5MJd5JcUpkh1vxoc6qiRhtkiHeezTj4eDT92nTOo9MHh66EdpfgbM0FioUopQRmeips0Gx342hs8Ng2Lgl2O2s6dG5ClePUUNRIeIP1DrHtnPxCH1iLJ5V5M+EcHY1NmJJXhpWtGifyCOUnllPWCHqMZ0S7hd4ZXW4gzw1ZVLNzPa4dDw8EXNS95ZJPJeANqme3EOdXdn++YwbIU/Q9wM+c16uOWzWIM3b2hboQRyTHuBOGt/cOADLtHB5F0U1JlUD5BgovGszD145DKO4yFbp1tLHYLAe6jdaQf2ihLU0qOiPZil+6sf2I79CE8RJUni7Q8p8MowARQydTqHC7xs5IT0kGLD3Ia2tXSBhACnMhnHJ8PyOiriGO2VDOVNRwhDHyFvhV3BHHyIkFuUpmmbyEhqoKZ5flIdCWg7bB06CjKgg9nnXHjZNDxtxNh8iU5Q19fpBwZMXTjNcFocSocDS7oG9yJNWv3gW1Zlc5bkfjgMQCJq17bpKmZE3JOrY05JDEAoAf8CgNGjIyZVxfkmDITxvREQaiv4kEarb0SR9n4tI1B/SKK/NaSM/7tZrrp3HttS5xbIEP5frNMQBerYgOCbTLzNsWeiJFiGbSQ0H1Bugt3ZoSfPMB2jHnPkMGaE7DhzECrL689lIEwQ7wEWrC0f7oTx2t+fqlyTU8yW/KgPWXK7+RDuYYrU+baS/qSZM0rGyzvSd0AmpgcTRY0k6ZucRJLw81v4q9TIoBwwm9AwlCji/PIz/6zlUyY5S/7ivQ3FxQ6a4eSCcVU9HpRMUL5/XtKJ93wDl8lBMlUP+shDjGbWHlju7kRMsZ6gk73LJrEJbXAMQdKDnjnNwhXqJR9FBcnZocQh72sszKVKK+AedC/6VbG00ehzkZ9DzcvspL0G+D6k16qP0YeLnANJc2r6ksR7K4Xi/X1k0Xc3nv5tjjhB+wPA9zJ+02wWC/lArtMJif4fIewPsDAcYSjxPL3c4Plncv0SBxw4isgrTmAv1MfbLck+QwqgpFEcykDTg+KQjnh6BQw0CmYweJgNf2bQn8lQN3EER45JYlBH5eU+tFqJH/KtS4eQrllDDxhcPIL0JBXziMPPPK4TyCz08O3BoIBfLnyMAU4PAAaRDI+IUD0NEXDuTeFIGMgMO4+X7bI/912yP/uu1x/b5k+sJh3Czb5r4XiuG+CsVw/7RtwIHhnkJ94bC8S/FdsQz35DBy3237qdhx81WxI/eFA7RoaeQBB4b7ftsM91WxAKc8t81w70u+Kpbhlm1zm3eh7qaf7V07cqiEl+5HbOuo8tXaptZJFwg66U+EKlGpeG6WdzF+YJvgI5uEPLKJh+W9kb+0zeXD/XDq+XBg4A9tI8K/tMkbh+WZex/YJvjAJm8cGO4D24gf2oRjuRJsm1M/sE3wUXy8C/WRbcC2f2kTjoL1TorbJRdYogL6MpA1ekHY3ET8eg3GUi449qGBL0/4VXRfJQfnP7D5N5uFuf336uTUrxw4+TVc3zl8nzve1DnyH+QQ8cO4exPqwxzybrBvc8e7S3CnD3LIt0J9yR1vHH6dn9ZGQ5mOjVcKWnVEJe8m4erY7i64hP60Hs/+xDXJh3nsYxnoo6bSZxPgYlS/o/hWF5A2wK3wlITBSIpXL0ndZK1Q/1/ac1IuSB8Yit3C3aHuc4Nv3Lp3c9+1MEu0rnPPatgpNIt8+H/dr/6d//4lv262XXcskGESXfyW193dTgO5LxlCvhJXfl5TUXZdR+iD8+k72fwqfVqHeb+hK8ESbto5TrkW9CEEfOo3H2GM/8KOtcIhsTHucB+vLqyObs66qV+Yul93mqL5Xl3LPvlw+dMB+7dP/W/xqf+VubLZIqZGstvB6efwZiC5BZrcYD06HuYcJwLus9gwRf3ItzKD/r6YT7f3FTrztd9SmV/ulreMYFMtrDGMuWNTkqAnFnbmA1b/6j1KzBlTyBqNYMtbun96kD3cXbdyelLzDcvOHH32w4eOcmvSgf9lfZ+YMIy7xj9tNsqduGcbKU6421nmeGy6ZgC2c+ov7Zp8QP9dW//uh77areRgGDv/5S+fflp9inM79H/O49z/uXtU/qc/vQ3BSeWHy4TMLsIeDLTg1F8/+UX46e/P0bb7OS+9OIh9b1mEIRj5gpAvGKKjxJ9I7E84vayuFupFnzt+A2ZRYKQDHfzPdvtz1OXZsvDPne1k/n/8uQNdrQd+NcvH/zjaD79Z6UCiP8PgcBnalHmV+VPcPVYVOPec8eWk5te9X3Sxna1O4KzdxWXRfjkr21Oc9/lKtbtodQR76KLXc/DCDn5n7ZTe400CD1DMgheu6xaqZQEmec/h0w/Ff65eVt6P34ygHx08Sb/Ruvhu3zSA0rdkFir/+e3K4qODb8lsymIos36Rx86+mZu+FC/fk/pOoqwMJ0DvA4Lf73H1Q+O3XRO7nf/d9pqF/NeBMvtOTrj5ljD8pkT41aqf/s+bxRdLf7Xp6iNbrr6x4QcG+8auq3+SG0iBrf7WI4hDA8Oslu2//vii92XKlxnYcrZ4+/GdTsFQ+j7tn+Y/SQJNposm/1mAbxUHpjW/pPGFxKKvJTDeg01f9LSo6R+f/MzPAcGf42dABYHtYi5FvDCYR74QBEu92I6PvfgUwuBEwHqsiy+Ecr+zPbuzwZp/fHLLsvHiwu6e4foPEKaPsu9+jvw4jBYbYBiCPKP3OTzGXheBUZR+jlZlXHTPMP8rxrKfsZ9WJIt/xkC4vx9TGPKZXY5JcIz88vh1/pIf2kfb+fmyDzWe/EyrbPe5y0+e3/nuorSfXZBD2p+rpnTANOQzwzAEDiYEcea/K0dV5f/xFPStR+KfyZVatvGb9beFC8gV4Xf2ibuP7UP5Lu5jlPPCEjb6QuA+/eJ4KAEsxdi07SO+j/5+9sER5Kl/gnnV/9sxgzGf0eUYJRDiM/vBwOuK32YhlqAI6g+2kBYXrr8q+2YF6PjZyi2Lzo5BCijKVfMW3WCCXXjLiPs1mH9axcUKKBvklaBsViDFv1HoylVup/6qbwHd4HniddrbQfvMQq7/02oES/q2A4QSoJBVW+Y++Ayo5c80tLIdYKTnmsbPwNCwUAKj7SKCv6reHOudcFemPhAciPUtm88rvQQDcbvyC+/J0/a81d8+VV/d0n9zy/Zvnxbpl9VxUQHWPtCY9zyzsl8FccquK/P2neVzJdjaoh7Pf/3cdrabtoBt9FXEb5msIhts5CmiDTbsAWRQtMs2vFf92e0r6S+8fwKaAUNvEnQjMINdrBywvs9z33tyasC2wHduF4+VG5Wx6z9l/Ij/T6vMt5vC955SB8A3vdVf2b9//jYoFbtpngrXFzf5IDjZ5VIYmgxebCJAXpabzl9sHHFeCBRhfM+2EZR1f+/gZAjy++Ck8c/UMxYRhvhMfjTwXPEbgxNBUOYPDk6pePXcsWzSp+suMdXGxWs8uuXzY9AX7mvVBgYH3AL/WZCD5jUAYr/9068yLY5TLoYS7AseuCDb2jb9YlMk/hKwhEMAWwQ28/uZlsKoJYuyOP4ZXyz3dowiKPUZeTUlTXymPhp5XfPbjEvjKEP/wcZVtz+A8PwJi39c/WUx6nIEowj4wmL4NRf8uPoyCUKXacDkH0371r47kD77zP7IsgyO0qjDsi+oS/gvBGsHL4yDEC804RGUy2IA95C/I+KhPxOL3Qjw+xXyvA6gLPOZeSuh7NPYvxx5XfRbqypGsH+wbcdnRgaWWsWv2fxLrVoCN34f/ZL7lxwO8nsMkrNvu9E3ReGt0HyQyIEzgOLcVmXhtUvZshcn6tsyfq0IqxGUmeyJ7NulQudgQuiDErvg6BXQTggWP1kETZmvMACkcRdZCD2d6x1Yv41/Xhn+Ulha/zUjvScdUIZce8lKIDlFj6oEsrbxDCpK3IGs1WegyGRZOX4PD3y7jbPHaxl6Sr7gfG/lPL7W+ff9LsXviVAWjLEUt9d6VQZB63crkBTVLZgKpe8lsfErsC3g8kt5A1V7lYEUaTdf5QX6fC75deXOwWyfJmzkxaER6oVAKJATGZZ+QX3McXHXIdgg+B0j51m8UJCUP9OvkfM6gL9nSRAnzDOWfjnyuui3Rg6JEX9w5AA3szOAd/wJdKNLFCyWHGPQnvbt4vTv2OXbgPiK0gCOAdAN7NMGUO8Jb8oe/PwOPA1+0z7LJdin17uA1uIhwB9jb+k2XUARuFCfde3qh9b3V88GcoWvGuDGP2x//PG7UPC/BB1Y9kb5S0yAGMjtx4cRMHWNXZXA2RfY+gWrrt7jNSuL0F9Atf0KZsvCb5+B3wN9NEBkr28WbQAqcQE+/Hfe/Pf/Cxf0obk=',\n",
              "  'file_directory': '/content',\n",
              "  'filename': 'attention.pdf'}}"
            ]
          },
          "execution_count": 17,
          "metadata": {},
          "output_type": "execute_result"
        }
      ],
      "source": [
        "#look at data\n",
        "texts[5].to_dict()"
      ]
    },
    {
      "cell_type": "markdown",
      "metadata": {
        "id": "40zB5of_5iNU"
      },
      "source": [
        "## Check the table"
      ]
    },
    {
      "cell_type": "code",
      "execution_count": null,
      "metadata": {
        "id": "t1se5Ydf47VG"
      },
      "outputs": [],
      "source": [
        "def get_tables_from_composite(chunks):\n",
        "    tables = []\n",
        "    for chunk in chunks:\n",
        "        if \"CompositeElement\" in str(type(chunk)):\n",
        "            chunk_els = chunk.metadata.orig_elements\n",
        "            for el in chunk_els:\n",
        "                if \"Table\" in str(type(el)) and hasattr(el.metadata, 'text_as_html'):\n",
        "                    tables.append(el.metadata.text_as_html)\n",
        "    return tables\n",
        "\n",
        "\n",
        "tables_html = get_tables_from_composite(chunks)"
      ]
    },
    {
      "cell_type": "code",
      "execution_count": null,
      "metadata": {
        "colab": {
          "base_uri": "https://localhost:8080/",
          "height": 126
        },
        "id": "33LxiN__5Ad2",
        "outputId": "fbf8f5b9-9d65-426c-edbe-227067587b61"
      },
      "outputs": [
        {
          "data": {
            "text/html": [
              "<table><thead><tr><th>Layer Type</th><th>Complexity per Layer</th><th>Sequential Operations</th><th>Maximum Path Length</th></tr></thead><tbody><tr><td>Self-Attention</td><td>O(n? - d)</td><td>O(1)</td><td>O(1)</td></tr><tr><td>Recurrent</td><td>O(n - d?)</td><td>O(n)</td><td>O(n)</td></tr><tr><td>Convolutional</td><td>O(k-n-d?)</td><td>O(1)</td><td>O(logx(n))</td></tr><tr><td>Self-Attention (restricted)</td><td>O(r-n-d)</td><td>ol)</td><td>O(n/r)</td></tr></tbody></table>"
            ],
            "text/plain": [
              "<IPython.core.display.HTML object>"
            ]
          },
          "metadata": {},
          "output_type": "display_data"
        }
      ],
      "source": [
        "from IPython.display import display, HTML\n",
        "\n",
        "def display_html_table(table_html):\n",
        "    # display the HTML table\n",
        "    display(HTML(table_html))\n",
        "\n",
        "\n",
        "if tables_html:\n",
        "    display_html_table(tables_html[0])\n",
        "else:\n",
        "    print(\"No tables found.\")"
      ]
    },
    {
      "cell_type": "code",
      "execution_count": null,
      "metadata": {
        "colab": {
          "base_uri": "https://localhost:8080/",
          "height": 254
        },
        "id": "hH-x3ei1Pi5Y",
        "outputId": "7fd51667-7c3a-4359-d18f-8ecf9569f93a"
      },
      "outputs": [
        {
          "data": {
            "text/html": [
              "<table><thead><tr><th>Model</th><th>EN-DE</th><th>EN-FR</th><th>Training EN-DE</th><th>EN-FR</th></tr></thead><tbody><tr><td colspan=\"5\">ByteNet [18] 23.75</td></tr><tr><td>Deep-Att + PosUnk</td><td></td><td>39.2</td><td></td><td>1.0 - 107°</td></tr><tr><td>GNMT + RL 8]</td><td>24.6</td><td>39.92</td><td>2.3-10!9</td><td>1.4. 1070</td></tr><tr><td>ConvS28S [9]</td><td>25.16</td><td>40.46</td><td>9.6-10'%</td><td>1.5-1070</td></tr><tr><td>MoE</td><td>26.03</td><td>40.56</td><td>2.0-10'9</td><td>1.2. 107°</td></tr><tr><td>Deep-Att + PosUnk Ensemble</td><td></td><td>40.4</td><td></td><td>8.0 - 107°</td></tr><tr><td>GNMT + RL Ensemble (33</td><td>26.30</td><td>41.16</td><td>1.8-1079</td><td>1.1- 1074</td></tr><tr><td>ConvS2S Ensemble [9]</td><td>26.36</td><td>41.29</td><td>7.7-10'9</td><td>1.2.10?!</td></tr><tr><td>Transformer (base model)</td><td>27.3</td><td>38.1</td><td>3.3 -</td><td>1018</td></tr><tr><td>Transformer (big)</td><td>28.4</td><td>41.8</td><td>2.3.</td><td>1019</td></tr></tbody></table>"
            ],
            "text/plain": [
              "<IPython.core.display.HTML object>"
            ]
          },
          "metadata": {},
          "output_type": "display_data"
        }
      ],
      "source": [
        "display_html_table(tables_html[1])"
      ]
    },
    {
      "cell_type": "markdown",
      "metadata": {
        "id": "crPxvAkH47rY"
      },
      "source": [
        "## Check what the images look like"
      ]
    },
    {
      "cell_type": "code",
      "execution_count": null,
      "metadata": {
        "id": "Rh-gS7KIgmqz"
      },
      "outputs": [],
      "source": [
        "# Get the images from the CompositeElement objects\n",
        "def get_images_base64(chunks):\n",
        "    images_b64 = []\n",
        "    for chunk in chunks:\n",
        "        if \"CompositeElement\" in str(type(chunk)):\n",
        "            chunk_els = chunk.metadata.orig_elements\n",
        "            for el in chunk_els:\n",
        "                if \"Image\" in str(type(el)):\n",
        "                    images_b64.append(el.metadata.image_base64)\n",
        "    return images_b64\n",
        "\n",
        "images = get_images_base64(chunks)"
      ]
    },
    {
      "cell_type": "code",
      "execution_count": null,
      "metadata": {
        "colab": {
          "base_uri": "https://localhost:8080/",
          "height": 913
        },
        "id": "2Cq9xgAkgmnu",
        "outputId": "d3df5f67-7d07-4433-e24c-4bb08b5ac735"
      },
      "outputs": [
        {
          "data": {
            "image/jpeg": "[encoded data removed]",
            "text/plain": [
              "<IPython.core.display.Image object>"
            ]
          },
          "metadata": {},
          "output_type": "display_data"
        }
      ],
      "source": [
        "import base64\n",
        "from IPython.display import Image, display\n",
        "\n",
        "def display_base64_image(base64_code):\n",
        "    #decode the base64 string to binary\n",
        "    image_data = base64.b64decode(base64_code)\n",
        "    #display the image\n",
        "    display(Image(data=image_data))\n",
        "\n",
        "display_base64_image(images[0])"
      ]
    },
    {
      "cell_type": "markdown",
      "metadata": {
        "id": "Th80bwU_5Q_7"
      },
      "source": [
        "# Summarize the data"
      ]
    },
    {
      "cell_type": "markdown",
      "metadata": {
        "id": "O4Z2ydVz6IQP"
      },
      "source": [
        "Create a summary of each element extracted from the PDF. This summary will be vectorized and used in the retrieval process."
      ]
    },
    {
      "cell_type": "code",
      "execution_count": null,
      "metadata": {
        "colab": {
          "base_uri": "https://localhost:8080/"
        },
        "id": "omVUBRPFgmlC",
        "outputId": "9a695b01-b43d-44b1-a807-8dcfd9a06de7"
      },
      "outputs": [
        {
          "name": "stdout",
          "output_type": "stream",
          "text": [
            "\n",
            "Usage:   \n",
            "  pip3 install [options] <requirement specifier> [package-index-options] ...\n",
            "  pip3 install [options] -r <requirements file> [package-index-options] ...\n",
            "  pip3 install [options] [-e] <vcs project url> ...\n",
            "  pip3 install [options] [-e] <local project path> ...\n",
            "  pip3 install [options] <archive url/path> ...\n",
            "\n",
            "no such option: -u\n"
          ]
        }
      ],
      "source": [
        "%pip install -u langchain-groq"
      ]
    },
    {
      "cell_type": "markdown",
      "metadata": {
        "id": "M1vpypz76QiQ"
      },
      "source": [
        "## Text and Table summaries"
      ]
    },
    {
      "cell_type": "code",
      "execution_count": null,
      "metadata": {
        "id": "CWrKDRxW5UOk"
      },
      "outputs": [],
      "source": [
        "from langchain_groq import ChatGroq\n",
        "from langchain_core.prompts import ChatPromptTemplate\n",
        "from langchain_core.output_parsers import StrOutputParser\n",
        "from langchain_openai import ChatOpenAI"
      ]
    },
    {
      "cell_type": "code",
      "execution_count": null,
      "metadata": {
        "id": "fw6zMba65UMC"
      },
      "outputs": [],
      "source": [
        "# Prompt\n",
        "prompt_text = \"\"\"\n",
        "You are an assistant tasked with summarizing tables and text.\n",
        "Give a concise summary of the table or text.\n",
        "\n",
        "Respond only with the summary, no additionnal comment.\n",
        "Do not start your message by saying \"Here is a summary\" or anything like that.\n",
        "Just give the summary as it is.\n",
        "\n",
        "Table or text chunk: {element}\n",
        "\n",
        "\"\"\"\n",
        "prompt = ChatPromptTemplate.from_template(prompt_text)\n",
        "\n",
        "#summary chain\n",
        "model = ChatOpenAI(temperature=0.5, model=\"gpt-4o-mini\")\n",
        "# model = ChatGroq(temperature=0.5, model=\"llama3-70b-8192\")\n",
        "summarize_chain = {\"element\": lambda x: x} | prompt | model | StrOutputParser()"
      ]
    },
    {
      "cell_type": "code",
      "execution_count": null,
      "metadata": {
        "id": "3bgUhn6N5UJc"
      },
      "outputs": [],
      "source": [
        "# Summarize text\n",
        "text_summaries = summarize_chain.batch(texts, {\"max_concurrency\": 3})\n",
        "\n",
        "#Summarize tables\n",
        "tables_html = [table.metadata.text_as_html for table in tables]\n",
        "table_summaries = summarize_chain.batch(tables_html, {\"max_concurrency\": 3})"
      ]
    },
    {
      "cell_type": "code",
      "execution_count": null,
      "metadata": {
        "colab": {
          "base_uri": "https://localhost:8080/"
        },
        "id": "NKdKfgi-BUz3",
        "outputId": "c49e581e-9d89-481c-9b0e-f3cd8a275ce5"
      },
      "outputs": [
        {
          "data": {
            "text/plain": [
              "['The paper introduces the Transformer, a new network architecture for sequence transduction that relies solely on attention mechanisms, eliminating the need for recurrent or convolutional networks. It demonstrates superior performance in machine translation tasks, achieving a BLEU score of 28.4 for English-to-German and a state-of-the-art score of 41.8 for English-to-French, with significantly reduced training time compared to existing models. The Transformer also shows strong generalization to other tasks, such as English constituency parsing. The authors contributed equally, with specific roles outlined for each member in the development of the model.',\n",
              " 'Recurrent neural networks, particularly long short-term memory and gated recurrent networks, have been dominant in sequence modeling tasks like language modeling and machine translation. However, their sequential computation limits parallelization, especially with longer sequences. Recent advancements have improved efficiency but the fundamental sequential nature remains a constraint. Attention mechanisms have enhanced modeling dependencies in sequences but are often used with recurrent networks. The Transformer architecture proposed in this work eliminates recurrence, relying solely on attention mechanisms for global dependencies, allowing for significant parallelization and improved translation quality. Other models like Extended Neural GPU, ByteNet, and ConvS2S have aimed to reduce sequential computation using convolutional networks, but the Transformer uniquely employs self-attention without sequence-aligned RNNs or convolutions, marking a novel approach in transduction models.',\n",
              " \"The Transformer model architecture consists of an encoder-decoder structure with stacked self-attention and fully connected layers. The encoder has six identical layers, each with multi-head self-attention and a feed-forward network, using residual connections and layer normalization. The decoder also has six layers, adding a third sub-layer for multi-head attention over the encoder's output and employing masking to restrict attention to previous outputs. Both components output embeddings of dimension 512.\",\n",
              " 'Attention functions map queries and key-value pairs to outputs using weighted sums of values, with weights derived from the compatibility of queries and keys. Scaled Dot-Product Attention computes these weights by taking the dot products of queries and keys, scaling them, and applying a softmax function. The output is generated using matrices for queries (Q), keys (K), and values (V). While both additive and dot-product attention are common, dot-product attention is faster and more efficient in practice, especially with the scaling factor to mitigate issues with large values of dk that can affect gradient behavior.',\n",
              " 'Multi-head attention enhances the attention mechanism by linearly projecting queries, keys, and values multiple times (h times) with learned projections, allowing for parallel attention computation. This approach enables the model to attend to various representation subspaces simultaneously, overcoming limitations of single-head attention. The Transformer model employs multi-head attention in three ways: encoder-decoder attention for attending to input sequences, self-attention in the encoder for inter-layer communication, and self-attention in the decoder with masking to maintain the auto-regressive property. The model uses 8 parallel attention heads with reduced dimensions for efficiency.',\n",
              " 'The section describes components of a transformer model, including position-wise feed-forward networks (FFNs) that apply identical transformations at each position, using ReLU activation. The FFNs have input/output dimensions of 512 and an inner layer of 2048. It also discusses learned embeddings for input/output tokens and a shared weight matrix for the embedding layers, which are scaled by √dmodel. A table outlines the complexity and operational characteristics of various layer types, including self-attention, recurrent, and convolutional layers. Additionally, positional encodings are introduced to maintain sequence order, using sine and cosine functions to create encodings that can be summed with embeddings. The sinusoidal approach is preferred for its potential to generalize to longer sequences, as opposed to learned positional embeddings, which yielded similar results.',\n",
              " 'Self-attention layers are compared to recurrent and convolutional layers in terms of computational complexity, parallelization, and path length for learning long-range dependencies in sequence transduction tasks. Self-attention connects all positions with a constant number of operations and is faster than recurrent layers when sequence length is shorter than representation dimensionality. Convolutional layers require multiple layers to connect all positions, increasing path lengths and complexity. Separable convolutions reduce complexity but still do not outperform self-attention. Additionally, self-attention may lead to more interpretable models, with distinct attention heads learning different tasks related to sentence structure.',\n",
              " 'The training regime for the models involved using the WMT 2014 English-German dataset with 4.5 million sentence pairs and the larger English-French dataset with 36 million sentences. The models were trained on 8 NVIDIA P100 GPUs, with base models taking 12 hours for 100,000 steps and big models taking 3.5 days for 300,000 steps. The Adam optimizer was used with a specific learning rate schedule and warmup steps of 4000. Regularization techniques included residual dropout with a rate of 0.1 and label smoothing with a value of 0.1. The Transformer models achieved superior BLEU scores compared to previous state-of-the-art models while requiring less training cost in FLOPs.',\n",
              " 'The big Transformer model significantly outperforms previous models in English-to-German and English-to-French translation tasks, achieving BLEU scores of 28.4 and 41.0, respectively. It establishes new state-of-the-art results while requiring less training time and cost compared to earlier models. Variations in the Transformer architecture were tested, showing changes in performance metrics like BLEU scores and perplexity, with specific hyperparameters detailed in Table 3.',\n",
              " \"The study evaluates the Transformer model's performance in machine translation and English constituency parsing. In Table 3, varying the number of attention heads and dimensions shows that single-head attention is less effective, and reducing attention key size negatively impacts model quality. Larger models and dropout help prevent overfitting. In Table 4, the Transformer achieves competitive F1 scores in English constituency parsing, outperforming traditional models and achieving state-of-the-art results in both WSJ only and semi-supervised settings, despite lacking specific tuning.\",\n",
              " 'The work introduces the Transformer model, a sequence transduction architecture that utilizes attention mechanisms instead of recurrent layers, achieving faster training and state-of-the-art results in English-to-German and English-to-French translation tasks. Future plans include applying attention-based models to various input/output modalities beyond text and exploring efficient attention mechanisms for large data types. The training code is publicly available. Acknowledgments are given for contributions to the research.',\n",
              " \"The text references several significant works in computer vision and neural machine translation, including Szegedy et al.'s rethinking of inception architecture (2015), Vinyals et al.'s grammar as a foreign language (2015), and Wu et al.'s neural machine translation system (2016). It also discusses attention mechanisms in neural networks, illustrating how attention heads in the encoder self-attention layer can focus on long-distance dependencies and perform tasks like anaphora resolution and sentence structure analysis. Figures depict examples of attention behavior across different heads, highlighting their specialized functions.\"]"
            ]
          },
          "execution_count": 28,
          "metadata": {},
          "output_type": "execute_result"
        }
      ],
      "source": [
        "text_summaries"
      ]
    },
    {
      "cell_type": "code",
      "execution_count": null,
      "metadata": {
        "colab": {
          "base_uri": "https://localhost:8080/"
        },
        "id": "SaFAcXVDuZsi",
        "outputId": "3bd8e990-1566-4454-c549-7e973f55c61e"
      },
      "outputs": [
        {
          "data": {
            "text/plain": [
              "['The table compares different layer types in terms of complexity, sequential operations, and maximum path length. Self-Attention has a complexity of O(n? - d), with O(1) sequential operations and a maximum path length of O(1). Recurrent layers have a complexity of O(n - d?), O(n) sequential operations, and a maximum path length of O(n). Convolutional layers show a complexity of O(k-n-d?), O(1) sequential operations, and a maximum path length of O(logx(n)). Restricted Self-Attention has a complexity of O(r-n-d), unspecified sequential operations, and a maximum path length of O(n/r).',\n",
              " 'The table presents various models and their performance metrics in English-to-German (EN-DE) and English-to-French (EN-FR) translation tasks, along with their training parameters. Notable models include ByteNet with a score of 23.75, GNMT + RL achieving 24.6 (EN-DE) and 39.92 (EN-FR), and Transformer (big) reaching 28.4 (EN-DE) and 41.8 (EN-FR). Ensemble methods generally show improved performance, with the highest EN-FR score of 41.29 from ConvS2S Ensemble.',\n",
              " 'The table presents a comparison of various configurations (base, A, B, C, O, E) with different parameters such as \"No,\" \"dyoast,\" \"de,\" \"Rd,\" \"dy,\" \"Parop,\" \"ets,\" \"fame,\" \"deny,\" and \"dev.\" Each configuration shows values for these parameters, including performance metrics like \"fame\" and \"deny.\" Notable observations include the base configuration having a fame of 100K and a deny of 4.92, while configuration E has a fame of 300K and a deny of 4.33. Configuration C shows varying results across its rows, with the highest deny value being 6.11. Overall, performance metrics fluctuate across configurations, indicating varying effectiveness based on the parameters used.',\n",
              " 'The table presents various parsers along with their training methods and performance measured by F1 scores on the WSJ 23 dataset. Discriminative parsers range from 88.3 to 91.7, with Dyer et al. (2016) achieving the highest score. Semi-supervised methods show scores from 91.3 to 92.7, with the Transformer (4 layers) performing best at 92.7. Multi-task and generative approaches yield the highest scores, with Luong et al. (2015) at 93.0 and Dyer et al. (2016) at 93.3, respectively.']"
            ]
          },
          "execution_count": 29,
          "metadata": {},
          "output_type": "execute_result"
        }
      ],
      "source": [
        "table_summaries"
      ]
    },
    {
      "cell_type": "markdown",
      "metadata": {
        "id": "9_YyIraGCN9C"
      },
      "source": [
        "## Image summaries"
      ]
    },
    {
      "cell_type": "code",
      "execution_count": null,
      "metadata": {
        "id": "iVMvkS25BXep"
      },
      "outputs": [],
      "source": [
        "%pip install -Uq langchain_openai"
      ]
    },
    {
      "cell_type": "code",
      "execution_count": null,
      "metadata": {
        "id": "HHFYM5e3BXb7"
      },
      "outputs": [],
      "source": [
        "from langchain_openai import ChatOpenAI\n",
        "\n",
        "prompt_template = \"\"\"Describe the image in detail. For context,\n",
        "                  the image is part of a research paper explaining the transformers\n",
        "                  architecture. Be specific about graphs, such as bar plots.\"\"\"\n",
        "messages = [\n",
        "    (\n",
        "        \"user\",\n",
        "        [\n",
        "            {\"type\": \"text\", \"text\": prompt_template},\n",
        "            {\n",
        "                \"type\": \"image_url\",\n",
        "                \"image_url\": {\"url\": \"data:image/jpeg;base64,{image}\"},\n",
        "            },\n",
        "        ],\n",
        "    )\n",
        "]\n",
        "\n",
        "prompt = ChatPromptTemplate.from_messages(messages)\n",
        "\n",
        "chain = prompt | ChatOpenAI(model=\"gpt-4o-mini\") | StrOutputParser()\n",
        "\n",
        "\n",
        "image_summaries = chain.batch(images)"
      ]
    },
    {
      "cell_type": "code",
      "execution_count": null,
      "metadata": {
        "colab": {
          "base_uri": "https://localhost:8080/"
        },
        "id": "_cMmtnSfCSlx",
        "outputId": "b1ed0f77-9604-48ec-ad08-32a62aeb291a"
      },
      "outputs": [
        {
          "data": {
            "text/plain": [
              "['The image illustrates the architecture of a Transformer model, commonly used in natural language processing tasks. Here’s a detailed description:\\n\\n1. **Overall Structure**: \\n   - The diagram features two main sections, one representing the encoder and the other the decoder, labeled with \"Nᵡ\" to indicate multiple layers (stacks).\\n\\n2. **Encoder Section**:\\n   - The encoder includes a series of blocks that contain several operations:\\n     - **Multi-Head Attention**: This component allows the model to focus on different parts of the input sequence simultaneously.\\n     - **Add & Norm**: This indicates a residual connection followed by layer normalization, helping stabilize training by preserving the input information.\\n     - **Feed Forward**: A feed-forward network that processes each position independently.\\n   - The encoder\\'s output flows into the next layer or to the decoder, depending on the model\\'s stage.\\n\\n3. **Decoder Section**:\\n   - The decoder processes the output from the encoder and includes:\\n     - **Masked Multi-Head Attention**: This blocks information from future tokens, ensuring that the prediction for a particular token only depends on previous tokens.\\n     - **Similar \\\\(Add & Norm\\\\) and \\\\(Feed Forward\\\\)** as in the encoder.\\n   - The decoder outputs predictions after applying a linear transformation and a softmax function to generate output probabilities.\\n\\n4. **Input and Output**:\\n   - **Positional Encoding**: Two positional encoding sections (one for the encoder and one for the decoder) ensure that the model retains the order of the tokens in the sequence.\\n   - The **Input Embedding** at the bottom shows how data is transformed before entering the encoder, and the **Output Embedding** indicates where the decoder\\'s output is processed for further tasks.\\n\\n5. **Final Outputs**:\\n   - The top of the decoder shows the flow from the last decoder layer, leading to the final output probabilities through Linear and Softmax transformations.\\n\\nThe whole diagram emphasizes the flow of information through the various operations and layers, showcasing the complex interconnections within the Transformer architecture.',\n",
              " 'The image presents a conceptual diagram of the Transformer architecture, focusing specifically on the attention mechanism. Here\\'s a detailed description of its components:\\n\\n1. **Boxes**: \\n   - The diagram consists of several rectangular boxes connected by arrows, which indicate the flow of data through the various stages of the attention mechanism.\\n\\n2. **MatMul (Matrix Multiplication)**:\\n   - There are three instances of boxes labeled \"MatMul.\" This likely represents matrix multiplication operations, which are crucial in the attention mechanism for computing the interaction between different components (queries, keys, and values).\\n\\n3. **SoftMax**:\\n   - Positioned above the second \"MatMul\" box, this light green box represents the SoftMax function. It typically converts the scores generated from the previous operations into probabilities.\\n\\n4. **Mask (optional)**:\\n   - This element, shown as a pink box, indicates the application of a masking operation, which is optional. Masking is used to prevent attention to certain positions in the sequence, often applied in situations like padding or during training.\\n\\n5. **Scale**:\\n   - The yellow box titled \"Scale\" suggests that there is a scaling operation happening, which usually involves scaling the dot products (from the first \"MatMul\") to mitigate issues associated with high-dimensional space.\\n\\n6. **Arrows**:\\n   - The arrows pointing upwards and downwards connect these components. The arrows lead from the input components, labeled \"Q\" (Query), \"K\" (Key), and \"V\" (Value), toward the \"MatMul\" boxes. This indicates that matrices for queries, keys, and values are being processed through these operations.\\n\\n7. **Vertical Arrangement**:\\n   - The vertical alignment of the boxes suggests a sequence of operations, highlighting that data must pass through each stage in order to perform the calculations required for attention.\\n\\nThis diagram effectively encapsulates the processing flow within the attention mechanism of a Transformer, detailing how input vectors are transformed through matrix multiplication, scaling, masking, and normalization via SoftMax.',\n",
              " 'The image depicts a diagram of the transformers architecture, with a focus on the attention mechanism, specifically the Scaled Dot-Product Attention. \\n\\n### Key Elements:\\n\\n1. **Scaled Dot-Product Attention Block**:\\n   - Central to the diagram, this block is highlighted in purple. It indicates the processing step where attention scores are calculated, enabling the model to focus on different parts of the input sequence.\\n\\n2. **Linear Layers**:\\n   - There are three linear layers represented in gray, each with an associated label (V, K, and Q). These layers correspond to the Value (V), Key (K), and Query (Q) vectors that are inputs to the attention mechanism.\\n   - These linear layers are visually connected to the Scaled Dot-Product Attention block, showing their role in transforming input embeddings to the appropriate format for attention calculation.\\n\\n3. **Concatenation Layer**:\\n   - Above the attention block, a yellow \"Concat\" layer is displayed. This indicates that the outputs from multiple attention heads may be concatenated together. The arrows pointing to and from this block suggest that it gathers information from the attention output before passing it onward.\\n\\n4. **Arrows**:\\n   - Directional arrows are used throughout the diagram, indicating the flow of data between the layers. The arrows leading into the Scaled Dot-Product Attention block from the linear layers and the concatenation layer illustrate how inputs are processed sequentially.\\n\\n5. **Output Representation**:\\n   - Just above the Scaled Dot-Product Attention, there is a variable labeled \"h,\" suggesting it represents the output of this attention block, which is then sent to the next stage of the transformer model.\\n\\nOverall, the diagram succinctly captures the essential elements of the transformer model\\'s attention mechanism, showcasing how input embeddings are processed through linear transformations and attention calculations.',\n",
              " 'The image showcases a detailed visual representation likely used to illustrate the transformer architecture in machine learning, particularly focusing on its attention mechanisms. \\n\\nHere\\'s a breakdown of the components:\\n\\n1. **Words and Phrases**: The image contains a series of words and phrases arranged vertically on the left and right margins. Each word represents parts of a sentence fragment, which is likely involved in the training of the transformer model.\\n\\n2. **Connections**: There are lines connecting the words from the left and right sides, indicating relationships in the context of attention distributions. Different colors of these lines, such as pink, brown, and purple, might represent varying degrees of attention weights assigned to those connections.\\n\\n3. **Central Features**: At the center, there is a highlighted word \"making\" followed by \"2009,\" which appears prominently in a gray box. This likely indicates the focal point of the sentence being analyzed.\\n\\n4. **Attention Weights Visualization**: The color-coded elements at the bottom demonstrate attention weights associated with the input words. For instance, the word \"more\" appears with a combination of colors that may indicate a specific attention mechanism related to processing the word \"difficult.\"\\n\\n5. **Padding Tokens**: There are several \"<pad>\" tokens appearing towards the right of the image, suggesting that this involves padding for alignment in input sequences.\\n\\n6. **End of Sequence (EOS)**: The symbol \"<EOS>\" is present, indicating the end of a sentence or sequence within the model\\'s processing framework.\\n\\nOverall, the image is a complex illustration of how transformers handle sequences of text through attention mechanisms, showing how words and phrases correlate contextually, along with their processed weightings.',\n",
              " 'The image displays a diagram that illustrates the attention mechanism in transformers, often referred to as a \"self-attention\" visualization. It consists of several horizontal layers, with words arranged in a list format. \\n\\n1. **Word Representation**: The left section displays a series of words such as \"The,\" \"Law,\" \"will,\" \"never,\" etc. Each word is positioned along a horizontal axis.\\n\\n2. **Connections**: There are several lines connecting the words. These lines vary in opacity and thickness, indicating the strength of the attention weights assigned to each word during the attention process. Thicker and darker lines generally represent stronger relationships or attention scores between the words.\\n\\n3. **Highlighted Tokens**: The word \"Law\" is particularly highlighted in a darker shade, suggesting it has significant importance in the attention mechanism compared to the other words.\\n\\n4. **Token Representation**: On the right side, additional tokens such as \"<EOS>\" (end of sentence) and \"<pad>\" (padding) are present, indicating special tokens that assist in the model\\'s processing of sequences.\\n\\n5. **Layer Structure**: The diagram appears to show multiple layers of attention, as indicated by lines connecting different rows of words. The connections suggest how words in the input relate to each other and how they influence the generated output sequence.\\n\\nOverall, this visual representation effectively conveys the intricate relationships among words in the context of transformer architecture, showcasing how attention mechanisms function within the model.',\n",
              " 'The image presents a visualization likely illustrating the attention mechanisms within the transformer architecture, focusing on the relationships between tokens in a sequence. \\n\\n### Description:\\n\\n1. **Structure**: \\n   - The image features multiple text tokens placed horizontally across the top and bottom axes. These tokens are words or symbols representing parts of a sentence, which appear to be connected by lines.\\n\\n2. **Tokens**: \\n   - The tokens on the left side include words such as \"The,\" \"Law,\" \"will,\" \"never,\" \"be,\" and \"perfect.\" The words seem to represent a segment of a sentence.\\n   - The right side contains tokens like \"this,\" \"is,\" \"what,\" \"we,\" \"are,\" \"missing,\" \"in,\" \"my,\" and \"opinion,\" along with markers like `<EOS>` (End of Sentence) and `<pad>`.\\n\\n3. **Connections**: \\n   - Green lines connect the tokens, indicating the strength of attention or relationships between them. \\n   - The lines vary in thickness; thicker lines suggest a stronger relationship or higher attention weight, while thinner lines represent weaker connections.\\n\\n4. **Focal Points**: \\n   - Some central tokens, such as \"application\" and \"should,\" appear to have more connections, suggesting they play a significant role in the attention mechanism for this specific sequence.\\n   - The gradual increase in line density towards certain tokens may indicate areas where the model focuses its attention more intensely.\\n\\n5. **Color Gradient**: \\n   - The use of varying shades of green adds depth to the visualization, indicating varying levels of attention or connection strength between the tokens.\\n\\nThis image effectively illustrates how transformers model interactions between words, emphasizing the complexity of understanding context in natural language processing tasks.',\n",
              " 'The image appears to illustrate a visualization of the attention mechanism used in transformer architecture, specifically focusing on how different words in a sentence are related to one another.\\n\\n### Key Features:\\n\\n1. **Text Representation:**\\n   - The image contains a sequence of words arranged horizontally across the top and bottom. These words appear to be from a sentence or a set of sentences, indicating the context in which the attention is being calculated.\\n\\n2. **Attention Connections:**\\n   - Red lines connect words from the top row to those in the bottom row, representing attention scores between them. The thickness and opacity of these lines vary, indicating the strength of the attention. Thicker, brighter red lines suggest a stronger correlation or higher attention weight between specific word pairs.\\n\\n3. **Word Selection:**\\n   - The words include several common connector words (e.g., \"but,\" \"should,\" \"is\"), which might indicate their role in the syntactic structure or importance in conveying meaning.\\n\\n4. **Structural Elements:**\\n   - Certain elements at the end of the sequence, such as \"<EOS>\" (End of Sentence) and \"<pad>\" (padding token), suggest that this visualization denotes boundaries within the sentence structure, typical in transformer models for handling input sequences.\\n\\n5. **Overall Layout:**\\n   - The attention weights visualized here are essential in understanding how transformers process and relate different parts of the input data, proving crucial for tasks like natural language processing.\\n\\nThis visualization effectively enhances the comprehension of the importance of individual words and their interrelationships in the context of the transformer architecture.']"
            ]
          },
          "execution_count": 32,
          "metadata": {},
          "output_type": "execute_result"
        }
      ],
      "source": [
        "image_summaries"
      ]
    },
    {
      "cell_type": "code",
      "execution_count": null,
      "metadata": {
        "colab": {
          "base_uri": "https://localhost:8080/"
        },
        "id": "OG_O4Ws1CW1d",
        "outputId": "83913bf8-cea4-4b44-de9b-ae36c738a298"
      },
      "outputs": [
        {
          "name": "stdout",
          "output_type": "stream",
          "text": [
            "The image presents a conceptual diagram of the Transformer architecture, focusing specifically on the attention mechanism. Here's a detailed description of its components:\n",
            "\n",
            "1. **Boxes**: \n",
            "   - The diagram consists of several rectangular boxes connected by arrows, which indicate the flow of data through the various stages of the attention mechanism.\n",
            "\n",
            "2. **MatMul (Matrix Multiplication)**:\n",
            "   - There are three instances of boxes labeled \"MatMul.\" This likely represents matrix multiplication operations, which are crucial in the attention mechanism for computing the interaction between different components (queries, keys, and values).\n",
            "\n",
            "3. **SoftMax**:\n",
            "   - Positioned above the second \"MatMul\" box, this light green box represents the SoftMax function. It typically converts the scores generated from the previous operations into probabilities.\n",
            "\n",
            "4. **Mask (optional)**:\n",
            "   - This element, shown as a pink box, indicates the application of a masking operation, which is optional. Masking is used to prevent attention to certain positions in the sequence, often applied in situations like padding or during training.\n",
            "\n",
            "5. **Scale**:\n",
            "   - The yellow box titled \"Scale\" suggests that there is a scaling operation happening, which usually involves scaling the dot products (from the first \"MatMul\") to mitigate issues associated with high-dimensional space.\n",
            "\n",
            "6. **Arrows**:\n",
            "   - The arrows pointing upwards and downwards connect these components. The arrows lead from the input components, labeled \"Q\" (Query), \"K\" (Key), and \"V\" (Value), toward the \"MatMul\" boxes. This indicates that matrices for queries, keys, and values are being processed through these operations.\n",
            "\n",
            "7. **Vertical Arrangement**:\n",
            "   - The vertical alignment of the boxes suggests a sequence of operations, highlighting that data must pass through each stage in order to perform the calculations required for attention.\n",
            "\n",
            "This diagram effectively encapsulates the processing flow within the attention mechanism of a Transformer, detailing how input vectors are transformed through matrix multiplication, scaling, masking, and normalization via SoftMax.\n"
          ]
        }
      ],
      "source": [
        "print(image_summaries[1])"
      ]
    },
    {
      "cell_type": "markdown",
      "metadata": {
        "id": "Ia45toT37Adl"
      },
      "source": [
        "# Load data and summaries to vectorstore"
      ]
    },
    {
      "cell_type": "markdown",
      "metadata": {
        "id": "R3qWFc827Olo"
      },
      "source": [
        "## Create the vectorstore"
      ]
    },
    {
      "cell_type": "code",
      "execution_count": null,
      "metadata": {
        "colab": {
          "base_uri": "https://localhost:8080/"
        },
        "id": "TQWupgo6My8U",
        "outputId": "ba00aadd-7669-4390-c66a-8108b497d16d"
      },
      "outputs": [
        {
          "name": "stderr",
          "output_type": "stream",
          "text": [
            "<ipython-input-34-a27ec33527b9>:9: LangChainDeprecationWarning: The class `OpenAIEmbeddings` was deprecated in LangChain 0.0.9 and will be removed in 1.0. An updated version of the class exists in the :class:`~langchain-openai package and should be used instead. To use it run `pip install -U :class:`~langchain-openai` and import as `from :class:`~langchain_openai import OpenAIEmbeddings``.\n",
            "  vectorstore = Chroma(collection_name=\"multi_modal_rag1\", embedding_function=OpenAIEmbeddings())\n",
            "<ipython-input-34-a27ec33527b9>:9: LangChainDeprecationWarning: The class `Chroma` was deprecated in LangChain 0.2.9 and will be removed in 1.0. An updated version of the class exists in the :class:`~langchain-chroma package and should be used instead. To use it run `pip install -U :class:`~langchain-chroma` and import as `from :class:`~langchain_chroma import Chroma``.\n",
            "  vectorstore = Chroma(collection_name=\"multi_modal_rag1\", embedding_function=OpenAIEmbeddings())\n"
          ]
        }
      ],
      "source": [
        "import uuid\n",
        "from langchain.vectorstores import Chroma\n",
        "from langchain.storage import InMemoryStore\n",
        "from langchain.schema.document import Document\n",
        "from langchain.embeddings import OpenAIEmbeddings\n",
        "from langchain.retrievers.multivector import MultiVectorRetriever\n",
        "\n",
        "# The vectorstore to use to index the chunks\n",
        "vectorstore = Chroma(collection_name=\"multi_modal_rag1\", embedding_function=OpenAIEmbeddings())\n",
        "\n",
        "# The storage layer for the parent documents\n",
        "store = InMemoryStore()\n",
        "id_key = \"doc_id\"\n",
        "\n",
        "# The retriever (empty to start)\n",
        "retriever = MultiVectorRetriever(\n",
        "    vectorstore=vectorstore,\n",
        "    docstore=store,\n",
        "    id_key=id_key,\n",
        ")"
      ]
    },
    {
      "cell_type": "markdown",
      "metadata": {
        "id": "GfbrCggT7T0o"
      },
      "source": [
        "## Load the summaries and link the to the original data"
      ]
    },
    {
      "cell_type": "code",
      "execution_count": null,
      "metadata": {
        "id": "4QWPOhzcMy5c"
      },
      "outputs": [],
      "source": [
        "# Add texts\n",
        "doc_ids = [str(uuid.uuid4()) for _ in texts]\n",
        "summary_texts = [\n",
        "    Document(page_content=summary, metadata={id_key: doc_ids[i]}) for i, summary in enumerate(text_summaries)\n",
        "]\n",
        "retriever.vectorstore.add_documents(summary_texts)\n",
        "retriever.docstore.mset(list(zip(doc_ids, texts)))\n",
        "\n",
        "# Add tables\n",
        "table_ids = [str(uuid.uuid4()) for _ in tables]\n",
        "summary_tables = [\n",
        "    Document(page_content=summary, metadata={id_key: table_ids[i]}) for i, summary in enumerate(table_summaries)\n",
        "]\n",
        "retriever.vectorstore.add_documents(summary_tables)\n",
        "retriever.docstore.mset(list(zip(table_ids, tables)))\n",
        "\n",
        "\n",
        "# Add image summaries\n",
        "img_ids = [str(uuid.uuid4()) for _ in images]\n",
        "summary_img = [\n",
        "    Document(page_content=summary, metadata={id_key: img_ids[i]}) for i, summary in enumerate(image_summaries)\n",
        "]\n",
        "retriever.vectorstore.add_documents(summary_img)\n",
        "retriever.docstore.mset(list(zip(img_ids, images)))"
      ]
    },
    {
      "cell_type": "markdown",
      "metadata": {
        "id": "2XgF5sc4q95n"
      },
      "source": [
        "## Check Retrieval"
      ]
    },
    {
      "cell_type": "code",
      "execution_count": null,
      "metadata": {
        "id": "qemEAwwbMy2c"
      },
      "outputs": [],
      "source": [
        "# Retrieve\n",
        "docs = retriever.invoke(\n",
        "    \"who are the authors of the paper?\"\n",
        ")"
      ]
    },
    {
      "cell_type": "code",
      "execution_count": null,
      "metadata": {
        "colab": {
          "base_uri": "https://localhost:8080/"
        },
        "id": "J0lhdKClMyz4",
        "outputId": "dfac1df0-1739-441b-8035-9a16110a0351"
      },
      "outputs": [
        {
          "name": "stdout",
          "output_type": "stream",
          "text": [
            "[36] Christian Szegedy, Vincent Vanhoucke, Sergey Ioffe, Jonathon Shlens, and Zbigniew Wojna. Rethinking the inception architecture for computer vision. CoRR, abs/1512.00567, 2015.\n",
            "\n",
            "[37] Vinyals & Kaiser, Koo, Petrov, Sutskever, and Hinton. Grammar as a foreign language. In Advances in Neural Information Processing Systems, 2015.\n",
            "\n",
            "[38] Yonghui Wu, Mike Schuster, Zhifeng Chen, Quoc V Le, Mohammad Norouzi, Wolfgang Macherey, Maxim Krikun, Yuan Cao, Qin Gao, Klaus Macherey, et al. Google’s neural machine translation system: Bridging the gap between human and machine translation. arXiv preprint arXiv:1609.08144, 2016.\n",
            "\n",
            "[39] Jie Zhou, Ying Cao, Xuguang Wang, Peng Li, and Wei Xu. Deep recurrent models with fast-forward connections for neural machine translation. CoRR, abs/1606.04199, 2016.\n",
            "\n",
            "[40] Muhua Zhu, Yue Zhang, Wenliang Chen, Min Zhang, and Jingbo Zhu. Fast and accurate shift-reduce constituent parsing. In Proceedings of the 51st Annual Meeting of the ACL (Volume 1: Long Papers), pages 434–443. ACL, August 2013.\n",
            "\n",
            "12\n",
            "\n",
            "Attention Visualizations\n",
            "\n",
            "2 c c< gE 3 2 ® 2 = = gc 3 2 &£ 2s 3 BaARAAAA fF. oS GS L28s eH 8BQxR Q €oe2s ozesyuTes 2ea8 T_ FFSREH8TZESHBOP_,SSSE DSsSSSES ~2£F$€voFEnvFESCRCoecacKRGNESLSESSCEC -vVvVVVVV Hv over Boepgqecxuos QKXRDLXE EON “A AANARAAA SPesewe Fog ese ss ss ess 5 PB HSBsgaas Sa 5 SESEHSRBESDS s 2 8 oes aaa oO 2 = on aN G o ° ao09000 0 © OE @ £ £ > 9 wUvvvvVvV Vv & ge oO 2 a v <8 8 & ||\n",
            "\n",
            "Figure 3: An example of the attention mechanism following long-distance dependencies in the encoder self-attention in layer 5 of 6. Many of the attention heads attend to a distant dependency of the verb ‘making’, completing the phrase ‘making...more difficult’. Attentions here shown only for the word ‘making’. Different colors represent different heads. Best viewed in color.\n",
            "\n",
            "13\n",
            "\n",
            "<ped> <ped> <SOa> — 70” UOIUIdO == = uoluldo Aw — Aw ul ul Bulssiw Bulssiw ale « ae aM = aM yeum = yeum S| i S| sy si ysnf ysnf 3q° 3q Pinoys Pinoys uojeojdde Ss}! nq jopied 3q JO@AoU me) aul <ped> <SOa> uojuido Aw ul Bulssiw oe aM yeum S| su} ysnf 3q Pinoys uojeoydde si! ynq yooped 3q JOABU meq au <ped> <SOa> uoluldo Aw ul Bulssiw oe OM yeum S| Siu} ysnf 3q Pinoys uoyeodde si! ynq yooped 3q aul\n",
            "\n",
            "Figure 4: Two attention heads, also in layer 5 of 6, apparently involved in anaphora resolution. Top: Full attentions for head 5. Bottom: Isolated attentions from just the word ‘its’ for attention heads 5 and 6. Note that the attentions are very sharp for this word.\n",
            "\n",
            "14\n",
            "\n",
            "<ped> <ped> <SOS>\\ <SO4> uoluido = uoluido Aw Aw yeum S| sin ysn[— i} -ysn{ _—8q Pinoys“ pinoys uoieadde * uojeodde Ss}! S$}! | ya | ngs inq pooped pooped aq aq Janou™ JO@ABU HIM “TIM me) me) aul “OU\n",
            "\n",
            "<ped> <ped> so ————_<S0 UO|UIdO uoluldo Aw Aw ul ul Bulssiw Bulssiw ae ale aM am yeum yeum s| s| sty} # sly -— - a 3q 3q Pinoys « pinoys uoyjeoijdde ee Ss}! Ss}! inq ee popod oo ated 3q 3q JOABU JOABU IW IW rn aul aul\n",
            "\n",
            "Figure 5: Many of the attention heads exhibit behaviour that seems related to the structure of the sentence. We give two such examples above, from two different heads from the encoder self-attention at layer 5 of 6. The heads clearly learned to perform different tasks.\n",
            "\n",
            "15\n",
            "\n",
            "--------------------------------------------------------------------------------\n",
            "3\n",
            "\n",
            "2023\n",
            "\n",
            "2\n",
            "\n",
            "0\n",
            "\n",
            "2\n",
            "\n",
            "g u A 2 ] L C . s c [ 7 v 2 6 7 3 0 . 6 0\n",
            "\n",
            "7\n",
            "\n",
            "1\n",
            "\n",
            ":\n",
            "\n",
            "v\n",
            "\n",
            "arXiv\n",
            "\n",
            "i\n",
            "\n",
            "X\n",
            "\n",
            "r\n",
            "\n",
            "a\n",
            "\n",
            "Provided proper attribution is provided, Google hereby grants permission to reproduce the tables and figures in this paper solely for use in journalistic or scholarly works.\n",
            "\n",
            "Attention Is All You Need\n",
            "\n",
            "Ashish Vaswani∗\n",
            "\n",
            "Google Brain\n",
            "\n",
            "avaswani@google.com\n",
            "\n",
            "Noam Shazeer∗ Google Brain noam@google.com\n",
            "\n",
            "Niki Parmar∗ Google Research nikip@google.com\n",
            "\n",
            "Jakob Uszkoreit∗\n",
            "\n",
            "Google Research usz@google.com\n",
            "\n",
            "Llion Jones∗\n",
            "\n",
            "Google Research llion@google.com\n",
            "\n",
            "Aidan N. Gomez∗ † University of Toronto aidan@cs.toronto.edu\n",
            "\n",
            "Łukasz Kaiser∗ Google Brain lukaszkaiser@google.com\n",
            "\n",
            "Illia Polosukhin∗ ‡\n",
            "\n",
            "illia.polosukhin@gmail.com\n",
            "\n",
            "Abstract\n",
            "\n",
            "The dominant sequence transduction models are based on complex recurrent or convolutional neural networks that include an encoder and a decoder. The best performing models also connect the encoder and decoder through an attention mechanism. We propose a new simple network architecture, the Transformer, based solely on attention mechanisms, dispensing with recurrence and convolutions entirely. Experiments on two machine translation tasks show these models to be superior in quality while being more parallelizable and requiring significantly less time to train. Our model achieves 28.4 BLEU on the WMT 2014 English- to-German translation task, improving over the existing best results, including ensembles, by over 2 BLEU. On the WMT 2014 English-to-French translation task, our model establishes a new single-model state-of-the-art BLEU score of 41.8 after training for 3.5 days on eight GPUs, a small fraction of the training costs of the best models from the literature. We show that the Transformer generalizes well to other tasks by applying it successfully to English constituency parsing both with large and limited training data.\n",
            "\n",
            "∗Equal contribution. Listing order is random. Jakob proposed replacing RNNs with self-attention and started the effort to evaluate this idea. Ashish, with Illia, designed and implemented the first Transformer models and has been crucially involved in every aspect of this work. Noam proposed scaled dot-product attention, multi-head attention and the parameter-free position representation and became the other person involved in nearly every detail. Niki designed, implemented, tuned and evaluated countless model variants in our original codebase and tensor2tensor. Llion also experimented with novel model variants, was responsible for our initial codebase, and efficient inference and visualizations. Lukasz and Aidan spent countless long days designing various parts of and implementing tensor2tensor, replacing our earlier codebase, greatly improving results and massively accelerating our research.\n",
            "\n",
            "†Work performed while at Google Brain.\n",
            "\n",
            "‡Work performed while at Google Research.\n",
            "\n",
            "31st Conference on Neural Information Processing Systems (NIPS 2017), Long Beach, CA, USA.\n",
            "\n",
            "--------------------------------------------------------------------------------\n",
            "Parser Training WSJ 23 F1 Vinyals & Kaiser el al. (2014) [37] WSJ only, discriminative 88.3 Petrov et al. (2006) [29] WSJ only, discriminative 90.4 Zhu et al. (2013) [40] WSJ only, discriminative 90.4 Dyer et al. (2016) [8] WSJ only, discriminative 91.7 Transformer (4 layers) WSJ only, discriminative 91.3 Zhu et al. (2013) [40] semi-supervised 91.3 Huang & Harper (2009) [14] semi-supervised 91.3 McClosky et al. (2006) [26] semi-supervised 92.1 Vinyals & Kaiser el al. (2014) [37] semi-supervised 92.1 Transformer (4 layers) semi-supervised 92.7 Luong et al. (2015) [23] multi-task 93.0 Dyer et al. (2016) [8] generative 93.3\n",
            "\n",
            "--------------------------------------------------------------------------------\n",
            "7 Conclusion\n",
            "\n",
            "In this work, we presented the Transformer, the first sequence transduction model based entirely on attention, replacing the recurrent layers most commonly used in encoder-decoder architectures with multi-headed self-attention.\n",
            "\n",
            "For translation tasks, the Transformer can be trained significantly faster than architectures based on recurrent or convolutional layers. On both WMT 2014 English-to-German and WMT 2014 English-to-French translation tasks, we achieve a new state of the art. In the former task our best model outperforms even all previously reported ensembles.\n",
            "\n",
            "We are excited about the future of attention-based models and plan to apply them to other tasks. We plan to extend the Transformer to problems involving input and output modalities other than text and to investigate local, restricted attention mechanisms to efficiently handle large inputs and outputs such as images, audio and video. Making generation less sequential is another research goals of ours.\n",
            "\n",
            "The code we used to train and evaluate our models is available at https://github.com/ tensorflow/tensor2tensor.\n",
            "\n",
            "Acknowledgements We are grateful to Nal Kalchbrenner and Stephan Gouws for their fruitful comments, corrections and inspiration.\n",
            "\n",
            "References\n",
            "\n",
            "[1] Jimmy Lei Ba, Jamie Ryan Kiros, and Geoffrey E Hinton. Layer normalization. arXiv preprint arXiv:1607.06450, 2016.\n",
            "\n",
            "[2] Dzmitry Bahdanau, Kyunghyun Cho, and Yoshua Bengio. Neural machine translation by jointly learning to align and translate. CoRR, abs/1409.0473, 2014.\n",
            "\n",
            "[3] Denny Britz, Anna Goldie, Minh-Thang Luong, and Quoc V. Le. Massive exploration of neural machine translation architectures. CoRR, abs/1703.03906, 2017.\n",
            "\n",
            "[4] Jianpeng Cheng, Li Dong, and Mirella Lapata. Long short-term memory-networks for machine reading. arXiv preprint arXiv:1601.06733, 2016.\n",
            "\n",
            "10\n",
            "\n",
            "[5] Kyunghyun Cho, Bart van Merrienboer, Caglar Gulcehre, Fethi Bougares, Holger Schwenk, and Yoshua Bengio. Learning phrase representations using rnn encoder-decoder for statistical machine translation. CoRR, abs/1406.1078, 2014.\n",
            "\n",
            "[6] Francois Chollet. Xception: Deep learning with depthwise separable convolutions. arXiv preprint arXiv:1610.02357, 2016.\n",
            "\n",
            "[7] Junyoung Chung, Çaglar Gülçehre, Kyunghyun Cho, and Yoshua Bengio. Empirical evaluation of gated recurrent neural networks on sequence modeling. CoRR, abs/1412.3555, 2014.\n",
            "\n",
            "[8] Chris Dyer, Adhiguna Kuncoro, Miguel Ballesteros, and Noah A. Smith. Recurrent neural network grammars. In Proc. of NAACL, 2016.\n",
            "\n",
            "[9] Jonas Gehring, Michael Auli, David Grangier, Denis Yarats, and Yann N. Dauphin. Convolu- tional sequence to sequence learning. arXiv preprint arXiv:1705.03122v2, 2017.\n",
            "\n",
            "[10] Alex Graves. Generating sequences with recurrent neural networks. arXiv preprint arXiv:1308.0850, 2013.\n",
            "\n",
            "[11] Kaiming He, Xiangyu Zhang, Shaoqing Ren, and Jian Sun. Deep residual learning for im- age recognition. In Proceedings of the IEEE Conference on Computer Vision and Pattern Recognition, pages 770–778, 2016.\n",
            "\n",
            "[12] Sepp Hochreiter, Yoshua Bengio, Paolo Frasconi, and Jürgen Schmidhuber. Gradient flow in recurrent nets: the difficulty of learning long-term dependencies, 2001.\n",
            "\n",
            "[13] Sepp Hochreiter and Jürgen Schmidhuber. Long short-term memory. Neural computation, 9(8):1735–1780, 1997.\n",
            "\n",
            "[14] Zhongqiang Huang and Mary Harper. Self-training PCFG grammars with latent annotations across languages. In Proceedings of the 2009 Conference on Empirical Methods in Natural Language Processing, pages 832–841. ACL, August 2009.\n",
            "\n",
            "[15] Rafal Jozefowicz, Oriol Vinyals, Mike Schuster, Noam Shazeer, and Yonghui Wu. Exploring the limits of language modeling. arXiv preprint arXiv:1602.02410, 2016.\n",
            "\n",
            "[16] Łukasz Kaiser and Samy Bengio. Can active memory replace attention? In Advances in Neural Information Processing Systems, (NIPS), 2016.\n",
            "\n",
            "[17] Łukasz Kaiser and Ilya Sutskever. Neural GPUs learn algorithms. In International Conference on Learning Representations (ICLR), 2016.\n",
            "\n",
            "[18] Nal Kalchbrenner, Lasse Espeholt, Karen Simonyan, Aaron van den Oord, Alex Graves, and Ko- ray Kavukcuoglu. Neural machine translation in linear time. arXiv preprint arXiv:1610.10099v2, 2017.\n",
            "\n",
            "[19] Yoon Kim, Carl Denton, Luong Hoang, and Alexander M. Rush. Structured attention networks. In International Conference on Learning Representations, 2017.\n",
            "\n",
            "[20] Diederik Kingma and Jimmy Ba. Adam: A method for stochastic optimization. In ICLR, 2015.\n",
            "\n",
            "[21] Oleksii Kuchaiev and Boris Ginsburg. Factorization tricks for LSTM networks. arXiv preprint arXiv:1703.10722, 2017.\n",
            "\n",
            "[22] Zhouhan Lin, Minwei Feng, Cicero Nogueira dos Santos, Mo Yu, Bing Xiang, Bowen Zhou, and Yoshua Bengio. A structured self-attentive sentence embedding. arXiv preprint arXiv:1703.03130, 2017.\n",
            "\n",
            "[23] Minh-Thang Luong, Quoc V. Le, Ilya Sutskever, Oriol Vinyals, and Lukasz Kaiser. Multi-task sequence to sequence learning. arXiv preprint arXiv:1511.06114, 2015.\n",
            "\n",
            "[24] Minh-Thang Luong, Hieu Pham, and Christopher D Manning. Effective approaches to attention- based neural machine translation. arXiv preprint arXiv:1508.04025, 2015.\n",
            "\n",
            "11\n",
            "\n",
            "[25] Mitchell P Marcus, Mary Ann Marcinkiewicz, and Beatrice Santorini. Building a large annotated corpus of english: The penn treebank. Computational linguistics, 19(2):313–330, 1993.\n",
            "\n",
            "[26] David McClosky, Eugene Charniak, and Mark Johnson. Effective self-training for parsing. In Proceedings of the Human Language Technology Conference of the NAACL, Main Conference, pages 152–159. ACL, June 2006.\n",
            "\n",
            "[27] Ankur Parikh, Oscar Täckström, Dipanjan Das, and Jakob Uszkoreit. A decomposable attention model. In Empirical Methods in Natural Language Processing, 2016.\n",
            "\n",
            "[28] Romain Paulus, Caiming Xiong, and Richard Socher. A deep reinforced model for abstractive summarization. arXiv preprint arXiv:1705.04304, 2017.\n",
            "\n",
            "[29] Slav Petrov, Leon Barrett, Romain Thibaux, and Dan Klein. Learning accurate, compact, and interpretable tree annotation. In Proceedings of the 21st International Conference on Computational Linguistics and 44th Annual Meeting of the ACL, pages 433–440. ACL, July 2006.\n",
            "\n",
            "[30] Ofir Press and Lior Wolf. Using the output embedding to improve language models. arXiv preprint arXiv:1608.05859, 2016.\n",
            "\n",
            "[31] Rico Sennrich, Barry Haddow, and Alexandra Birch. Neural machine translation of rare words with subword units. arXiv preprint arXiv:1508.07909, 2015.\n",
            "\n",
            "[32] Noam Shazeer, Azalia Mirhoseini, Krzysztof Maziarz, Andy Davis, Quoc Le, Geoffrey Hinton, and Jeff Dean. Outrageously large neural networks: The sparsely-gated mixture-of-experts layer. arXiv preprint arXiv:1701.06538, 2017.\n",
            "\n",
            "[33] Nitish Srivastava, Geoffrey E Hinton, Alex Krizhevsky, Ilya Sutskever, and Ruslan Salakhutdi- nov. Dropout: a simple way to prevent neural networks from overfitting. Journal of Machine Learning Research, 15(1):1929–1958, 2014.\n",
            "\n",
            "[34] Sainbayar Sukhbaatar, Arthur Szlam, Jason Weston, and Rob Fergus. End-to-end memory networks. In C. Cortes, N. D. Lawrence, D. D. Lee, M. Sugiyama, and R. Garnett, editors, Advances in Neural Information Processing Systems 28, pages 2440–2448. Curran Associates, Inc., 2015.\n",
            "\n",
            "[35] Ilya Sutskever, Oriol Vinyals, and Quoc VV Le. Sequence to sequence learning with neural networks. In Advances in Neural Information Processing Systems, pages 3104–3112, 2014.\n",
            "\n",
            "--------------------------------------------------------------------------------\n"
          ]
        }
      ],
      "source": [
        "for doc in docs:\n",
        "    print(str(doc) + \"\\n\\n\" + \"-\" * 80)"
      ]
    },
    {
      "cell_type": "code",
      "execution_count": null,
      "metadata": {
        "id": "BpyIcDCNM9GL"
      },
      "outputs": [],
      "source": [
        "# Retrieve\n",
        "docs = retriever.invoke(\n",
        "    \"What is the attention mechanism?\"\n",
        ")"
      ]
    },
    {
      "cell_type": "code",
      "execution_count": null,
      "metadata": {
        "colab": {
          "base_uri": "https://localhost:8080/"
        },
        "id": "KEHtsxWpQa6Q",
        "outputId": "ed155565-7615-4b5e-8f8e-fbeee22ab46a"
      },
      "outputs": [
        {
          "name": "stdout",
          "output_type": "stream",
          "text": [
            "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\n",
            "\n",
            "--------------------------------------------------------------------------------\n",
            "3.2.2 Multi-Head Attention\n",
            "\n",
            "Instead of performing a single attention function with dmodel-dimensional keys, values and queries, we found it beneficial to linearly project the queries, keys and values h times with different, learned linear projections to dk, dk and dv dimensions, respectively. On each of these projected versions of queries, keys and values we then perform the attention function in parallel, yielding dv-dimensional\n",
            "\n",
            "‘To illustrate why the dot products get large, assume that the components of q and k are independent random variables with mean 0 and variance 1. Then their dot product, g -k = ves, qiki, has mean 0 and variance dx.\n",
            "\n",
            "4\n",
            "\n",
            "output values. These are concatenated and once again projected, resulting in the final values, as depicted in Figure 2.\n",
            "\n",
            "Multi-head attention allows the model to jointly attend to information from different representation subspaces at different positions. With a single attention head, averaging inhibits this.\n",
            "\n",
            "MultiHead(Q,K,V ) = Concat(head1,...,headh)W O where headi = Attention(QW Q i ,KW K i ,V W V i )\n",
            "\n",
            "Where the projections are parameter matrices W Q and W O ∈ Rhdv×dmodel. i ∈ Rdmodel×dk, W K i ∈ Rdmodel×dk, W V i ∈ Rdmodel×dv\n",
            "\n",
            "In this work we employ h = 8 parallel attention layers, or heads. For each of these we use dk = dv = dmodel/h = 64. Due to the reduced dimension of each head, the total computational cost is similar to that of single-head attention with full dimensionality.\n",
            "\n",
            "3.2.3 Applications of Attention in our Model\n",
            "\n",
            "The Transformer uses multi-head attention in three different ways:\n",
            "\n",
            "• In \"encoder-decoder attention\" layers, the queries come from the previous decoder layer, and the memory keys and values come from the output of the encoder. This allows every position in the decoder to attend over all positions in the input sequence. This mimics the typical encoder-decoder attention mechanisms in sequence-to-sequence models such as [38, 2, 9].\n",
            "\n",
            "• The encoder contains self-attention layers. In a self-attention layer all of the keys, values and queries come from the same place, in this case, the output of the previous layer in the encoder. Each position in the encoder can attend to all positions in the previous layer of the encoder.\n",
            "\n",
            "• Similarly, self-attention layers in the decoder allow each position in the decoder to attend to all positions in the decoder up to and including that position. We need to prevent leftward information flow in the decoder to preserve the auto-regressive property. We implement this inside of scaled dot-product attention by masking out (setting to −∞) all values in the input of the softmax which correspond to illegal connections. See Figure 2.\n",
            "\n",
            "--------------------------------------------------------------------------------\n",
            "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\n",
            "\n",
            "--------------------------------------------------------------------------------\n",
            "[36] Christian Szegedy, Vincent Vanhoucke, Sergey Ioffe, Jonathon Shlens, and Zbigniew Wojna. Rethinking the inception architecture for computer vision. CoRR, abs/1512.00567, 2015.\n",
            "\n",
            "[37] Vinyals & Kaiser, Koo, Petrov, Sutskever, and Hinton. Grammar as a foreign language. In Advances in Neural Information Processing Systems, 2015.\n",
            "\n",
            "[38] Yonghui Wu, Mike Schuster, Zhifeng Chen, Quoc V Le, Mohammad Norouzi, Wolfgang Macherey, Maxim Krikun, Yuan Cao, Qin Gao, Klaus Macherey, et al. Google’s neural machine translation system: Bridging the gap between human and machine translation. arXiv preprint arXiv:1609.08144, 2016.\n",
            "\n",
            "[39] Jie Zhou, Ying Cao, Xuguang Wang, Peng Li, and Wei Xu. Deep recurrent models with fast-forward connections for neural machine translation. CoRR, abs/1606.04199, 2016.\n",
            "\n",
            "[40] Muhua Zhu, Yue Zhang, Wenliang Chen, Min Zhang, and Jingbo Zhu. Fast and accurate shift-reduce constituent parsing. In Proceedings of the 51st Annual Meeting of the ACL (Volume 1: Long Papers), pages 434–443. ACL, August 2013.\n",
            "\n",
            "12\n",
            "\n",
            "Attention Visualizations\n",
            "\n",
            "2 c c< gE 3 2 ® 2 = = gc 3 2 &£ 2s 3 BaARAAAA fF. oS GS L28s eH 8BQxR Q €oe2s ozesyuTes 2ea8 T_ FFSREH8TZESHBOP_,SSSE DSsSSSES ~2£F$€voFEnvFESCRCoecacKRGNESLSESSCEC -vVvVVVVV Hv over Boepgqecxuos QKXRDLXE EON “A AANARAAA SPesewe Fog ese ss ss ess 5 PB HSBsgaas Sa 5 SESEHSRBESDS s 2 8 oes aaa oO 2 = on aN G o ° ao09000 0 © OE @ £ £ > 9 wUvvvvVvV Vv & ge oO 2 a v <8 8 & ||\n",
            "\n",
            "Figure 3: An example of the attention mechanism following long-distance dependencies in the encoder self-attention in layer 5 of 6. Many of the attention heads attend to a distant dependency of the verb ‘making’, completing the phrase ‘making...more difficult’. Attentions here shown only for the word ‘making’. Different colors represent different heads. Best viewed in color.\n",
            "\n",
            "13\n",
            "\n",
            "<ped> <ped> <SOa> — 70” UOIUIdO == = uoluldo Aw — Aw ul ul Bulssiw Bulssiw ale « ae aM = aM yeum = yeum S| i S| sy si ysnf ysnf 3q° 3q Pinoys Pinoys uojeojdde Ss}! nq jopied 3q JO@AoU me) aul <ped> <SOa> uojuido Aw ul Bulssiw oe aM yeum S| su} ysnf 3q Pinoys uojeoydde si! ynq yooped 3q JOABU meq au <ped> <SOa> uoluldo Aw ul Bulssiw oe OM yeum S| Siu} ysnf 3q Pinoys uoyeodde si! ynq yooped 3q aul\n",
            "\n",
            "Figure 4: Two attention heads, also in layer 5 of 6, apparently involved in anaphora resolution. Top: Full attentions for head 5. Bottom: Isolated attentions from just the word ‘its’ for attention heads 5 and 6. Note that the attentions are very sharp for this word.\n",
            "\n",
            "14\n",
            "\n",
            "<ped> <ped> <SOS>\\ <SO4> uoluido = uoluido Aw Aw yeum S| sin ysn[— i} -ysn{ _—8q Pinoys“ pinoys uoieadde * uojeodde Ss}! S$}! | ya | ngs inq pooped pooped aq aq Janou™ JO@ABU HIM “TIM me) me) aul “OU\n",
            "\n",
            "<ped> <ped> so ————_<S0 UO|UIdO uoluldo Aw Aw ul ul Bulssiw Bulssiw ae ale aM am yeum yeum s| s| sty} # sly -— - a 3q 3q Pinoys « pinoys uoyjeoijdde ee Ss}! Ss}! inq ee popod oo ated 3q 3q JOABU JOABU IW IW rn aul aul\n",
            "\n",
            "Figure 5: Many of the attention heads exhibit behaviour that seems related to the structure of the sentence. We give two such examples above, from two different heads from the encoder self-attention at layer 5 of 6. The heads clearly learned to perform different tasks.\n",
            "\n",
            "15\n",
            "\n",
            "--------------------------------------------------------------------------------\n"
          ]
        }
      ],
      "source": [
        "for doc in docs:\n",
        "    print(str(doc) + \"\\n\\n\" + \"-\" * 80)"
      ]
    },
    {
      "cell_type": "markdown",
      "metadata": {
        "id": "xpklnB-H7lcT"
      },
      "source": [
        "# RAG pipeline"
      ]
    },
    {
      "cell_type": "code",
      "execution_count": null,
      "metadata": {
        "id": "J08liLjgM89z"
      },
      "outputs": [],
      "source": [
        "from langchain_core.runnables import RunnablePassthrough, RunnableLambda\n",
        "from langchain_core.messages import SystemMessage, HumanMessage\n",
        "from langchain_openai import ChatOpenAI\n",
        "from base64 import b64decode\n",
        "\n",
        "def parse_docs(docs):\n",
        "    \"\"\"Split base64-encoded images, tables (HTML), and texts\"\"\"\n",
        "    b64 = []\n",
        "    text = []\n",
        "    tables = []\n",
        "    for doc in docs:\n",
        "        try:\n",
        "            b64decode(doc)\n",
        "            b64.append(doc)\n",
        "        except Exception:\n",
        "            if isinstance(doc, str) and \"<table\" in doc:\n",
        "                tables.append(doc)\n",
        "            else:\n",
        "                text.append(doc)\n",
        "    return {\"images\": b64, \"texts\": text, \"tables\": tables}\n",
        "\n",
        "def build_prompt(kwargs):\n",
        "\n",
        "    docs_by_type = kwargs[\"context\"]\n",
        "    user_question = kwargs[\"question\"]\n",
        "\n",
        "    context_text = \"\"\n",
        "    if len(docs_by_type[\"texts\"]) > 0:\n",
        "        for text_element in docs_by_type[\"texts\"]:\n",
        "            context_text += text_element.text\n",
        "\n",
        "    # construct prompt with context (including images)\n",
        "    prompt_template = f\"\"\"\n",
        "    Answer the question based only on the following context, which can include text, table and the below image.\n",
        "    Context: {context_text}\n",
        "    Question: {user_question}\n",
        "    \"\"\"\n",
        "\n",
        "    prompt_content = [{\"type\": \"text\", \"text\": prompt_template}]\n",
        "\n",
        "    if len(docs_by_type[\"images\"]) > 0:\n",
        "        for image in docs_by_type[\"images\"]:\n",
        "            prompt_content.append(\n",
        "                {\n",
        "                    \"type\": \"image_url\",\n",
        "                    \"image_url\": {\"url\": f\"data:image/jpeg;base64,{image}\"},\n",
        "                }\n",
        "            )\n",
        "\n",
        "    return ChatPromptTemplate.from_messages(\n",
        "        [\n",
        "            HumanMessage(content=prompt_content),\n",
        "        ]\n",
        "    )\n",
        "\n",
        "\n",
        "chain = (\n",
        "    {\n",
        "        \"context\": retriever | RunnableLambda(parse_docs),\n",
        "        \"question\": RunnablePassthrough(),\n",
        "    }\n",
        "    | RunnableLambda(build_prompt)\n",
        "    | ChatOpenAI(model=\"gpt-4o-mini\")\n",
        "    | StrOutputParser()\n",
        ")\n",
        "\n",
        "chain_with_sources = {\n",
        "    \"context\": retriever | RunnableLambda(parse_docs),\n",
        "    \"question\": RunnablePassthrough(),\n",
        "} | RunnablePassthrough().assign(\n",
        "    response=(\n",
        "        RunnableLambda(build_prompt)\n",
        "        | ChatOpenAI(model=\"gpt-4o-mini\")\n",
        "        | StrOutputParser()\n",
        "    )\n",
        ")"
      ]
    },
    {
      "cell_type": "markdown",
      "metadata": {
        "id": "HN8xPlRR9GY7"
      },
      "source": [
        "## Question 1"
      ]
    },
    {
      "cell_type": "code",
      "execution_count": null,
      "metadata": {
        "colab": {
          "base_uri": "https://localhost:8080/",
          "height": 1000
        },
        "id": "AKK4e0TNjexz",
        "outputId": "ed73b1f3-822b-4599-e63d-10b2f6609419"
      },
      "outputs": [
        {
          "name": "stdout",
          "output_type": "stream",
          "text": [
            "Response: Transformer architecture is a model designed for processing sequential data, such as natural language. It consists of an encoder-decoder structure, where both the encoder and decoder each have multiple layers (Nx in the diagram). \n",
            "\n",
            "Key components include:\n",
            "\n",
            "1. **Multi-Head Attention:** This allows the model to focus on different parts of the input sequence simultaneously, enhancing its understanding of relationships within the data.\n",
            "\n",
            "2. **Feed Forward Networks:** Each layer contains a feed-forward neural network that processes the output of the attention mechanism.\n",
            "\n",
            "3. **Add & Norm:** This involves adding the input of a layer to its output (residual connection) and normalizing the results to stabilize training.\n",
            "\n",
            "4. **Positional Encoding:** Since transformers do not inherently understand the order of sequences, positional encodings are added to input embeddings to provide information about the position of each element in the sequence.\n",
            "\n",
            "5. **Output Probabilities:** After passing through the layers, a linear transformation and a softmax activation are applied to generate the final output probabilities.\n",
            "\n",
            "The architecture is characterized by parallel processing of sequences, allowing for efficient handling of large datasets.\n",
            "\n",
            "\n",
            "Context:\n"
          ]
        },
        {
          "data": {
            "image/jpeg": "[encoded data removed]",
            "text/plain": [
              "<IPython.core.display.Image object>"
            ]
          },
          "metadata": {},
          "output_type": "display_data"
        }
      ],
      "source": [
        "response = chain_with_sources.invoke(\n",
        "    \"What is transformer architecture?\"\n",
        ")\n",
        "\n",
        "print(\"Response:\", response['response'])\n",
        "\n",
        "print(\"\\n\\nContext:\")\n",
        "for text in response['context']['texts']:\n",
        "    print(text.text)\n",
        "    print(\"Page number: \", text.metadata.page_number)\n",
        "    print(\"\\n\" + \"-\"*50 + \"\\n\")\n",
        "for image in response['context']['images']:\n",
        "    display_base64_image(image)"
      ]
    },
    {
      "cell_type": "markdown",
      "metadata": {
        "id": "7PWT-hB99YoF"
      },
      "source": [
        "## Question 2"
      ]
    },
    {
      "cell_type": "code",
      "execution_count": null,
      "metadata": {
        "colab": {
          "base_uri": "https://localhost:8080/",
          "height": 1000
        },
        "id": "lv4YudK_53WC",
        "outputId": "88df37aa-773d-43c4-8a3f-bb4feb3a0804"
      },
      "outputs": [
        {
          "name": "stdout",
          "output_type": "stream",
          "text": [
            "Response: In the context of the diagram provided, k, q, and v refer to the following:\n",
            "\n",
            "- **K**: Keys\n",
            "- **Q**: Queries\n",
            "- **V**: Values \n",
            "\n",
            "These are components used in the Scaled Dot-Product Attention mechanism within neural network architectures, specifically in the context of tasks like natural language processing.\n",
            "\n",
            "\n",
            "Context:\n"
          ]
        },
        {
          "data": {
            "image/jpeg": "[encoded data removed]",
            "text/plain": [
              "<IPython.core.display.Image object>"
            ]
          },
          "metadata": {},
          "output_type": "display_data"
        },
        {
          "data": {
            "image/jpeg": "[encoded data removed]",
            "text/plain": [
              "<IPython.core.display.Image object>"
            ]
          },
          "metadata": {},
          "output_type": "display_data"
        }
      ],
      "source": [
        "response = chain_with_sources.invoke(\n",
        "    \"What is k, q, and v?\"\n",
        ")\n",
        "\n",
        "print(\"Response:\", response['response'])\n",
        "\n",
        "print(\"\\n\\nContext:\")\n",
        "for text in response['context']['texts']:\n",
        "    print(text.text)\n",
        "    print(\"Page number: \", text.metadata.page_number)\n",
        "    print(\"\\n\" + \"-\"*50 + \"\\n\")\n",
        "for image in response['context']['images']:\n",
        "    display_base64_image(image)"
      ]
    },
    {
      "cell_type": "markdown",
      "metadata": {
        "id": "Kax6d1r09bIK"
      },
      "source": [
        "## Question 3"
      ]
    },
    {
      "cell_type": "code",
      "execution_count": null,
      "metadata": {
        "colab": {
          "base_uri": "https://localhost:8080/",
          "height": 1000
        },
        "id": "D8W2o5pS53RG",
        "outputId": "18e1d3a5-54b5-4caf-8752-9b1f0c855841"
      },
      "outputs": [
        {
          "name": "stdout",
          "output_type": "stream",
          "text": [
            "Response: Scaled dot-product attention is a mechanism used in neural networks, particularly in transformer models, to compute attention scores between different inputs. It involves the following key steps:\n",
            "\n",
            "1. **Inputs**: It takes three matrices as inputs—queries (Q), keys (K), and values (V).\n",
            "2. **Dot Product**: It computes the dot product of the queries and keys to obtain attention scores.\n",
            "3. **Scaling**: The scores are scaled by dividing them by the square root of the dimension of the key vectors to prevent excessively large values that could affect the gradient during training.\n",
            "4. **Softmax**: A softmax function is applied to the scaled scores to obtain the attention weights, which indicate the relevance of each key to the corresponding query.\n",
            "5. **Weighted Sum**: Finally, the attention weights are used to compute a weighted sum of the values (V), producing the final output.\n",
            "\n",
            "This process allows the model to focus on different parts of the input data, improving its ability to handle complex tasks like language processing.\n",
            "\n",
            "\n",
            "Context:\n"
          ]
        },
        {
          "data": {
            "image/jpeg": "[encoded data removed]",
            "text/plain": [
              "<IPython.core.display.Image object>"
            ]
          },
          "metadata": {},
          "output_type": "display_data"
        },
        {
          "data": {
            "image/jpeg": "[encoded data removed]",
            "text/plain": [
              "<IPython.core.display.Image object>"
            ]
          },
          "metadata": {},
          "output_type": "display_data"
        }
      ],
      "source": [
        "response = chain_with_sources.invoke(\n",
        "    \"What is scaled dot product attention?\"\n",
        ")\n",
        "\n",
        "print(\"Response:\", response['response'])\n",
        "\n",
        "print(\"\\n\\nContext:\")\n",
        "for text in response['context']['texts']:\n",
        "    print(text.text)\n",
        "    print(\"Page number: \", text.metadata.page_number)\n",
        "    print(\"\\n\" + \"-\"*50 + \"\\n\")\n",
        "for image in response['context']['images']:\n",
        "    display_base64_image(image)"
      ]
    },
    {
      "cell_type": "markdown",
      "metadata": {
        "id": "r9vI3iFH9dnw"
      },
      "source": [
        "## Question 4"
      ]
    },
    {
      "cell_type": "code",
      "execution_count": null,
      "metadata": {
        "colab": {
          "base_uri": "https://localhost:8080/"
        },
        "id": "P4NgywBQ6yeD",
        "outputId": "02897a18-379b-434a-cfca-13d522bb0c3c"
      },
      "outputs": [
        {
          "name": "stdout",
          "output_type": "stream",
          "text": [
            "Response: The BLEU score of the ByteNet model is 23.75, and the BLEU score of the ConvS2S model is 25.16.\n",
            "\n",
            "\n",
            "Context:\n",
            "Model BLEU EN-DE EN-FR Training Cost (FLOPs) EN-DE EN-FR ByteNet [18] 23.75 Deep-Att + PosUnk [39] 39.2 1.0 · 1020 GNMT + RL [38] 24.6 39.92 2.3 · 1019 1.4 · 1020 ConvS2S [9] 25.16 40.46 9.6 · 1018 1.5 · 1020 MoE [32] 26.03 40.56 2.0 · 1019 1.2 · 1020 Deep-Att + PosUnk Ensemble [39] 40.4 8.0 · 1020 GNMT + RL Ensemble [38] 26.30 41.16 1.8 · 1020 1.1 · 1021 ConvS2S Ensemble [9] 26.36 41.29 7.7 · 1019 1.2 · 1021 Transformer (base model) 27.3 38.1 3.3 · 1018 Transformer (big) 28.4 41.8 2.3 · 1019\n",
            "Page number:  8\n",
            "\n",
            "--------------------------------------------------\n",
            "\n",
            "6 Results\n",
            "\n",
            "6.1 Machine Translation\n",
            "\n",
            "On the WMT 2014 English-to-German translation task, the big transformer model (Transformer (big) in Table 2) outperforms the best previously reported models (including ensembles) by more than 2.0 BLEU, establishing a new state-of-the-art BLEU score of 28.4. The configuration of this model is listed in the bottom line of Table 3. Training took 3.5 days on 8 P100 GPUs. Even our base model surpasses all previously published models and ensembles, at a fraction of the training cost of any of the competitive models.\n",
            "\n",
            "On the WMT 2014 English-to-French translation task, our big model achieves a BLEU score of 41.0, outperforming all of the previously published single models, at less than 1/4 the training cost of the previous state-of-the-art model. The Transformer (big) model trained for English-to-French used dropout rate Pdrop = 0.1, instead of 0.3.\n",
            "\n",
            "For the base models, we used a single model obtained by averaging the last 5 checkpoints, which were written at 10-minute intervals. For the big models, we averaged the last 20 checkpoints. We used beam search with a beam size of 4 and length penalty α = 0.6 [38]. These hyperparameters were chosen after experimentation on the development set. We set the maximum output length during inference to input length + 50, but terminate early when possible [38].\n",
            "\n",
            "Table 2 summarizes our results and compares our translation quality and training costs to other model architectures from the literature. We estimate the number of floating point operations used to train a model by multiplying the training time, the number of GPUs used, and an estimate of the sustained single-precision floating-point capacity of each GPU 5.\n",
            "\n",
            "6.2 Model Variations\n",
            "\n",
            "To evaluate the importance of different components of the Transformer, we varied our base model in different ways, measuring the change in performance on English-to-German translation on the\n",
            "\n",
            "5We used values of 2.8, 3.7, 6.0 and 9.5 TFLOPS for K80, K40, M40 and P100, respectively.\n",
            "\n",
            "8\n",
            "\n",
            "Table 3: Variations on the Transformer architecture. Unlisted values are identical to those of the base model. All metrics are on the English-to-German translation development set, newstest2013. Listed perplexities are per-wordpiece, according to our byte-pair encoding, and should not be compared to per-word perplexities.\n",
            "\n",
            "N dmodel dff h dk dv Pdrop ϵls train steps PPL (dev) BLEU params (dev) ×106 base 6 512 2048 8 64 64 0.1 0.1 100K 4.92 25.8 65 1 512 512 5.29 24.9 (A) 4 16 128 32 128 32 5.00 4.91 25.5 25.8 32 16 16 5.01 25.4 (B) 16 32 5.16 5.01 25.1 25.4 58 60 2 6.11 23.7 36 4 5.19 25.3 50 8 4.88 25.5 80 (C) 256 32 32 5.75 24.5 28 1024 128 128 4.66 26.0 168 1024 5.12 25.4 53 4096 4.75 26.2 90 0.0 5.77 24.6 (D) 0.2 0.0 4.95 4.67 25.5 25.3 0.2 5.47 25.7 (E) positional embedding instead of sinusoids 4.92 25.7\n",
            "Page number:  8\n",
            "\n",
            "--------------------------------------------------\n",
            "\n",
            "5 Training\n",
            "\n",
            "This section describes the training regime for our models.\n",
            "\n",
            "5.1 Training Data and Batching\n",
            "\n",
            "We trained on the standard WMT 2014 English-German dataset consisting of about 4.5 million sentence pairs. Sentences were encoded using byte-pair encoding [3], which has a shared source- target vocabulary of about 37000 tokens. For English-French, we used the significantly larger WMT 2014 English-French dataset consisting of 36M sentences and split tokens into a 32000 word-piece vocabulary [38]. Sentence pairs were batched together by approximate sequence length. Each training batch contained a set of sentence pairs containing approximately 25000 source tokens and 25000 target tokens.\n",
            "\n",
            "5.2 Hardware and Schedule\n",
            "\n",
            "We trained our models on one machine with 8 NVIDIA P100 GPUs. For our base models using the hyperparameters described throughout the paper, each training step took about 0.4 seconds. We trained the base models for a total of 100,000 steps or 12 hours. For our big models,(described on the bottom line of table 3), step time was 1.0 seconds. The big models were trained for 300,000 steps (3.5 days).\n",
            "\n",
            "5.3 Optimizer\n",
            "\n",
            "We used the Adam optimizer [20] with β1 = 0.9, β2 = 0.98 and ϵ = 10−9. We varied the learning rate over the course of training, according to the formula:\n",
            "\n",
            "lrate = d−0.5 model · min(step_num−0.5,step_num · warmup_steps−1.5) (3)\n",
            "\n",
            "This corresponds to increasing the learning rate linearly for the first warmup_steps training steps, and decreasing it thereafter proportionally to the inverse square root of the step number. We used warmup_steps = 4000.\n",
            "\n",
            "5.4 Regularization\n",
            "\n",
            "We employ three types of regularization during training:\n",
            "\n",
            "7\n",
            "\n",
            "Table 2: The Transformer achieves better BLEU scores than previous state-of-the-art models on the English-to-German and English-to-French newstest2014 tests at a fraction of the training cost.\n",
            "\n",
            "Model BLEU EN-DE EN-FR Training Cost (FLOPs) EN-DE EN-FR ByteNet [18] 23.75 Deep-Att + PosUnk [39] 39.2 1.0 · 1020 GNMT + RL [38] 24.6 39.92 2.3 · 1019 1.4 · 1020 ConvS2S [9] 25.16 40.46 9.6 · 1018 1.5 · 1020 MoE [32] 26.03 40.56 2.0 · 1019 1.2 · 1020 Deep-Att + PosUnk Ensemble [39] 40.4 8.0 · 1020 GNMT + RL Ensemble [38] 26.30 41.16 1.8 · 1020 1.1 · 1021 ConvS2S Ensemble [9] 26.36 41.29 7.7 · 1019 1.2 · 1021 Transformer (base model) 27.3 38.1 3.3 · 1018 Transformer (big) 28.4 41.8 2.3 · 1019\n",
            "\n",
            "Residual Dropout We apply dropout [33] to the output of each sub-layer, before it is added to the sub-layer input and normalized. In addition, we apply dropout to the sums of the embeddings and the positional encodings in both the encoder and decoder stacks. For the base model, we use a rate of Pdrop = 0.1.\n",
            "\n",
            "Label Smoothing During training, we employed label smoothing of value ϵls = 0.1 [36]. This hurts perplexity, as the model learns to be more unsure, but improves accuracy and BLEU score.\n",
            "Page number:  7\n",
            "\n",
            "--------------------------------------------------\n",
            "\n",
            "3\n",
            "\n",
            "2023\n",
            "\n",
            "2\n",
            "\n",
            "0\n",
            "\n",
            "2\n",
            "\n",
            "g u A 2 ] L C . s c [ 7 v 2 6 7 3 0 . 6 0\n",
            "\n",
            "7\n",
            "\n",
            "1\n",
            "\n",
            ":\n",
            "\n",
            "v\n",
            "\n",
            "arXiv\n",
            "\n",
            "i\n",
            "\n",
            "X\n",
            "\n",
            "r\n",
            "\n",
            "a\n",
            "\n",
            "Provided proper attribution is provided, Google hereby grants permission to reproduce the tables and figures in this paper solely for use in journalistic or scholarly works.\n",
            "\n",
            "Attention Is All You Need\n",
            "\n",
            "Ashish Vaswani∗\n",
            "\n",
            "Google Brain\n",
            "\n",
            "avaswani@google.com\n",
            "\n",
            "Noam Shazeer∗ Google Brain noam@google.com\n",
            "\n",
            "Niki Parmar∗ Google Research nikip@google.com\n",
            "\n",
            "Jakob Uszkoreit∗\n",
            "\n",
            "Google Research usz@google.com\n",
            "\n",
            "Llion Jones∗\n",
            "\n",
            "Google Research llion@google.com\n",
            "\n",
            "Aidan N. Gomez∗ † University of Toronto aidan@cs.toronto.edu\n",
            "\n",
            "Łukasz Kaiser∗ Google Brain lukaszkaiser@google.com\n",
            "\n",
            "Illia Polosukhin∗ ‡\n",
            "\n",
            "illia.polosukhin@gmail.com\n",
            "\n",
            "Abstract\n",
            "\n",
            "The dominant sequence transduction models are based on complex recurrent or convolutional neural networks that include an encoder and a decoder. The best performing models also connect the encoder and decoder through an attention mechanism. We propose a new simple network architecture, the Transformer, based solely on attention mechanisms, dispensing with recurrence and convolutions entirely. Experiments on two machine translation tasks show these models to be superior in quality while being more parallelizable and requiring significantly less time to train. Our model achieves 28.4 BLEU on the WMT 2014 English- to-German translation task, improving over the existing best results, including ensembles, by over 2 BLEU. On the WMT 2014 English-to-French translation task, our model establishes a new single-model state-of-the-art BLEU score of 41.8 after training for 3.5 days on eight GPUs, a small fraction of the training costs of the best models from the literature. We show that the Transformer generalizes well to other tasks by applying it successfully to English constituency parsing both with large and limited training data.\n",
            "\n",
            "∗Equal contribution. Listing order is random. Jakob proposed replacing RNNs with self-attention and started the effort to evaluate this idea. Ashish, with Illia, designed and implemented the first Transformer models and has been crucially involved in every aspect of this work. Noam proposed scaled dot-product attention, multi-head attention and the parameter-free position representation and became the other person involved in nearly every detail. Niki designed, implemented, tuned and evaluated countless model variants in our original codebase and tensor2tensor. Llion also experimented with novel model variants, was responsible for our initial codebase, and efficient inference and visualizations. Lukasz and Aidan spent countless long days designing various parts of and implementing tensor2tensor, replacing our earlier codebase, greatly improving results and massively accelerating our research.\n",
            "\n",
            "†Work performed while at Google Brain.\n",
            "\n",
            "‡Work performed while at Google Research.\n",
            "\n",
            "31st Conference on Neural Information Processing Systems (NIPS 2017), Long Beach, CA, USA.\n",
            "Page number:  1\n",
            "\n",
            "--------------------------------------------------\n",
            "\n"
          ]
        }
      ],
      "source": [
        "response = chain_with_sources.invoke(\n",
        "    \"What is BLEU score of ByteNet model and ConvS2S model?\"\n",
        ")\n",
        "\n",
        "print(\"Response:\", response['response'])\n",
        "\n",
        "print(\"\\n\\nContext:\")\n",
        "for text in response['context']['texts']:\n",
        "    print(text.text)\n",
        "    print(\"Page number: \", text.metadata.page_number)\n",
        "    print(\"\\n\" + \"-\"*50 + \"\\n\")\n",
        "for image in response['context']['images']:\n",
        "    display_base64_image(image)\n",
        "for table_html in response['context']['tables']:\n",
        "  display_html_table(table_html)"
      ]
    },
    {
      "cell_type": "markdown",
      "metadata": {
        "id": "Q0GxM4u19gXq"
      },
      "source": [
        "## Question 5"
      ]
    },
    {
      "cell_type": "code",
      "execution_count": null,
      "metadata": {
        "colab": {
          "base_uri": "https://localhost:8080/"
        },
        "id": "xPpRd0ooPK79",
        "outputId": "a8746cf5-ba8a-4c64-ca31-a3673e330a3e"
      },
      "outputs": [
        {
          "name": "stdout",
          "output_type": "stream",
          "text": [
            "Response: The parser with the highest score is the Dyer et al. (2016) [8] generative parser, which has a score of 93.3.\n",
            "\n",
            "\n",
            "Context:\n",
            "Parser Training WSJ 23 F1 Vinyals & Kaiser el al. (2014) [37] WSJ only, discriminative 88.3 Petrov et al. (2006) [29] WSJ only, discriminative 90.4 Zhu et al. (2013) [40] WSJ only, discriminative 90.4 Dyer et al. (2016) [8] WSJ only, discriminative 91.7 Transformer (4 layers) WSJ only, discriminative 91.3 Zhu et al. (2013) [40] semi-supervised 91.3 Huang & Harper (2009) [14] semi-supervised 91.3 McClosky et al. (2006) [26] semi-supervised 92.1 Vinyals & Kaiser el al. (2014) [37] semi-supervised 92.1 Transformer (4 layers) semi-supervised 92.7 Luong et al. (2015) [23] multi-task 93.0 Dyer et al. (2016) [8] generative 93.3\n",
            "Page number:  10\n",
            "\n",
            "--------------------------------------------------\n",
            "\n",
            "big\n",
            "\n",
            "6\n",
            "\n",
            "1024\n",
            "\n",
            "4096\n",
            "\n",
            "16\n",
            "\n",
            "0.3\n",
            "\n",
            "300K 4.33\n",
            "\n",
            "26.4\n",
            "\n",
            "development set, newstest2013. We used beam search as described in the previous section, but no checkpoint averaging. We present these results in Table 3.\n",
            "\n",
            "In Table 3 rows (A), we vary the number of attention heads and the attention key and value dimensions, keeping the amount of computation constant, as described in Section 3.2.2. While single-head attention is 0.9 BLEU worse than the best setting, quality also drops off with too many heads.\n",
            "\n",
            "In Table 3 rows (B), we observe that reducing the attention key size dk hurts model quality. This suggests that determining compatibility is not easy and that a more sophisticated compatibility function than dot product may be beneficial. We further observe in rows (C) and (D) that, as expected, bigger models are better, and dropout is very helpful in avoiding over-fitting. In row (E) we replace our sinusoidal positional encoding with learned positional embeddings [9], and observe nearly identical results to the base model.\n",
            "\n",
            "6.3 English Constituency Parsing\n",
            "\n",
            "To evaluate if the Transformer can generalize to other tasks we performed experiments on English constituency parsing. This task presents specific challenges: the output is subject to strong structural constraints and is significantly longer than the input. Furthermore, RNN sequence-to-sequence models have not been able to attain state-of-the-art results in small-data regimes [37].\n",
            "\n",
            "We trained a 4-layer transformer with dmodel = 1024 on the Wall Street Journal (WSJ) portion of the Penn Treebank [25], about 40K training sentences. We also trained it in a semi-supervised setting, using the larger high-confidence and BerkleyParser corpora from with approximately 17M sentences [37]. We used a vocabulary of 16K tokens for the WSJ only setting and a vocabulary of 32K tokens for the semi-supervised setting.\n",
            "\n",
            "We performed only a small number of experiments to select the dropout, both attention and residual (section 5.4), learning rates and beam size on the Section 22 development set, all other parameters remained unchanged from the English-to-German base translation model. During inference, we\n",
            "\n",
            "9\n",
            "\n",
            "213\n",
            "\n",
            "Table 4: The Transformer generalizes well to English constituency parsing (Results are on Section 23 of WSJ)\n",
            "\n",
            "Parser Training WSJ 23 F1 Vinyals & Kaiser el al. (2014) [37] WSJ only, discriminative 88.3 Petrov et al. (2006) [29] WSJ only, discriminative 90.4 Zhu et al. (2013) [40] WSJ only, discriminative 90.4 Dyer et al. (2016) [8] WSJ only, discriminative 91.7 Transformer (4 layers) WSJ only, discriminative 91.3 Zhu et al. (2013) [40] semi-supervised 91.3 Huang & Harper (2009) [14] semi-supervised 91.3 McClosky et al. (2006) [26] semi-supervised 92.1 Vinyals & Kaiser el al. (2014) [37] semi-supervised 92.1 Transformer (4 layers) semi-supervised 92.7 Luong et al. (2015) [23] multi-task 93.0 Dyer et al. (2016) [8] generative 93.3\n",
            "\n",
            "increased the maximum output length to input length + 300. We used a beam size of 21 and α = 0.3 for both WSJ only and the semi-supervised setting.\n",
            "\n",
            "Our results in Table 4 show that despite the lack of task-specific tuning our model performs sur- prisingly well, yielding better results than all previously reported models with the exception of the Recurrent Neural Network Grammar [8].\n",
            "\n",
            "In contrast to RNN sequence-to-sequence models [37], the Transformer outperforms the Berkeley- Parser [29] even when training only on the WSJ training set of 40K sentences.\n",
            "Page number:  9\n",
            "\n",
            "--------------------------------------------------\n",
            "\n",
            "N dmodel dff h dk dv Pdrop ϵls train steps PPL (dev) BLEU params (dev) ×106 base 6 512 2048 8 64 64 0.1 0.1 100K 4.92 25.8 65 1 512 512 5.29 24.9 (A) 4 16 128 32 128 32 5.00 4.91 25.5 25.8 32 16 16 5.01 25.4 (B) 16 32 5.16 5.01 25.1 25.4 58 60 2 6.11 23.7 36 4 5.19 25.3 50 8 4.88 25.5 80 (C) 256 32 32 5.75 24.5 28 1024 128 128 4.66 26.0 168 1024 5.12 25.4 53 4096 4.75 26.2 90 0.0 5.77 24.6 (D) 0.2 0.0 4.95 4.67 25.5 25.3 0.2 5.47 25.7 (E) positional embedding instead of sinusoids 4.92 25.7\n",
            "Page number:  9\n",
            "\n",
            "--------------------------------------------------\n",
            "\n",
            "Model BLEU EN-DE EN-FR Training Cost (FLOPs) EN-DE EN-FR ByteNet [18] 23.75 Deep-Att + PosUnk [39] 39.2 1.0 · 1020 GNMT + RL [38] 24.6 39.92 2.3 · 1019 1.4 · 1020 ConvS2S [9] 25.16 40.46 9.6 · 1018 1.5 · 1020 MoE [32] 26.03 40.56 2.0 · 1019 1.2 · 1020 Deep-Att + PosUnk Ensemble [39] 40.4 8.0 · 1020 GNMT + RL Ensemble [38] 26.30 41.16 1.8 · 1020 1.1 · 1021 ConvS2S Ensemble [9] 26.36 41.29 7.7 · 1019 1.2 · 1021 Transformer (base model) 27.3 38.1 3.3 · 1018 Transformer (big) 28.4 41.8 2.3 · 1019\n",
            "Page number:  8\n",
            "\n",
            "--------------------------------------------------\n",
            "\n"
          ]
        }
      ],
      "source": [
        "response = chain_with_sources.invoke(\n",
        "    \"Which parser has the highest score? Also mention the score.\"\n",
        ")\n",
        "\n",
        "print(\"Response:\", response['response'])\n",
        "\n",
        "print(\"\\n\\nContext:\")\n",
        "for text in response['context']['texts']:\n",
        "    print(text.text)\n",
        "    print(\"Page number: \", getattr(text.metadata, 'page_number', 'N/A'))\n",
        "    print(\"\\n\" + \"-\"*50 + \"\\n\")\n",
        "for image in response['context']['images']:\n",
        "    display_base64_image(image)\n"
      ]
    },
    {
      "cell_type": "markdown",
      "metadata": {
        "id": "-LYw4D1S8dFJ"
      },
      "source": [
        "# Langsmith vector store and one question answer"
      ]
    }
  ],
  "metadata": {
    "colab": {
      "provenance": []
    },
    "kernelspec": {
      "display_name": "Python 3",
      "name": "python3"
    },
    "language_info": {
      "name": "python"
    },
    "widgets": {
      "application/vnd.jupyter.widget-state+json": {
        "081e435a13af4ffe8f44062465669dc7": {
          "model_module": "@jupyter-widgets/controls",
          "model_module_version": "1.5.0",
          "model_name": "DescriptionStyleModel",
          "state": {
            "_model_module": "@jupyter-widgets/controls",
            "_model_module_version": "1.5.0",
            "_model_name": "DescriptionStyleModel",
            "_view_count": null,
            "_view_module": "@jupyter-widgets/base",
            "_view_module_version": "1.2.0",
            "_view_name": "StyleView",
            "description_width": ""
          }
        },
        "0d71c7d42e5e465e8e096ff5d05e070d": {
          "model_module": "@jupyter-widgets/controls",
          "model_module_version": "1.5.0",
          "model_name": "HTMLModel",
          "state": {
            "_dom_classes": [],
            "_model_module": "@jupyter-widgets/controls",
            "_model_module_version": "1.5.0",
            "_model_name": "HTMLModel",
            "_view_count": null,
            "_view_module": "@jupyter-widgets/controls",
            "_view_module_version": "1.5.0",
            "_view_name": "HTMLView",
            "description": "",
            "description_tooltip": null,
            "layout": "IPY_MODEL_bb86c7361c9c4d998f7655c4eb6dfa27",
            "placeholder": "​",
            "style": "IPY_MODEL_70003da89a224cd6bef3cddb0dd97872",
            "value": " 46.8M/46.8M [00:00&lt;00:00, 170MB/s]"
          }
        },
        "103307e22b5c41c2a9dacaac74e07792": {
          "model_module": "@jupyter-widgets/controls",
          "model_module_version": "1.5.0",
          "model_name": "HTMLModel",
          "state": {
            "_dom_classes": [],
            "_model_module": "@jupyter-widgets/controls",
            "_model_module_version": "1.5.0",
            "_model_name": "HTMLModel",
            "_view_count": null,
            "_view_module": "@jupyter-widgets/controls",
            "_view_module_version": "1.5.0",
            "_view_name": "HTMLView",
            "description": "",
            "description_tooltip": null,
            "layout": "IPY_MODEL_8adbb7b3ae1042cfaa21c00f5fe1626a",
            "placeholder": "​",
            "style": "IPY_MODEL_4310f81a2eee433ebc0a3361fd53e123",
            "value": "config.json: 100%"
          }
        },
        "16d37e43232746319c9e047ecc1a0fc9": {
          "model_module": "@jupyter-widgets/controls",
          "model_module_version": "1.5.0",
          "model_name": "DescriptionStyleModel",
          "state": {
            "_model_module": "@jupyter-widgets/controls",
            "_model_module_version": "1.5.0",
            "_model_name": "DescriptionStyleModel",
            "_view_count": null,
            "_view_module": "@jupyter-widgets/base",
            "_view_module_version": "1.2.0",
            "_view_name": "StyleView",
            "description_width": ""
          }
        },
        "188950153f70433692118066065d1708": {
          "model_module": "@jupyter-widgets/controls",
          "model_module_version": "1.5.0",
          "model_name": "FloatProgressModel",
          "state": {
            "_dom_classes": [],
            "_model_module": "@jupyter-widgets/controls",
            "_model_module_version": "1.5.0",
            "_model_name": "FloatProgressModel",
            "_view_count": null,
            "_view_module": "@jupyter-widgets/controls",
            "_view_module_version": "1.5.0",
            "_view_name": "ProgressView",
            "bar_style": "success",
            "description": "",
            "description_tooltip": null,
            "layout": "IPY_MODEL_3d2c1418fdf748dcbb3b27e84cd32e5e",
            "max": 216625723,
            "min": 0,
            "orientation": "horizontal",
            "style": "IPY_MODEL_fa737c9c4ef6453f87219f2eb6732cff",
            "value": 216625723
          }
        },
        "1be1ce51d1f84518834544e4bc6fde51": {
          "model_module": "@jupyter-widgets/controls",
          "model_module_version": "1.5.0",
          "model_name": "HTMLModel",
          "state": {
            "_dom_classes": [],
            "_model_module": "@jupyter-widgets/controls",
            "_model_module_version": "1.5.0",
            "_model_name": "HTMLModel",
            "_view_count": null,
            "_view_module": "@jupyter-widgets/controls",
            "_view_module_version": "1.5.0",
            "_view_name": "HTMLView",
            "description": "",
            "description_tooltip": null,
            "layout": "IPY_MODEL_b79bb05353ed41728c82381b1c312bf5",
            "placeholder": "​",
            "style": "IPY_MODEL_081e435a13af4ffe8f44062465669dc7",
            "value": "preprocessor_config.json: 100%"
          }
        },
        "1ed964d2d396446583bcc59a610a408b": {
          "model_module": "@jupyter-widgets/base",
          "model_module_version": "1.2.0",
          "model_name": "LayoutModel",
          "state": {
            "_model_module": "@jupyter-widgets/base",
            "_model_module_version": "1.2.0",
            "_model_name": "LayoutModel",
            "_view_count": null,
            "_view_module": "@jupyter-widgets/base",
            "_view_module_version": "1.2.0",
            "_view_name": "LayoutView",
            "align_content": null,
            "align_items": null,
            "align_self": null,
            "border": null,
            "bottom": null,
            "display": null,
            "flex": null,
            "flex_flow": null,
            "grid_area": null,
            "grid_auto_columns": null,
            "grid_auto_flow": null,
            "grid_auto_rows": null,
            "grid_column": null,
            "grid_gap": null,
            "grid_row": null,
            "grid_template_areas": null,
            "grid_template_columns": null,
            "grid_template_rows": null,
            "height": null,
            "justify_content": null,
            "justify_items": null,
            "left": null,
            "margin": null,
            "max_height": null,
            "max_width": null,
            "min_height": null,
            "min_width": null,
            "object_fit": null,
            "object_position": null,
            "order": null,
            "overflow": null,
            "overflow_x": null,
            "overflow_y": null,
            "padding": null,
            "right": null,
            "top": null,
            "visibility": null,
            "width": null
          }
        },
        "373c2010df704b5f86abe7b257e5dc03": {
          "model_module": "@jupyter-widgets/base",
          "model_module_version": "1.2.0",
          "model_name": "LayoutModel",
          "state": {
            "_model_module": "@jupyter-widgets/base",
            "_model_module_version": "1.2.0",
            "_model_name": "LayoutModel",
            "_view_count": null,
            "_view_module": "@jupyter-widgets/base",
            "_view_module_version": "1.2.0",
            "_view_name": "LayoutView",
            "align_content": null,
            "align_items": null,
            "align_self": null,
            "border": null,
            "bottom": null,
            "display": null,
            "flex": null,
            "flex_flow": null,
            "grid_area": null,
            "grid_auto_columns": null,
            "grid_auto_flow": null,
            "grid_auto_rows": null,
            "grid_column": null,
            "grid_gap": null,
            "grid_row": null,
            "grid_template_areas": null,
            "grid_template_columns": null,
            "grid_template_rows": null,
            "height": null,
            "justify_content": null,
            "justify_items": null,
            "left": null,
            "margin": null,
            "max_height": null,
            "max_width": null,
            "min_height": null,
            "min_width": null,
            "object_fit": null,
            "object_position": null,
            "order": null,
            "overflow": null,
            "overflow_x": null,
            "overflow_y": null,
            "padding": null,
            "right": null,
            "top": null,
            "visibility": null,
            "width": null
          }
        },
        "385083424d3a4e9fa3778080f2acaf5f": {
          "model_module": "@jupyter-widgets/base",
          "model_module_version": "1.2.0",
          "model_name": "LayoutModel",
          "state": {
            "_model_module": "@jupyter-widgets/base",
            "_model_module_version": "1.2.0",
            "_model_name": "LayoutModel",
            "_view_count": null,
            "_view_module": "@jupyter-widgets/base",
            "_view_module_version": "1.2.0",
            "_view_name": "LayoutView",
            "align_content": null,
            "align_items": null,
            "align_self": null,
            "border": null,
            "bottom": null,
            "display": null,
            "flex": null,
            "flex_flow": null,
            "grid_area": null,
            "grid_auto_columns": null,
            "grid_auto_flow": null,
            "grid_auto_rows": null,
            "grid_column": null,
            "grid_gap": null,
            "grid_row": null,
            "grid_template_areas": null,
            "grid_template_columns": null,
            "grid_template_rows": null,
            "height": null,
            "justify_content": null,
            "justify_items": null,
            "left": null,
            "margin": null,
            "max_height": null,
            "max_width": null,
            "min_height": null,
            "min_width": null,
            "object_fit": null,
            "object_position": null,
            "order": null,
            "overflow": null,
            "overflow_x": null,
            "overflow_y": null,
            "padding": null,
            "right": null,
            "top": null,
            "visibility": null,
            "width": null
          }
        },
        "3ce6d18972ab48b498412795662b2af7": {
          "model_module": "@jupyter-widgets/controls",
          "model_module_version": "1.5.0",
          "model_name": "DescriptionStyleModel",
          "state": {
            "_model_module": "@jupyter-widgets/controls",
            "_model_module_version": "1.5.0",
            "_model_name": "DescriptionStyleModel",
            "_view_count": null,
            "_view_module": "@jupyter-widgets/base",
            "_view_module_version": "1.2.0",
            "_view_name": "StyleView",
            "description_width": ""
          }
        },
        "3d2c1418fdf748dcbb3b27e84cd32e5e": {
          "model_module": "@jupyter-widgets/base",
          "model_module_version": "1.2.0",
          "model_name": "LayoutModel",
          "state": {
            "_model_module": "@jupyter-widgets/base",
            "_model_module_version": "1.2.0",
            "_model_name": "LayoutModel",
            "_view_count": null,
            "_view_module": "@jupyter-widgets/base",
            "_view_module_version": "1.2.0",
            "_view_name": "LayoutView",
            "align_content": null,
            "align_items": null,
            "align_self": null,
            "border": null,
            "bottom": null,
            "display": null,
            "flex": null,
            "flex_flow": null,
            "grid_area": null,
            "grid_auto_columns": null,
            "grid_auto_flow": null,
            "grid_auto_rows": null,
            "grid_column": null,
            "grid_gap": null,
            "grid_row": null,
            "grid_template_areas": null,
            "grid_template_columns": null,
            "grid_template_rows": null,
            "height": null,
            "justify_content": null,
            "justify_items": null,
            "left": null,
            "margin": null,
            "max_height": null,
            "max_width": null,
            "min_height": null,
            "min_width": null,
            "object_fit": null,
            "object_position": null,
            "order": null,
            "overflow": null,
            "overflow_x": null,
            "overflow_y": null,
            "padding": null,
            "right": null,
            "top": null,
            "visibility": null,
            "width": null
          }
        },
        "3f5313dd6706453b9f3b893803e2d5bf": {
          "model_module": "@jupyter-widgets/controls",
          "model_module_version": "1.5.0",
          "model_name": "HTMLModel",
          "state": {
            "_dom_classes": [],
            "_model_module": "@jupyter-widgets/controls",
            "_model_module_version": "1.5.0",
            "_model_name": "HTMLModel",
            "_view_count": null,
            "_view_module": "@jupyter-widgets/controls",
            "_view_module_version": "1.5.0",
            "_view_name": "HTMLView",
            "description": "",
            "description_tooltip": null,
            "layout": "IPY_MODEL_5f241736987b44728098ede535cb36ea",
            "placeholder": "​",
            "style": "IPY_MODEL_a4c93a8da4b247b8b8ee9af642826761",
            "value": " 217M/217M [00:01&lt;00:00, 174MB/s]"
          }
        },
        "4310f81a2eee433ebc0a3361fd53e123": {
          "model_module": "@jupyter-widgets/controls",
          "model_module_version": "1.5.0",
          "model_name": "DescriptionStyleModel",
          "state": {
            "_model_module": "@jupyter-widgets/controls",
            "_model_module_version": "1.5.0",
            "_model_name": "DescriptionStyleModel",
            "_view_count": null,
            "_view_module": "@jupyter-widgets/base",
            "_view_module_version": "1.2.0",
            "_view_name": "StyleView",
            "description_width": ""
          }
        },
        "4842320fb38f492b900a07b7af541015": {
          "model_module": "@jupyter-widgets/base",
          "model_module_version": "1.2.0",
          "model_name": "LayoutModel",
          "state": {
            "_model_module": "@jupyter-widgets/base",
            "_model_module_version": "1.2.0",
            "_model_name": "LayoutModel",
            "_view_count": null,
            "_view_module": "@jupyter-widgets/base",
            "_view_module_version": "1.2.0",
            "_view_name": "LayoutView",
            "align_content": null,
            "align_items": null,
            "align_self": null,
            "border": null,
            "bottom": null,
            "display": null,
            "flex": null,
            "flex_flow": null,
            "grid_area": null,
            "grid_auto_columns": null,
            "grid_auto_flow": null,
            "grid_auto_rows": null,
            "grid_column": null,
            "grid_gap": null,
            "grid_row": null,
            "grid_template_areas": null,
            "grid_template_columns": null,
            "grid_template_rows": null,
            "height": null,
            "justify_content": null,
            "justify_items": null,
            "left": null,
            "margin": null,
            "max_height": null,
            "max_width": null,
            "min_height": null,
            "min_width": null,
            "object_fit": null,
            "object_position": null,
            "order": null,
            "overflow": null,
            "overflow_x": null,
            "overflow_y": null,
            "padding": null,
            "right": null,
            "top": null,
            "visibility": null,
            "width": null
          }
        },
        "50316fbb07f74844b45e01b63cedf18c": {
          "model_module": "@jupyter-widgets/controls",
          "model_module_version": "1.5.0",
          "model_name": "HBoxModel",
          "state": {
            "_dom_classes": [],
            "_model_module": "@jupyter-widgets/controls",
            "_model_module_version": "1.5.0",
            "_model_name": "HBoxModel",
            "_view_count": null,
            "_view_module": "@jupyter-widgets/controls",
            "_view_module_version": "1.5.0",
            "_view_name": "HBoxView",
            "box_style": "",
            "children": [
              "IPY_MODEL_1be1ce51d1f84518834544e4bc6fde51",
              "IPY_MODEL_7ae10596f3304a318762f96416554414",
              "IPY_MODEL_a6873506b6ea4a05a001e41d961b13a5"
            ],
            "layout": "IPY_MODEL_59804b19e4ba41739343ab9634de71b6"
          }
        },
        "56dfe5fe80a44e98b15c00112f1b88bb": {
          "model_module": "@jupyter-widgets/base",
          "model_module_version": "1.2.0",
          "model_name": "LayoutModel",
          "state": {
            "_model_module": "@jupyter-widgets/base",
            "_model_module_version": "1.2.0",
            "_model_name": "LayoutModel",
            "_view_count": null,
            "_view_module": "@jupyter-widgets/base",
            "_view_module_version": "1.2.0",
            "_view_name": "LayoutView",
            "align_content": null,
            "align_items": null,
            "align_self": null,
            "border": null,
            "bottom": null,
            "display": null,
            "flex": null,
            "flex_flow": null,
            "grid_area": null,
            "grid_auto_columns": null,
            "grid_auto_flow": null,
            "grid_auto_rows": null,
            "grid_column": null,
            "grid_gap": null,
            "grid_row": null,
            "grid_template_areas": null,
            "grid_template_columns": null,
            "grid_template_rows": null,
            "height": null,
            "justify_content": null,
            "justify_items": null,
            "left": null,
            "margin": null,
            "max_height": null,
            "max_width": null,
            "min_height": null,
            "min_width": null,
            "object_fit": null,
            "object_position": null,
            "order": null,
            "overflow": null,
            "overflow_x": null,
            "overflow_y": null,
            "padding": null,
            "right": null,
            "top": null,
            "visibility": null,
            "width": null
          }
        },
        "59804b19e4ba41739343ab9634de71b6": {
          "model_module": "@jupyter-widgets/base",
          "model_module_version": "1.2.0",
          "model_name": "LayoutModel",
          "state": {
            "_model_module": "@jupyter-widgets/base",
            "_model_module_version": "1.2.0",
            "_model_name": "LayoutModel",
            "_view_count": null,
            "_view_module": "@jupyter-widgets/base",
            "_view_module_version": "1.2.0",
            "_view_name": "LayoutView",
            "align_content": null,
            "align_items": null,
            "align_self": null,
            "border": null,
            "bottom": null,
            "display": null,
            "flex": null,
            "flex_flow": null,
            "grid_area": null,
            "grid_auto_columns": null,
            "grid_auto_flow": null,
            "grid_auto_rows": null,
            "grid_column": null,
            "grid_gap": null,
            "grid_row": null,
            "grid_template_areas": null,
            "grid_template_columns": null,
            "grid_template_rows": null,
            "height": null,
            "justify_content": null,
            "justify_items": null,
            "left": null,
            "margin": null,
            "max_height": null,
            "max_width": null,
            "min_height": null,
            "min_width": null,
            "object_fit": null,
            "object_position": null,
            "order": null,
            "overflow": null,
            "overflow_x": null,
            "overflow_y": null,
            "padding": null,
            "right": null,
            "top": null,
            "visibility": null,
            "width": null
          }
        },
        "5f241736987b44728098ede535cb36ea": {
          "model_module": "@jupyter-widgets/base",
          "model_module_version": "1.2.0",
          "model_name": "LayoutModel",
          "state": {
            "_model_module": "@jupyter-widgets/base",
            "_model_module_version": "1.2.0",
            "_model_name": "LayoutModel",
            "_view_count": null,
            "_view_module": "@jupyter-widgets/base",
            "_view_module_version": "1.2.0",
            "_view_name": "LayoutView",
            "align_content": null,
            "align_items": null,
            "align_self": null,
            "border": null,
            "bottom": null,
            "display": null,
            "flex": null,
            "flex_flow": null,
            "grid_area": null,
            "grid_auto_columns": null,
            "grid_auto_flow": null,
            "grid_auto_rows": null,
            "grid_column": null,
            "grid_gap": null,
            "grid_row": null,
            "grid_template_areas": null,
            "grid_template_columns": null,
            "grid_template_rows": null,
            "height": null,
            "justify_content": null,
            "justify_items": null,
            "left": null,
            "margin": null,
            "max_height": null,
            "max_width": null,
            "min_height": null,
            "min_width": null,
            "object_fit": null,
            "object_position": null,
            "order": null,
            "overflow": null,
            "overflow_x": null,
            "overflow_y": null,
            "padding": null,
            "right": null,
            "top": null,
            "visibility": null,
            "width": null
          }
        },
        "5f7fb3df663b408abef34d54c97488c6": {
          "model_module": "@jupyter-widgets/controls",
          "model_module_version": "1.5.0",
          "model_name": "DescriptionStyleModel",
          "state": {
            "_model_module": "@jupyter-widgets/controls",
            "_model_module_version": "1.5.0",
            "_model_name": "DescriptionStyleModel",
            "_view_count": null,
            "_view_module": "@jupyter-widgets/base",
            "_view_module_version": "1.2.0",
            "_view_name": "StyleView",
            "description_width": ""
          }
        },
        "615a1c8b127e4523adcf58ed61f141ea": {
          "model_module": "@jupyter-widgets/base",
          "model_module_version": "1.2.0",
          "model_name": "LayoutModel",
          "state": {
            "_model_module": "@jupyter-widgets/base",
            "_model_module_version": "1.2.0",
            "_model_name": "LayoutModel",
            "_view_count": null,
            "_view_module": "@jupyter-widgets/base",
            "_view_module_version": "1.2.0",
            "_view_name": "LayoutView",
            "align_content": null,
            "align_items": null,
            "align_self": null,
            "border": null,
            "bottom": null,
            "display": null,
            "flex": null,
            "flex_flow": null,
            "grid_area": null,
            "grid_auto_columns": null,
            "grid_auto_flow": null,
            "grid_auto_rows": null,
            "grid_column": null,
            "grid_gap": null,
            "grid_row": null,
            "grid_template_areas": null,
            "grid_template_columns": null,
            "grid_template_rows": null,
            "height": null,
            "justify_content": null,
            "justify_items": null,
            "left": null,
            "margin": null,
            "max_height": null,
            "max_width": null,
            "min_height": null,
            "min_width": null,
            "object_fit": null,
            "object_position": null,
            "order": null,
            "overflow": null,
            "overflow_x": null,
            "overflow_y": null,
            "padding": null,
            "right": null,
            "top": null,
            "visibility": null,
            "width": null
          }
        },
        "6252bf575e6d42d98a597635cfef14d6": {
          "model_module": "@jupyter-widgets/controls",
          "model_module_version": "1.5.0",
          "model_name": "HTMLModel",
          "state": {
            "_dom_classes": [],
            "_model_module": "@jupyter-widgets/controls",
            "_model_module_version": "1.5.0",
            "_model_name": "HTMLModel",
            "_view_count": null,
            "_view_module": "@jupyter-widgets/controls",
            "_view_module_version": "1.5.0",
            "_view_name": "HTMLView",
            "description": "",
            "description_tooltip": null,
            "layout": "IPY_MODEL_b3a9d493207b4e128aadfc8b466f9afa",
            "placeholder": "​",
            "style": "IPY_MODEL_9dd530e3dd2c4b0bbbd5b7f563a6f954",
            "value": "model.safetensors: 100%"
          }
        },
        "70003da89a224cd6bef3cddb0dd97872": {
          "model_module": "@jupyter-widgets/controls",
          "model_module_version": "1.5.0",
          "model_name": "DescriptionStyleModel",
          "state": {
            "_model_module": "@jupyter-widgets/controls",
            "_model_module_version": "1.5.0",
            "_model_name": "DescriptionStyleModel",
            "_view_count": null,
            "_view_module": "@jupyter-widgets/base",
            "_view_module_version": "1.2.0",
            "_view_name": "StyleView",
            "description_width": ""
          }
        },
        "7ae10596f3304a318762f96416554414": {
          "model_module": "@jupyter-widgets/controls",
          "model_module_version": "1.5.0",
          "model_name": "FloatProgressModel",
          "state": {
            "_dom_classes": [],
            "_model_module": "@jupyter-widgets/controls",
            "_model_module_version": "1.5.0",
            "_model_name": "FloatProgressModel",
            "_view_count": null,
            "_view_module": "@jupyter-widgets/controls",
            "_view_module_version": "1.5.0",
            "_view_name": "ProgressView",
            "bar_style": "success",
            "description": "",
            "description_tooltip": null,
            "layout": "IPY_MODEL_1ed964d2d396446583bcc59a610a408b",
            "max": 274,
            "min": 0,
            "orientation": "horizontal",
            "style": "IPY_MODEL_d6ce8db106bc460dbcd84f2931c0d46d",
            "value": 274
          }
        },
        "838f2fcd352c4fc58f48f6bcd07d2013": {
          "model_module": "@jupyter-widgets/base",
          "model_module_version": "1.2.0",
          "model_name": "LayoutModel",
          "state": {
            "_model_module": "@jupyter-widgets/base",
            "_model_module_version": "1.2.0",
            "_model_name": "LayoutModel",
            "_view_count": null,
            "_view_module": "@jupyter-widgets/base",
            "_view_module_version": "1.2.0",
            "_view_name": "LayoutView",
            "align_content": null,
            "align_items": null,
            "align_self": null,
            "border": null,
            "bottom": null,
            "display": null,
            "flex": null,
            "flex_flow": null,
            "grid_area": null,
            "grid_auto_columns": null,
            "grid_auto_flow": null,
            "grid_auto_rows": null,
            "grid_column": null,
            "grid_gap": null,
            "grid_row": null,
            "grid_template_areas": null,
            "grid_template_columns": null,
            "grid_template_rows": null,
            "height": null,
            "justify_content": null,
            "justify_items": null,
            "left": null,
            "margin": null,
            "max_height": null,
            "max_width": null,
            "min_height": null,
            "min_width": null,
            "object_fit": null,
            "object_position": null,
            "order": null,
            "overflow": null,
            "overflow_x": null,
            "overflow_y": null,
            "padding": null,
            "right": null,
            "top": null,
            "visibility": null,
            "width": null
          }
        },
        "86c9afe85a2a42d8a1d8fd81c795be64": {
          "model_module": "@jupyter-widgets/controls",
          "model_module_version": "1.5.0",
          "model_name": "DescriptionStyleModel",
          "state": {
            "_model_module": "@jupyter-widgets/controls",
            "_model_module_version": "1.5.0",
            "_model_name": "DescriptionStyleModel",
            "_view_count": null,
            "_view_module": "@jupyter-widgets/base",
            "_view_module_version": "1.2.0",
            "_view_name": "StyleView",
            "description_width": ""
          }
        },
        "8adbb7b3ae1042cfaa21c00f5fe1626a": {
          "model_module": "@jupyter-widgets/base",
          "model_module_version": "1.2.0",
          "model_name": "LayoutModel",
          "state": {
            "_model_module": "@jupyter-widgets/base",
            "_model_module_version": "1.2.0",
            "_model_name": "LayoutModel",
            "_view_count": null,
            "_view_module": "@jupyter-widgets/base",
            "_view_module_version": "1.2.0",
            "_view_name": "LayoutView",
            "align_content": null,
            "align_items": null,
            "align_self": null,
            "border": null,
            "bottom": null,
            "display": null,
            "flex": null,
            "flex_flow": null,
            "grid_area": null,
            "grid_auto_columns": null,
            "grid_auto_flow": null,
            "grid_auto_rows": null,
            "grid_column": null,
            "grid_gap": null,
            "grid_row": null,
            "grid_template_areas": null,
            "grid_template_columns": null,
            "grid_template_rows": null,
            "height": null,
            "justify_content": null,
            "justify_items": null,
            "left": null,
            "margin": null,
            "max_height": null,
            "max_width": null,
            "min_height": null,
            "min_width": null,
            "object_fit": null,
            "object_position": null,
            "order": null,
            "overflow": null,
            "overflow_x": null,
            "overflow_y": null,
            "padding": null,
            "right": null,
            "top": null,
            "visibility": null,
            "width": null
          }
        },
        "8c48d7c4c0144b338dd328dedf20041b": {
          "model_module": "@jupyter-widgets/controls",
          "model_module_version": "1.5.0",
          "model_name": "HTMLModel",
          "state": {
            "_dom_classes": [],
            "_model_module": "@jupyter-widgets/controls",
            "_model_module_version": "1.5.0",
            "_model_name": "HTMLModel",
            "_view_count": null,
            "_view_module": "@jupyter-widgets/controls",
            "_view_module_version": "1.5.0",
            "_view_name": "HTMLView",
            "description": "",
            "description_tooltip": null,
            "layout": "IPY_MODEL_d4f65f12bba84cfbb396853b7f31bd7c",
            "placeholder": "​",
            "style": "IPY_MODEL_16d37e43232746319c9e047ecc1a0fc9",
            "value": "yolox_l0.05.onnx: 100%"
          }
        },
        "8cf45c93a1dd430dbe8b5319b740d0ee": {
          "model_module": "@jupyter-widgets/controls",
          "model_module_version": "1.5.0",
          "model_name": "HBoxModel",
          "state": {
            "_dom_classes": [],
            "_model_module": "@jupyter-widgets/controls",
            "_model_module_version": "1.5.0",
            "_model_name": "HBoxModel",
            "_view_count": null,
            "_view_module": "@jupyter-widgets/controls",
            "_view_module_version": "1.5.0",
            "_view_name": "HBoxView",
            "box_style": "",
            "children": [
              "IPY_MODEL_baacb12a67d5465cadcd9c45ef3c20d5",
              "IPY_MODEL_dab757ac3f17419fb0955fedac9fe088",
              "IPY_MODEL_dfa294aec01b48a28d9c580eb17a0608"
            ],
            "layout": "IPY_MODEL_615a1c8b127e4523adcf58ed61f141ea"
          }
        },
        "8e54f9a7153f429293a93bac514f2ecc": {
          "model_module": "@jupyter-widgets/base",
          "model_module_version": "1.2.0",
          "model_name": "LayoutModel",
          "state": {
            "_model_module": "@jupyter-widgets/base",
            "_model_module_version": "1.2.0",
            "_model_name": "LayoutModel",
            "_view_count": null,
            "_view_module": "@jupyter-widgets/base",
            "_view_module_version": "1.2.0",
            "_view_name": "LayoutView",
            "align_content": null,
            "align_items": null,
            "align_self": null,
            "border": null,
            "bottom": null,
            "display": null,
            "flex": null,
            "flex_flow": null,
            "grid_area": null,
            "grid_auto_columns": null,
            "grid_auto_flow": null,
            "grid_auto_rows": null,
            "grid_column": null,
            "grid_gap": null,
            "grid_row": null,
            "grid_template_areas": null,
            "grid_template_columns": null,
            "grid_template_rows": null,
            "height": null,
            "justify_content": null,
            "justify_items": null,
            "left": null,
            "margin": null,
            "max_height": null,
            "max_width": null,
            "min_height": null,
            "min_width": null,
            "object_fit": null,
            "object_position": null,
            "order": null,
            "overflow": null,
            "overflow_x": null,
            "overflow_y": null,
            "padding": null,
            "right": null,
            "top": null,
            "visibility": null,
            "width": null
          }
        },
        "9bf86ceeabc346688390b59fb01265c1": {
          "model_module": "@jupyter-widgets/controls",
          "model_module_version": "1.5.0",
          "model_name": "HBoxModel",
          "state": {
            "_dom_classes": [],
            "_model_module": "@jupyter-widgets/controls",
            "_model_module_version": "1.5.0",
            "_model_name": "HBoxModel",
            "_view_count": null,
            "_view_module": "@jupyter-widgets/controls",
            "_view_module_version": "1.5.0",
            "_view_name": "HBoxView",
            "box_style": "",
            "children": [
              "IPY_MODEL_103307e22b5c41c2a9dacaac74e07792",
              "IPY_MODEL_c6624b2fe6154e4888aa47cecc46204d",
              "IPY_MODEL_c9206cb6b40241bf8246b60fb9c8728e"
            ],
            "layout": "IPY_MODEL_4842320fb38f492b900a07b7af541015"
          }
        },
        "9dd530e3dd2c4b0bbbd5b7f563a6f954": {
          "model_module": "@jupyter-widgets/controls",
          "model_module_version": "1.5.0",
          "model_name": "DescriptionStyleModel",
          "state": {
            "_model_module": "@jupyter-widgets/controls",
            "_model_module_version": "1.5.0",
            "_model_name": "DescriptionStyleModel",
            "_view_count": null,
            "_view_module": "@jupyter-widgets/base",
            "_view_module_version": "1.2.0",
            "_view_name": "StyleView",
            "description_width": ""
          }
        },
        "a096b58dbe13413ab52953828a414f02": {
          "model_module": "@jupyter-widgets/controls",
          "model_module_version": "1.5.0",
          "model_name": "HBoxModel",
          "state": {
            "_dom_classes": [],
            "_model_module": "@jupyter-widgets/controls",
            "_model_module_version": "1.5.0",
            "_model_name": "HBoxModel",
            "_view_count": null,
            "_view_module": "@jupyter-widgets/controls",
            "_view_module_version": "1.5.0",
            "_view_name": "HBoxView",
            "box_style": "",
            "children": [
              "IPY_MODEL_8c48d7c4c0144b338dd328dedf20041b",
              "IPY_MODEL_188950153f70433692118066065d1708",
              "IPY_MODEL_3f5313dd6706453b9f3b893803e2d5bf"
            ],
            "layout": "IPY_MODEL_373c2010df704b5f86abe7b257e5dc03"
          }
        },
        "a0d2f89967e247de87a5db9ec64905e0": {
          "model_module": "@jupyter-widgets/controls",
          "model_module_version": "1.5.0",
          "model_name": "HBoxModel",
          "state": {
            "_dom_classes": [],
            "_model_module": "@jupyter-widgets/controls",
            "_model_module_version": "1.5.0",
            "_model_name": "HBoxModel",
            "_view_count": null,
            "_view_module": "@jupyter-widgets/controls",
            "_view_module_version": "1.5.0",
            "_view_name": "HBoxView",
            "box_style": "",
            "children": [
              "IPY_MODEL_6252bf575e6d42d98a597635cfef14d6",
              "IPY_MODEL_ba569c290911468fbca5362b006cb3fd",
              "IPY_MODEL_0d71c7d42e5e465e8e096ff5d05e070d"
            ],
            "layout": "IPY_MODEL_cb55d39a6f26406e88790b2886b419b6"
          }
        },
        "a2b0b00ecd5341ad9b32ac47b8647912": {
          "model_module": "@jupyter-widgets/controls",
          "model_module_version": "1.5.0",
          "model_name": "ProgressStyleModel",
          "state": {
            "_model_module": "@jupyter-widgets/controls",
            "_model_module_version": "1.5.0",
            "_model_name": "ProgressStyleModel",
            "_view_count": null,
            "_view_module": "@jupyter-widgets/base",
            "_view_module_version": "1.2.0",
            "_view_name": "StyleView",
            "bar_color": null,
            "description_width": ""
          }
        },
        "a4c93a8da4b247b8b8ee9af642826761": {
          "model_module": "@jupyter-widgets/controls",
          "model_module_version": "1.5.0",
          "model_name": "DescriptionStyleModel",
          "state": {
            "_model_module": "@jupyter-widgets/controls",
            "_model_module_version": "1.5.0",
            "_model_name": "DescriptionStyleModel",
            "_view_count": null,
            "_view_module": "@jupyter-widgets/base",
            "_view_module_version": "1.2.0",
            "_view_name": "StyleView",
            "description_width": ""
          }
        },
        "a6873506b6ea4a05a001e41d961b13a5": {
          "model_module": "@jupyter-widgets/controls",
          "model_module_version": "1.5.0",
          "model_name": "HTMLModel",
          "state": {
            "_dom_classes": [],
            "_model_module": "@jupyter-widgets/controls",
            "_model_module_version": "1.5.0",
            "_model_name": "HTMLModel",
            "_view_count": null,
            "_view_module": "@jupyter-widgets/controls",
            "_view_module_version": "1.5.0",
            "_view_name": "HTMLView",
            "description": "",
            "description_tooltip": null,
            "layout": "IPY_MODEL_ea8ec726d68a4aa786f7862c7f2f1414",
            "placeholder": "​",
            "style": "IPY_MODEL_3ce6d18972ab48b498412795662b2af7",
            "value": " 274/274 [00:00&lt;00:00, 16.9kB/s]"
          }
        },
        "adc09cf28269494d9fdc79b715455fd5": {
          "model_module": "@jupyter-widgets/controls",
          "model_module_version": "1.5.0",
          "model_name": "DescriptionStyleModel",
          "state": {
            "_model_module": "@jupyter-widgets/controls",
            "_model_module_version": "1.5.0",
            "_model_name": "DescriptionStyleModel",
            "_view_count": null,
            "_view_module": "@jupyter-widgets/base",
            "_view_module_version": "1.2.0",
            "_view_name": "StyleView",
            "description_width": ""
          }
        },
        "b3a9d493207b4e128aadfc8b466f9afa": {
          "model_module": "@jupyter-widgets/base",
          "model_module_version": "1.2.0",
          "model_name": "LayoutModel",
          "state": {
            "_model_module": "@jupyter-widgets/base",
            "_model_module_version": "1.2.0",
            "_model_name": "LayoutModel",
            "_view_count": null,
            "_view_module": "@jupyter-widgets/base",
            "_view_module_version": "1.2.0",
            "_view_name": "LayoutView",
            "align_content": null,
            "align_items": null,
            "align_self": null,
            "border": null,
            "bottom": null,
            "display": null,
            "flex": null,
            "flex_flow": null,
            "grid_area": null,
            "grid_auto_columns": null,
            "grid_auto_flow": null,
            "grid_auto_rows": null,
            "grid_column": null,
            "grid_gap": null,
            "grid_row": null,
            "grid_template_areas": null,
            "grid_template_columns": null,
            "grid_template_rows": null,
            "height": null,
            "justify_content": null,
            "justify_items": null,
            "left": null,
            "margin": null,
            "max_height": null,
            "max_width": null,
            "min_height": null,
            "min_width": null,
            "object_fit": null,
            "object_position": null,
            "order": null,
            "overflow": null,
            "overflow_x": null,
            "overflow_y": null,
            "padding": null,
            "right": null,
            "top": null,
            "visibility": null,
            "width": null
          }
        },
        "b79bb05353ed41728c82381b1c312bf5": {
          "model_module": "@jupyter-widgets/base",
          "model_module_version": "1.2.0",
          "model_name": "LayoutModel",
          "state": {
            "_model_module": "@jupyter-widgets/base",
            "_model_module_version": "1.2.0",
            "_model_name": "LayoutModel",
            "_view_count": null,
            "_view_module": "@jupyter-widgets/base",
            "_view_module_version": "1.2.0",
            "_view_name": "LayoutView",
            "align_content": null,
            "align_items": null,
            "align_self": null,
            "border": null,
            "bottom": null,
            "display": null,
            "flex": null,
            "flex_flow": null,
            "grid_area": null,
            "grid_auto_columns": null,
            "grid_auto_flow": null,
            "grid_auto_rows": null,
            "grid_column": null,
            "grid_gap": null,
            "grid_row": null,
            "grid_template_areas": null,
            "grid_template_columns": null,
            "grid_template_rows": null,
            "height": null,
            "justify_content": null,
            "justify_items": null,
            "left": null,
            "margin": null,
            "max_height": null,
            "max_width": null,
            "min_height": null,
            "min_width": null,
            "object_fit": null,
            "object_position": null,
            "order": null,
            "overflow": null,
            "overflow_x": null,
            "overflow_y": null,
            "padding": null,
            "right": null,
            "top": null,
            "visibility": null,
            "width": null
          }
        },
        "ba569c290911468fbca5362b006cb3fd": {
          "model_module": "@jupyter-widgets/controls",
          "model_module_version": "1.5.0",
          "model_name": "FloatProgressModel",
          "state": {
            "_dom_classes": [],
            "_model_module": "@jupyter-widgets/controls",
            "_model_module_version": "1.5.0",
            "_model_name": "FloatProgressModel",
            "_view_count": null,
            "_view_module": "@jupyter-widgets/controls",
            "_view_module_version": "1.5.0",
            "_view_name": "ProgressView",
            "bar_style": "success",
            "description": "",
            "description_tooltip": null,
            "layout": "IPY_MODEL_385083424d3a4e9fa3778080f2acaf5f",
            "max": 46807446,
            "min": 0,
            "orientation": "horizontal",
            "style": "IPY_MODEL_ed1838e7b4c24ba28944020b6c109c15",
            "value": 46807446
          }
        },
        "baacb12a67d5465cadcd9c45ef3c20d5": {
          "model_module": "@jupyter-widgets/controls",
          "model_module_version": "1.5.0",
          "model_name": "HTMLModel",
          "state": {
            "_dom_classes": [],
            "_model_module": "@jupyter-widgets/controls",
            "_model_module_version": "1.5.0",
            "_model_name": "HTMLModel",
            "_view_count": null,
            "_view_module": "@jupyter-widgets/controls",
            "_view_module_version": "1.5.0",
            "_view_name": "HTMLView",
            "description": "",
            "description_tooltip": null,
            "layout": "IPY_MODEL_ee53cff4ee4f41d3a5719f7c5780cd1e",
            "placeholder": "​",
            "style": "IPY_MODEL_86c9afe85a2a42d8a1d8fd81c795be64",
            "value": "model.safetensors: 100%"
          }
        },
        "bb86c7361c9c4d998f7655c4eb6dfa27": {
          "model_module": "@jupyter-widgets/base",
          "model_module_version": "1.2.0",
          "model_name": "LayoutModel",
          "state": {
            "_model_module": "@jupyter-widgets/base",
            "_model_module_version": "1.2.0",
            "_model_name": "LayoutModel",
            "_view_count": null,
            "_view_module": "@jupyter-widgets/base",
            "_view_module_version": "1.2.0",
            "_view_name": "LayoutView",
            "align_content": null,
            "align_items": null,
            "align_self": null,
            "border": null,
            "bottom": null,
            "display": null,
            "flex": null,
            "flex_flow": null,
            "grid_area": null,
            "grid_auto_columns": null,
            "grid_auto_flow": null,
            "grid_auto_rows": null,
            "grid_column": null,
            "grid_gap": null,
            "grid_row": null,
            "grid_template_areas": null,
            "grid_template_columns": null,
            "grid_template_rows": null,
            "height": null,
            "justify_content": null,
            "justify_items": null,
            "left": null,
            "margin": null,
            "max_height": null,
            "max_width": null,
            "min_height": null,
            "min_width": null,
            "object_fit": null,
            "object_position": null,
            "order": null,
            "overflow": null,
            "overflow_x": null,
            "overflow_y": null,
            "padding": null,
            "right": null,
            "top": null,
            "visibility": null,
            "width": null
          }
        },
        "c6624b2fe6154e4888aa47cecc46204d": {
          "model_module": "@jupyter-widgets/controls",
          "model_module_version": "1.5.0",
          "model_name": "FloatProgressModel",
          "state": {
            "_dom_classes": [],
            "_model_module": "@jupyter-widgets/controls",
            "_model_module_version": "1.5.0",
            "_model_name": "FloatProgressModel",
            "_view_count": null,
            "_view_module": "@jupyter-widgets/controls",
            "_view_module_version": "1.5.0",
            "_view_name": "ProgressView",
            "bar_style": "success",
            "description": "",
            "description_tooltip": null,
            "layout": "IPY_MODEL_d19ead1b16df4f3c8cbfb8cf1c13befe",
            "max": 1469,
            "min": 0,
            "orientation": "horizontal",
            "style": "IPY_MODEL_fb6001c2b7264781afaa4e547bf30d78",
            "value": 1469
          }
        },
        "c9206cb6b40241bf8246b60fb9c8728e": {
          "model_module": "@jupyter-widgets/controls",
          "model_module_version": "1.5.0",
          "model_name": "HTMLModel",
          "state": {
            "_dom_classes": [],
            "_model_module": "@jupyter-widgets/controls",
            "_model_module_version": "1.5.0",
            "_model_name": "HTMLModel",
            "_view_count": null,
            "_view_module": "@jupyter-widgets/controls",
            "_view_module_version": "1.5.0",
            "_view_name": "HTMLView",
            "description": "",
            "description_tooltip": null,
            "layout": "IPY_MODEL_8e54f9a7153f429293a93bac514f2ecc",
            "placeholder": "​",
            "style": "IPY_MODEL_5f7fb3df663b408abef34d54c97488c6",
            "value": " 1.47k/1.47k [00:00&lt;00:00, 83.7kB/s]"
          }
        },
        "cb55d39a6f26406e88790b2886b419b6": {
          "model_module": "@jupyter-widgets/base",
          "model_module_version": "1.2.0",
          "model_name": "LayoutModel",
          "state": {
            "_model_module": "@jupyter-widgets/base",
            "_model_module_version": "1.2.0",
            "_model_name": "LayoutModel",
            "_view_count": null,
            "_view_module": "@jupyter-widgets/base",
            "_view_module_version": "1.2.0",
            "_view_name": "LayoutView",
            "align_content": null,
            "align_items": null,
            "align_self": null,
            "border": null,
            "bottom": null,
            "display": null,
            "flex": null,
            "flex_flow": null,
            "grid_area": null,
            "grid_auto_columns": null,
            "grid_auto_flow": null,
            "grid_auto_rows": null,
            "grid_column": null,
            "grid_gap": null,
            "grid_row": null,
            "grid_template_areas": null,
            "grid_template_columns": null,
            "grid_template_rows": null,
            "height": null,
            "justify_content": null,
            "justify_items": null,
            "left": null,
            "margin": null,
            "max_height": null,
            "max_width": null,
            "min_height": null,
            "min_width": null,
            "object_fit": null,
            "object_position": null,
            "order": null,
            "overflow": null,
            "overflow_x": null,
            "overflow_y": null,
            "padding": null,
            "right": null,
            "top": null,
            "visibility": null,
            "width": null
          }
        },
        "d19ead1b16df4f3c8cbfb8cf1c13befe": {
          "model_module": "@jupyter-widgets/base",
          "model_module_version": "1.2.0",
          "model_name": "LayoutModel",
          "state": {
            "_model_module": "@jupyter-widgets/base",
            "_model_module_version": "1.2.0",
            "_model_name": "LayoutModel",
            "_view_count": null,
            "_view_module": "@jupyter-widgets/base",
            "_view_module_version": "1.2.0",
            "_view_name": "LayoutView",
            "align_content": null,
            "align_items": null,
            "align_self": null,
            "border": null,
            "bottom": null,
            "display": null,
            "flex": null,
            "flex_flow": null,
            "grid_area": null,
            "grid_auto_columns": null,
            "grid_auto_flow": null,
            "grid_auto_rows": null,
            "grid_column": null,
            "grid_gap": null,
            "grid_row": null,
            "grid_template_areas": null,
            "grid_template_columns": null,
            "grid_template_rows": null,
            "height": null,
            "justify_content": null,
            "justify_items": null,
            "left": null,
            "margin": null,
            "max_height": null,
            "max_width": null,
            "min_height": null,
            "min_width": null,
            "object_fit": null,
            "object_position": null,
            "order": null,
            "overflow": null,
            "overflow_x": null,
            "overflow_y": null,
            "padding": null,
            "right": null,
            "top": null,
            "visibility": null,
            "width": null
          }
        },
        "d4f65f12bba84cfbb396853b7f31bd7c": {
          "model_module": "@jupyter-widgets/base",
          "model_module_version": "1.2.0",
          "model_name": "LayoutModel",
          "state": {
            "_model_module": "@jupyter-widgets/base",
            "_model_module_version": "1.2.0",
            "_model_name": "LayoutModel",
            "_view_count": null,
            "_view_module": "@jupyter-widgets/base",
            "_view_module_version": "1.2.0",
            "_view_name": "LayoutView",
            "align_content": null,
            "align_items": null,
            "align_self": null,
            "border": null,
            "bottom": null,
            "display": null,
            "flex": null,
            "flex_flow": null,
            "grid_area": null,
            "grid_auto_columns": null,
            "grid_auto_flow": null,
            "grid_auto_rows": null,
            "grid_column": null,
            "grid_gap": null,
            "grid_row": null,
            "grid_template_areas": null,
            "grid_template_columns": null,
            "grid_template_rows": null,
            "height": null,
            "justify_content": null,
            "justify_items": null,
            "left": null,
            "margin": null,
            "max_height": null,
            "max_width": null,
            "min_height": null,
            "min_width": null,
            "object_fit": null,
            "object_position": null,
            "order": null,
            "overflow": null,
            "overflow_x": null,
            "overflow_y": null,
            "padding": null,
            "right": null,
            "top": null,
            "visibility": null,
            "width": null
          }
        },
        "d6ce8db106bc460dbcd84f2931c0d46d": {
          "model_module": "@jupyter-widgets/controls",
          "model_module_version": "1.5.0",
          "model_name": "ProgressStyleModel",
          "state": {
            "_model_module": "@jupyter-widgets/controls",
            "_model_module_version": "1.5.0",
            "_model_name": "ProgressStyleModel",
            "_view_count": null,
            "_view_module": "@jupyter-widgets/base",
            "_view_module_version": "1.2.0",
            "_view_name": "StyleView",
            "bar_color": null,
            "description_width": ""
          }
        },
        "dab757ac3f17419fb0955fedac9fe088": {
          "model_module": "@jupyter-widgets/controls",
          "model_module_version": "1.5.0",
          "model_name": "FloatProgressModel",
          "state": {
            "_dom_classes": [],
            "_model_module": "@jupyter-widgets/controls",
            "_model_module_version": "1.5.0",
            "_model_name": "FloatProgressModel",
            "_view_count": null,
            "_view_module": "@jupyter-widgets/controls",
            "_view_module_version": "1.5.0",
            "_view_name": "ProgressView",
            "bar_style": "success",
            "description": "",
            "description_tooltip": null,
            "layout": "IPY_MODEL_56dfe5fe80a44e98b15c00112f1b88bb",
            "max": 115434268,
            "min": 0,
            "orientation": "horizontal",
            "style": "IPY_MODEL_a2b0b00ecd5341ad9b32ac47b8647912",
            "value": 115434268
          }
        },
        "dfa294aec01b48a28d9c580eb17a0608": {
          "model_module": "@jupyter-widgets/controls",
          "model_module_version": "1.5.0",
          "model_name": "HTMLModel",
          "state": {
            "_dom_classes": [],
            "_model_module": "@jupyter-widgets/controls",
            "_model_module_version": "1.5.0",
            "_model_name": "HTMLModel",
            "_view_count": null,
            "_view_module": "@jupyter-widgets/controls",
            "_view_module_version": "1.5.0",
            "_view_name": "HTMLView",
            "description": "",
            "description_tooltip": null,
            "layout": "IPY_MODEL_838f2fcd352c4fc58f48f6bcd07d2013",
            "placeholder": "​",
            "style": "IPY_MODEL_adc09cf28269494d9fdc79b715455fd5",
            "value": " 115M/115M [00:01&lt;00:00, 144MB/s]"
          }
        },
        "ea8ec726d68a4aa786f7862c7f2f1414": {
          "model_module": "@jupyter-widgets/base",
          "model_module_version": "1.2.0",
          "model_name": "LayoutModel",
          "state": {
            "_model_module": "@jupyter-widgets/base",
            "_model_module_version": "1.2.0",
            "_model_name": "LayoutModel",
            "_view_count": null,
            "_view_module": "@jupyter-widgets/base",
            "_view_module_version": "1.2.0",
            "_view_name": "LayoutView",
            "align_content": null,
            "align_items": null,
            "align_self": null,
            "border": null,
            "bottom": null,
            "display": null,
            "flex": null,
            "flex_flow": null,
            "grid_area": null,
            "grid_auto_columns": null,
            "grid_auto_flow": null,
            "grid_auto_rows": null,
            "grid_column": null,
            "grid_gap": null,
            "grid_row": null,
            "grid_template_areas": null,
            "grid_template_columns": null,
            "grid_template_rows": null,
            "height": null,
            "justify_content": null,
            "justify_items": null,
            "left": null,
            "margin": null,
            "max_height": null,
            "max_width": null,
            "min_height": null,
            "min_width": null,
            "object_fit": null,
            "object_position": null,
            "order": null,
            "overflow": null,
            "overflow_x": null,
            "overflow_y": null,
            "padding": null,
            "right": null,
            "top": null,
            "visibility": null,
            "width": null
          }
        },
        "ed1838e7b4c24ba28944020b6c109c15": {
          "model_module": "@jupyter-widgets/controls",
          "model_module_version": "1.5.0",
          "model_name": "ProgressStyleModel",
          "state": {
            "_model_module": "@jupyter-widgets/controls",
            "_model_module_version": "1.5.0",
            "_model_name": "ProgressStyleModel",
            "_view_count": null,
            "_view_module": "@jupyter-widgets/base",
            "_view_module_version": "1.2.0",
            "_view_name": "StyleView",
            "bar_color": null,
            "description_width": ""
          }
        },
        "ee53cff4ee4f41d3a5719f7c5780cd1e": {
          "model_module": "@jupyter-widgets/base",
          "model_module_version": "1.2.0",
          "model_name": "LayoutModel",
          "state": {
            "_model_module": "@jupyter-widgets/base",
            "_model_module_version": "1.2.0",
            "_model_name": "LayoutModel",
            "_view_count": null,
            "_view_module": "@jupyter-widgets/base",
            "_view_module_version": "1.2.0",
            "_view_name": "LayoutView",
            "align_content": null,
            "align_items": null,
            "align_self": null,
            "border": null,
            "bottom": null,
            "display": null,
            "flex": null,
            "flex_flow": null,
            "grid_area": null,
            "grid_auto_columns": null,
            "grid_auto_flow": null,
            "grid_auto_rows": null,
            "grid_column": null,
            "grid_gap": null,
            "grid_row": null,
            "grid_template_areas": null,
            "grid_template_columns": null,
            "grid_template_rows": null,
            "height": null,
            "justify_content": null,
            "justify_items": null,
            "left": null,
            "margin": null,
            "max_height": null,
            "max_width": null,
            "min_height": null,
            "min_width": null,
            "object_fit": null,
            "object_position": null,
            "order": null,
            "overflow": null,
            "overflow_x": null,
            "overflow_y": null,
            "padding": null,
            "right": null,
            "top": null,
            "visibility": null,
            "width": null
          }
        },
        "fa737c9c4ef6453f87219f2eb6732cff": {
          "model_module": "@jupyter-widgets/controls",
          "model_module_version": "1.5.0",
          "model_name": "ProgressStyleModel",
          "state": {
            "_model_module": "@jupyter-widgets/controls",
            "_model_module_version": "1.5.0",
            "_model_name": "ProgressStyleModel",
            "_view_count": null,
            "_view_module": "@jupyter-widgets/base",
            "_view_module_version": "1.2.0",
            "_view_name": "StyleView",
            "bar_color": null,
            "description_width": ""
          }
        },
        "fb6001c2b7264781afaa4e547bf30d78": {
          "model_module": "@jupyter-widgets/controls",
          "model_module_version": "1.5.0",
          "model_name": "ProgressStyleModel",
          "state": {
            "_model_module": "@jupyter-widgets/controls",
            "_model_module_version": "1.5.0",
            "_model_name": "ProgressStyleModel",
            "_view_count": null,
            "_view_module": "@jupyter-widgets/base",
            "_view_module_version": "1.2.0",
            "_view_name": "StyleView",
            "bar_color": null,
            "description_width": ""
          }
        }
      }
    }
  },
  "nbformat": 4,
  "nbformat_minor": 0
}
